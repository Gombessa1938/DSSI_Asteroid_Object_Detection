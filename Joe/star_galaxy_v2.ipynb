{
 "cells": [
  {
   "cell_type": "code",
   "execution_count": 1,
   "metadata": {},
   "outputs": [
    {
     "name": "stdout",
     "output_type": "stream",
     "text": [
      "Mon Jul 12 21:07:53 2021       \r\n",
      "+-----------------------------------------------------------------------------+\r\n",
      "| NVIDIA-SMI 465.19.01    Driver Version: 465.19.01    CUDA Version: 11.3     |\r\n",
      "|-------------------------------+----------------------+----------------------+\r\n",
      "| GPU  Name        Persistence-M| Bus-Id        Disp.A | Volatile Uncorr. ECC |\r\n",
      "| Fan  Temp  Perf  Pwr:Usage/Cap|         Memory-Usage | GPU-Util  Compute M. |\r\n",
      "|                               |                      |               MIG M. |\r\n",
      "|===============================+======================+======================|\r\n",
      "|   0  NVIDIA Tesla M60    On   | 00000000:04:00.0 Off |                    0 |\r\n",
      "| N/A   32C    P0    41W / 150W |      0MiB /  7618MiB |      0%   E. Process |\r\n",
      "|                               |                      |                  N/A |\r\n",
      "+-------------------------------+----------------------+----------------------+\r\n",
      "                                                                               \r\n",
      "+-----------------------------------------------------------------------------+\r\n",
      "| Processes:                                                                  |\r\n",
      "|  GPU   GI   CI        PID   Type   Process name                  GPU Memory |\r\n",
      "|        ID   ID                                                   Usage      |\r\n",
      "|=============================================================================|\r\n",
      "|  No running processes found                                                 |\r\n",
      "+-----------------------------------------------------------------------------+\r\n"
     ]
    }
   ],
   "source": [
    "import pandas as pd\n",
    "import numpy as np\n",
    "from tqdm import tqdm\n",
    "import matplotlib.pyplot as plt\n",
    "!nvidia-smi"
   ]
  },
  {
   "cell_type": "markdown",
   "metadata": {},
   "source": [
    "## load data"
   ]
  },
  {
   "cell_type": "code",
   "execution_count": 2,
   "metadata": {
    "scrolled": false
   },
   "outputs": [],
   "source": [
    "galstar = pd.read_csv(\"data_and_information/galstar.csv\")\n",
    "galstar = galstar.iloc[:,1:]\n",
    "galstar_labels = galstar['y']\n",
    "galstar_images = galstar.iloc[:,1:]"
   ]
  },
  {
   "cell_type": "code",
   "execution_count": 3,
   "metadata": {},
   "outputs": [
    {
     "data": {
      "text/html": [
       "<div>\n",
       "<style scoped>\n",
       "    .dataframe tbody tr th:only-of-type {\n",
       "        vertical-align: middle;\n",
       "    }\n",
       "\n",
       "    .dataframe tbody tr th {\n",
       "        vertical-align: top;\n",
       "    }\n",
       "\n",
       "    .dataframe thead th {\n",
       "        text-align: right;\n",
       "    }\n",
       "</style>\n",
       "<table border=\"1\" class=\"dataframe\">\n",
       "  <thead>\n",
       "    <tr style=\"text-align: right;\">\n",
       "      <th></th>\n",
       "      <th>Unnamed: 2</th>\n",
       "      <th>Unnamed: 3</th>\n",
       "      <th>Unnamed: 4</th>\n",
       "      <th>Unnamed: 5</th>\n",
       "      <th>Unnamed: 6</th>\n",
       "      <th>Unnamed: 7</th>\n",
       "      <th>Unnamed: 8</th>\n",
       "      <th>Unnamed: 9</th>\n",
       "      <th>Unnamed: 10</th>\n",
       "      <th>Unnamed: 11</th>\n",
       "      <th>...</th>\n",
       "      <th>Unnamed: 5400</th>\n",
       "      <th>Unnamed: 5401</th>\n",
       "      <th>Unnamed: 5402</th>\n",
       "      <th>Unnamed: 5403</th>\n",
       "      <th>Unnamed: 5404</th>\n",
       "      <th>Unnamed: 5405</th>\n",
       "      <th>Unnamed: 5406</th>\n",
       "      <th>Unnamed: 5407</th>\n",
       "      <th>Unnamed: 5408</th>\n",
       "      <th>Unnamed: 5409</th>\n",
       "    </tr>\n",
       "  </thead>\n",
       "  <tbody>\n",
       "    <tr>\n",
       "      <td>0</td>\n",
       "      <td>0.005208</td>\n",
       "      <td>0.005283</td>\n",
       "      <td>0.005284</td>\n",
       "      <td>0.005249</td>\n",
       "      <td>0.005268</td>\n",
       "      <td>0.005311</td>\n",
       "      <td>0.005342</td>\n",
       "      <td>0.005191</td>\n",
       "      <td>0.005247</td>\n",
       "      <td>0.005321</td>\n",
       "      <td>...</td>\n",
       "      <td>0.005257</td>\n",
       "      <td>0.005257</td>\n",
       "      <td>0.005257</td>\n",
       "      <td>0.005257</td>\n",
       "      <td>0.005257</td>\n",
       "      <td>0.005257</td>\n",
       "      <td>0.005257</td>\n",
       "      <td>0.005257</td>\n",
       "      <td>0.005257</td>\n",
       "      <td>0.005257</td>\n",
       "    </tr>\n",
       "    <tr>\n",
       "      <td>1</td>\n",
       "      <td>0.005264</td>\n",
       "      <td>0.005220</td>\n",
       "      <td>0.005248</td>\n",
       "      <td>0.005340</td>\n",
       "      <td>0.005237</td>\n",
       "      <td>0.005248</td>\n",
       "      <td>0.005251</td>\n",
       "      <td>0.005168</td>\n",
       "      <td>0.005227</td>\n",
       "      <td>0.005344</td>\n",
       "      <td>...</td>\n",
       "      <td>0.005257</td>\n",
       "      <td>0.005257</td>\n",
       "      <td>0.005257</td>\n",
       "      <td>0.005257</td>\n",
       "      <td>0.005257</td>\n",
       "      <td>0.005257</td>\n",
       "      <td>0.005257</td>\n",
       "      <td>0.005257</td>\n",
       "      <td>0.005257</td>\n",
       "      <td>0.005257</td>\n",
       "    </tr>\n",
       "    <tr>\n",
       "      <td>2</td>\n",
       "      <td>0.005314</td>\n",
       "      <td>0.005302</td>\n",
       "      <td>0.005279</td>\n",
       "      <td>0.005258</td>\n",
       "      <td>0.005294</td>\n",
       "      <td>0.005229</td>\n",
       "      <td>0.005281</td>\n",
       "      <td>0.005198</td>\n",
       "      <td>0.005292</td>\n",
       "      <td>0.005332</td>\n",
       "      <td>...</td>\n",
       "      <td>0.005257</td>\n",
       "      <td>0.005257</td>\n",
       "      <td>0.005257</td>\n",
       "      <td>0.005257</td>\n",
       "      <td>0.005257</td>\n",
       "      <td>0.005257</td>\n",
       "      <td>0.005257</td>\n",
       "      <td>0.005257</td>\n",
       "      <td>0.005257</td>\n",
       "      <td>0.005257</td>\n",
       "    </tr>\n",
       "    <tr>\n",
       "      <td>3</td>\n",
       "      <td>0.005190</td>\n",
       "      <td>0.005255</td>\n",
       "      <td>0.005213</td>\n",
       "      <td>0.005263</td>\n",
       "      <td>0.005296</td>\n",
       "      <td>0.005288</td>\n",
       "      <td>0.005243</td>\n",
       "      <td>0.005332</td>\n",
       "      <td>0.005282</td>\n",
       "      <td>0.005212</td>\n",
       "      <td>...</td>\n",
       "      <td>0.005257</td>\n",
       "      <td>0.005257</td>\n",
       "      <td>0.005257</td>\n",
       "      <td>0.005257</td>\n",
       "      <td>0.005257</td>\n",
       "      <td>0.005257</td>\n",
       "      <td>0.005257</td>\n",
       "      <td>0.005257</td>\n",
       "      <td>0.005257</td>\n",
       "      <td>0.005257</td>\n",
       "    </tr>\n",
       "    <tr>\n",
       "      <td>4</td>\n",
       "      <td>0.005163</td>\n",
       "      <td>0.005178</td>\n",
       "      <td>0.005284</td>\n",
       "      <td>0.005220</td>\n",
       "      <td>0.005249</td>\n",
       "      <td>0.005287</td>\n",
       "      <td>0.005210</td>\n",
       "      <td>0.005289</td>\n",
       "      <td>0.005191</td>\n",
       "      <td>0.005239</td>\n",
       "      <td>...</td>\n",
       "      <td>0.005257</td>\n",
       "      <td>0.005257</td>\n",
       "      <td>0.005257</td>\n",
       "      <td>0.005257</td>\n",
       "      <td>0.005257</td>\n",
       "      <td>0.005257</td>\n",
       "      <td>0.005257</td>\n",
       "      <td>0.005257</td>\n",
       "      <td>0.005257</td>\n",
       "      <td>0.005257</td>\n",
       "    </tr>\n",
       "    <tr>\n",
       "      <td>...</td>\n",
       "      <td>...</td>\n",
       "      <td>...</td>\n",
       "      <td>...</td>\n",
       "      <td>...</td>\n",
       "      <td>...</td>\n",
       "      <td>...</td>\n",
       "      <td>...</td>\n",
       "      <td>...</td>\n",
       "      <td>...</td>\n",
       "      <td>...</td>\n",
       "      <td>...</td>\n",
       "      <td>...</td>\n",
       "      <td>...</td>\n",
       "      <td>...</td>\n",
       "      <td>...</td>\n",
       "      <td>...</td>\n",
       "      <td>...</td>\n",
       "      <td>...</td>\n",
       "      <td>...</td>\n",
       "      <td>...</td>\n",
       "      <td>...</td>\n",
       "    </tr>\n",
       "    <tr>\n",
       "      <td>31793</td>\n",
       "      <td>0.005299</td>\n",
       "      <td>0.005320</td>\n",
       "      <td>0.005284</td>\n",
       "      <td>0.005161</td>\n",
       "      <td>0.005311</td>\n",
       "      <td>0.005254</td>\n",
       "      <td>0.005347</td>\n",
       "      <td>0.005219</td>\n",
       "      <td>0.005253</td>\n",
       "      <td>0.005299</td>\n",
       "      <td>...</td>\n",
       "      <td>0.005257</td>\n",
       "      <td>0.005257</td>\n",
       "      <td>0.005257</td>\n",
       "      <td>0.005257</td>\n",
       "      <td>0.005257</td>\n",
       "      <td>0.005257</td>\n",
       "      <td>0.005257</td>\n",
       "      <td>0.005257</td>\n",
       "      <td>0.005257</td>\n",
       "      <td>0.005257</td>\n",
       "    </tr>\n",
       "    <tr>\n",
       "      <td>31794</td>\n",
       "      <td>0.005254</td>\n",
       "      <td>0.005231</td>\n",
       "      <td>0.005184</td>\n",
       "      <td>0.005195</td>\n",
       "      <td>0.005266</td>\n",
       "      <td>0.005277</td>\n",
       "      <td>0.005281</td>\n",
       "      <td>0.005260</td>\n",
       "      <td>0.005268</td>\n",
       "      <td>0.005181</td>\n",
       "      <td>...</td>\n",
       "      <td>0.005257</td>\n",
       "      <td>0.005257</td>\n",
       "      <td>0.005257</td>\n",
       "      <td>0.005257</td>\n",
       "      <td>0.005257</td>\n",
       "      <td>0.005257</td>\n",
       "      <td>0.005257</td>\n",
       "      <td>0.005257</td>\n",
       "      <td>0.005257</td>\n",
       "      <td>0.005256</td>\n",
       "    </tr>\n",
       "    <tr>\n",
       "      <td>31795</td>\n",
       "      <td>0.005348</td>\n",
       "      <td>0.005299</td>\n",
       "      <td>0.005289</td>\n",
       "      <td>0.005273</td>\n",
       "      <td>0.005278</td>\n",
       "      <td>0.005297</td>\n",
       "      <td>0.005321</td>\n",
       "      <td>0.005338</td>\n",
       "      <td>0.005301</td>\n",
       "      <td>0.005268</td>\n",
       "      <td>...</td>\n",
       "      <td>0.005257</td>\n",
       "      <td>0.005257</td>\n",
       "      <td>0.005257</td>\n",
       "      <td>0.005257</td>\n",
       "      <td>0.005257</td>\n",
       "      <td>0.005257</td>\n",
       "      <td>0.005257</td>\n",
       "      <td>0.005257</td>\n",
       "      <td>0.005257</td>\n",
       "      <td>0.005256</td>\n",
       "    </tr>\n",
       "    <tr>\n",
       "      <td>31796</td>\n",
       "      <td>0.005380</td>\n",
       "      <td>0.005356</td>\n",
       "      <td>0.005259</td>\n",
       "      <td>0.005239</td>\n",
       "      <td>0.005345</td>\n",
       "      <td>0.005306</td>\n",
       "      <td>0.005325</td>\n",
       "      <td>0.005305</td>\n",
       "      <td>0.005281</td>\n",
       "      <td>0.005350</td>\n",
       "      <td>...</td>\n",
       "      <td>0.005257</td>\n",
       "      <td>0.005257</td>\n",
       "      <td>0.005257</td>\n",
       "      <td>0.005257</td>\n",
       "      <td>0.005257</td>\n",
       "      <td>0.005257</td>\n",
       "      <td>0.005257</td>\n",
       "      <td>0.005257</td>\n",
       "      <td>0.005257</td>\n",
       "      <td>0.005257</td>\n",
       "    </tr>\n",
       "    <tr>\n",
       "      <td>31797</td>\n",
       "      <td>0.005145</td>\n",
       "      <td>0.005321</td>\n",
       "      <td>0.005200</td>\n",
       "      <td>0.005173</td>\n",
       "      <td>0.005294</td>\n",
       "      <td>0.005263</td>\n",
       "      <td>0.005266</td>\n",
       "      <td>0.005312</td>\n",
       "      <td>0.005259</td>\n",
       "      <td>0.005179</td>\n",
       "      <td>...</td>\n",
       "      <td>0.005257</td>\n",
       "      <td>0.005257</td>\n",
       "      <td>0.005257</td>\n",
       "      <td>0.005257</td>\n",
       "      <td>0.005257</td>\n",
       "      <td>0.005257</td>\n",
       "      <td>0.005257</td>\n",
       "      <td>0.005257</td>\n",
       "      <td>0.005257</td>\n",
       "      <td>0.005256</td>\n",
       "    </tr>\n",
       "  </tbody>\n",
       "</table>\n",
       "<p>31798 rows × 5408 columns</p>\n",
       "</div>"
      ],
      "text/plain": [
       "       Unnamed: 2  Unnamed: 3  Unnamed: 4  Unnamed: 5  Unnamed: 6  Unnamed: 7  \\\n",
       "0        0.005208    0.005283    0.005284    0.005249    0.005268    0.005311   \n",
       "1        0.005264    0.005220    0.005248    0.005340    0.005237    0.005248   \n",
       "2        0.005314    0.005302    0.005279    0.005258    0.005294    0.005229   \n",
       "3        0.005190    0.005255    0.005213    0.005263    0.005296    0.005288   \n",
       "4        0.005163    0.005178    0.005284    0.005220    0.005249    0.005287   \n",
       "...           ...         ...         ...         ...         ...         ...   \n",
       "31793    0.005299    0.005320    0.005284    0.005161    0.005311    0.005254   \n",
       "31794    0.005254    0.005231    0.005184    0.005195    0.005266    0.005277   \n",
       "31795    0.005348    0.005299    0.005289    0.005273    0.005278    0.005297   \n",
       "31796    0.005380    0.005356    0.005259    0.005239    0.005345    0.005306   \n",
       "31797    0.005145    0.005321    0.005200    0.005173    0.005294    0.005263   \n",
       "\n",
       "       Unnamed: 8  Unnamed: 9  Unnamed: 10  Unnamed: 11  ...  Unnamed: 5400  \\\n",
       "0        0.005342    0.005191     0.005247     0.005321  ...       0.005257   \n",
       "1        0.005251    0.005168     0.005227     0.005344  ...       0.005257   \n",
       "2        0.005281    0.005198     0.005292     0.005332  ...       0.005257   \n",
       "3        0.005243    0.005332     0.005282     0.005212  ...       0.005257   \n",
       "4        0.005210    0.005289     0.005191     0.005239  ...       0.005257   \n",
       "...           ...         ...          ...          ...  ...            ...   \n",
       "31793    0.005347    0.005219     0.005253     0.005299  ...       0.005257   \n",
       "31794    0.005281    0.005260     0.005268     0.005181  ...       0.005257   \n",
       "31795    0.005321    0.005338     0.005301     0.005268  ...       0.005257   \n",
       "31796    0.005325    0.005305     0.005281     0.005350  ...       0.005257   \n",
       "31797    0.005266    0.005312     0.005259     0.005179  ...       0.005257   \n",
       "\n",
       "       Unnamed: 5401  Unnamed: 5402  Unnamed: 5403  Unnamed: 5404  \\\n",
       "0           0.005257       0.005257       0.005257       0.005257   \n",
       "1           0.005257       0.005257       0.005257       0.005257   \n",
       "2           0.005257       0.005257       0.005257       0.005257   \n",
       "3           0.005257       0.005257       0.005257       0.005257   \n",
       "4           0.005257       0.005257       0.005257       0.005257   \n",
       "...              ...            ...            ...            ...   \n",
       "31793       0.005257       0.005257       0.005257       0.005257   \n",
       "31794       0.005257       0.005257       0.005257       0.005257   \n",
       "31795       0.005257       0.005257       0.005257       0.005257   \n",
       "31796       0.005257       0.005257       0.005257       0.005257   \n",
       "31797       0.005257       0.005257       0.005257       0.005257   \n",
       "\n",
       "       Unnamed: 5405  Unnamed: 5406  Unnamed: 5407  Unnamed: 5408  \\\n",
       "0           0.005257       0.005257       0.005257       0.005257   \n",
       "1           0.005257       0.005257       0.005257       0.005257   \n",
       "2           0.005257       0.005257       0.005257       0.005257   \n",
       "3           0.005257       0.005257       0.005257       0.005257   \n",
       "4           0.005257       0.005257       0.005257       0.005257   \n",
       "...              ...            ...            ...            ...   \n",
       "31793       0.005257       0.005257       0.005257       0.005257   \n",
       "31794       0.005257       0.005257       0.005257       0.005257   \n",
       "31795       0.005257       0.005257       0.005257       0.005257   \n",
       "31796       0.005257       0.005257       0.005257       0.005257   \n",
       "31797       0.005257       0.005257       0.005257       0.005257   \n",
       "\n",
       "       Unnamed: 5409  \n",
       "0           0.005257  \n",
       "1           0.005257  \n",
       "2           0.005257  \n",
       "3           0.005257  \n",
       "4           0.005257  \n",
       "...              ...  \n",
       "31793       0.005257  \n",
       "31794       0.005256  \n",
       "31795       0.005256  \n",
       "31796       0.005257  \n",
       "31797       0.005256  \n",
       "\n",
       "[31798 rows x 5408 columns]"
      ]
     },
     "execution_count": 3,
     "metadata": {},
     "output_type": "execute_result"
    }
   ],
   "source": [
    "galstar_images"
   ]
  },
  {
   "cell_type": "code",
   "execution_count": 4,
   "metadata": {
    "scrolled": false
   },
   "outputs": [
    {
     "data": {
      "image/png": "[encoded data removed]",
      "text/plain": [
       "<Figure size 432x288 with 1 Axes>"
      ]
     },
     "metadata": {
      "needs_background": "light"
     },
     "output_type": "display_data"
    },
    {
     "data": {
      "image/png": "[encoded data removed]",
      "text/plain": [
       "<Figure size 432x288 with 1 Axes>"
      ]
     },
     "metadata": {
      "needs_background": "light"
     },
     "output_type": "display_data"
    },
    {
     "data": {
      "image/png": "[encoded data removed]",
      "text/plain": [
       "<Figure size 432x288 with 1 Axes>"
      ]
     },
     "metadata": {
      "needs_background": "light"
     },
     "output_type": "display_data"
    },
    {
     "data": {
      "image/png": "[encoded data removed]",
      "text/plain": [
       "<Figure size 432x288 with 1 Axes>"
      ]
     },
     "metadata": {
      "needs_background": "light"
     },
     "output_type": "display_data"
    },
    {
     "data": {
      "image/png": "[encoded data removed]",
      "text/plain": [
       "<Figure size 432x288 with 1 Axes>"
      ]
     },
     "metadata": {
      "needs_background": "light"
     },
     "output_type": "display_data"
    },
    {
     "data": {
      "image/png": "[encoded data removed]",
      "text/plain": [
       "<Figure size 432x288 with 1 Axes>"
      ]
     },
     "metadata": {
      "needs_background": "light"
     },
     "output_type": "display_data"
    },
    {
     "data": {
      "image/png": "[encoded data removed]",
      "text/plain": [
       "<Figure size 432x288 with 1 Axes>"
      ]
     },
     "metadata": {
      "needs_background": "light"
     },
     "output_type": "display_data"
    },
    {
     "data": {
      "image/png": "[encoded data removed]",
      "text/plain": [
       "<Figure size 432x288 with 1 Axes>"
      ]
     },
     "metadata": {
      "needs_background": "light"
     },
     "output_type": "display_data"
    }
   ],
   "source": [
    "data = galstar_images.values\n",
    "labels = galstar_labels.values\n",
    "\n",
    "    \n",
    "data_pre = data.reshape(31798,8,26,26)  #griz (psf-g, psf-r,psf-i,psf-z) 8 channels,they claim up to mag27 in the i band\n",
    "\n",
    "\n",
    "for i in range(8):\n",
    "    plt.imshow(data_pre[0,i,:,:],cmap='magma')\n",
    "    plt.show()"
   ]
  },
  {
   "cell_type": "markdown",
   "metadata": {},
   "source": [
    "## normalize image"
   ]
  },
  {
   "cell_type": "code",
   "execution_count": 5,
   "metadata": {},
   "outputs": [
    {
     "name": "stderr",
     "output_type": "stream",
     "text": [
      "100%|██████████| 31798/31798 [00:22<00:00, 1414.95it/s]\n"
     ]
    }
   ],
   "source": [
    "vec_one_ = np.ones((26,26))\n",
    "\n",
    "for i in tqdm(range(31798)):\n",
    "    for j in range(8):\n",
    "        \n",
    "        \n",
    "        data_pre[i,j,:,:] = data_pre[i,j,:,:]- np.amin(data_pre[i,j,:,:])*vec_one_  #background subtract\n",
    "        data_pre[i,j,:,:] = data_pre[i,j,:,:] / np.max(data_pre[i,j,:,:])  #normalize between 0 and 1\n",
    "        \n",
    "        assert np.max(data_pre[i,j,:,:]) ==1 and np.min(data_pre[i,j,:,:]) ==0,'check normalization'\n"
   ]
  },
  {
   "cell_type": "code",
   "execution_count": 6,
   "metadata": {},
   "outputs": [
    {
     "name": "stdout",
     "output_type": "stream",
     "text": [
      "cuda:0\n"
     ]
    }
   ],
   "source": [
    "import torch \n",
    "import torch.nn as nn\n",
    "import torch.optim as optim\n",
    "from torchvision import datasets,transforms\n",
    "import torchvision as tv\n",
    "from torch.utils.data import DataLoader,TensorDataset\n",
    "from torch import Tensor\n",
    "\n",
    "if torch.cuda.is_available():\n",
    "    device = 'cuda:0'\n",
    "else:\n",
    "    device = 'cpu'\n",
    "\n",
    "device = torch.device(device)\n",
    "print(device)"
   ]
  },
  {
   "cell_type": "markdown",
   "metadata": {},
   "source": [
    "## shuffle, transform to tensor"
   ]
  },
  {
   "cell_type": "code",
   "execution_count": 10,
   "metadata": {},
   "outputs": [
    {
     "data": {
      "text/plain": [
       "'\\ntrain_loader = torch.utils.data.DataLoader(dataset = data_tensor,\\n                                          batch_size = 15899,\\n                                          shuffle = True,\\n                                        )\\ndataiter = iter(train_loader)\\nimg,label = dataiter.next()\\n'"
      ]
     },
     "execution_count": 10,
     "metadata": {},
     "output_type": "execute_result"
    }
   ],
   "source": [
    "dataset = data_pre\n",
    "train_label = labels.reshape(-1,1)\n",
    "\n",
    "\n",
    "\n",
    "data_tensor = TensorDataset(Tensor(dataset),Tensor(train_label))\n",
    "'''\n",
    "train_loader = torch.utils.data.DataLoader(dataset = data_tensor,\n",
    "                                          batch_size = 15899,\n",
    "                                          shuffle = True,\n",
    "                                        )\n",
    "dataiter = iter(train_loader)\n",
    "img,label = dataiter.next()\n",
    "'''"
   ]
  },
  {
   "cell_type": "code",
   "execution_count": 25,
   "metadata": {
    "scrolled": false
   },
   "outputs": [
    {
     "name": "stdout",
     "output_type": "stream",
     "text": [
      "31798\n",
      "317\n"
     ]
    }
   ],
   "source": [
    "from torch.utils.data.sampler import SubsetRandomSampler\n",
    "\n",
    "dataset_size = len(dataset)\n",
    "print(dataset_size)\n",
    "indices = list(range(dataset_size))\n",
    "val_split = 0.01\n",
    "split = int(np.floor(val_split*dataset_size))\n",
    "\n",
    "\n",
    "\n",
    "\n",
    "\n",
    "if True:\n",
    "    np.random.seed(42)\n",
    "    np.random.shuffle(indices)\n",
    "train_indices,val_indices = indices[split:],indices[:split]   \n",
    "\n",
    "\n",
    "\n",
    "\n",
    "\n",
    "print(split)\n",
    "train_indices,val_indices = indices[split:],indices[:split]\n",
    "\n",
    "train_sampler = SubsetRandomSampler(train_indices)\n",
    "val_sampler = SubsetRandomSampler(val_indices)\n",
    "\n",
    "train_loader = torch.utils.data.DataLoader(dataset = data_tensor,batch_size = 15899,sampler = train_sampler)\n",
    "val_loader = torch.utils.data.DataLoader(dataset = data_tensor,batch_size = 317,sampler = val_sampler)"
   ]
  },
  {
   "cell_type": "code",
   "execution_count": 26,
   "metadata": {},
   "outputs": [],
   "source": [
    "dataiter = iter(val_loader)\n",
    "img,label = dataiter.next()"
   ]
  },
  {
   "cell_type": "markdown",
   "metadata": {},
   "source": [
    "## Model"
   ]
  },
  {
   "cell_type": "code",
   "execution_count": 46,
   "metadata": {},
   "outputs": [],
   "source": [
    "class BobNet(nn.Module):\n",
    "    def __init__(self):\n",
    "        super().__init__()        \n",
    "        \n",
    "        self.conv1 = nn.Conv2d(8,16,3,stride = 1,padding=0)#16,24x24 ()\n",
    "        self.conv2 = nn.Conv2d(16,32,3,stride =1,padding = 0) #22x22,32#  batchnorm\n",
    "        self.fc1 = nn.Linear(22*22*32,100)\n",
    "        self.fc2 = nn.Linear(100,20) \n",
    "        self.fc3 = nn.Linear(20,1)\n",
    "        \n",
    "    def forward(self,x):\n",
    "        x = torch.nn.functional.relu(self.conv1(x)) #leaky relu, elu\n",
    "        x = torch.nn.functional.relu(self.conv2(x))\n",
    "        x = torch.flatten(x,1)\n",
    "        x = torch.nn.functional.relu(self.fc1(x))\n",
    "        x = torch.nn.functional.relu(self.fc2(x))\n",
    "        x =  torch.sigmoid(self.fc3(x)) #binary, 0,1\n",
    "        \n",
    "        return x\n",
    "model = BobNet().to(device)"
   ]
  },
  {
   "cell_type": "code",
   "execution_count": 47,
   "metadata": {},
   "outputs": [],
   "source": [
    "from sklearn.metrics import accuracy_score\n",
    "def eval(y_true,y_pred):\n",
    "    accuracy = accuracy_score(y_true,y_pred>0.5)\n",
    "    return accuracy    "
   ]
  },
  {
   "cell_type": "markdown",
   "metadata": {},
   "source": [
    "## train"
   ]
  },
  {
   "cell_type": "code",
   "execution_count": 48,
   "metadata": {
    "scrolled": false
   },
   "outputs": [
    {
     "name": "stderr",
     "output_type": "stream",
     "text": [
      "\r",
      "  0%|          | 0/600 [00:00<?, ?it/s]"
     ]
    },
    {
     "name": "stdout",
     "output_type": "stream",
     "text": [
      "Epoch:1,train-acc: 58.54832%,val-acc: 63.40694%\n"
     ]
    },
    {
     "name": "stderr",
     "output_type": "stream",
     "text": [
      "  7%|▋         | 40/600 [02:53<40:34,  4.35s/it]"
     ]
    },
    {
     "name": "stdout",
     "output_type": "stream",
     "text": [
      "Epoch:41,train-acc: 95.84136%,val-acc: 95.26814%\n"
     ]
    },
    {
     "name": "stderr",
     "output_type": "stream",
     "text": [
      " 13%|█▎        | 80/600 [05:47<37:25,  4.32s/it]"
     ]
    },
    {
     "name": "stdout",
     "output_type": "stream",
     "text": [
      "Epoch:81,train-acc: 97.04788%,val-acc: 97.16088%\n"
     ]
    },
    {
     "name": "stderr",
     "output_type": "stream",
     "text": [
      " 20%|██        | 120/600 [08:40<34:44,  4.34s/it]"
     ]
    },
    {
     "name": "stdout",
     "output_type": "stream",
     "text": [
      "Epoch:121,train-acc: 97.40085%,val-acc: 97.79180%\n"
     ]
    },
    {
     "name": "stderr",
     "output_type": "stream",
     "text": [
      " 27%|██▋       | 160/600 [11:34<31:55,  4.35s/it]"
     ]
    },
    {
     "name": "stdout",
     "output_type": "stream",
     "text": [
      "Epoch:161,train-acc: 97.81158%,val-acc: 98.10726%\n"
     ]
    },
    {
     "name": "stderr",
     "output_type": "stream",
     "text": [
      " 33%|███▎      | 200/600 [14:27<28:48,  4.32s/it]"
     ]
    },
    {
     "name": "stdout",
     "output_type": "stream",
     "text": [
      "Epoch:201,train-acc: 97.93993%,val-acc: 98.10726%\n"
     ]
    },
    {
     "name": "stderr",
     "output_type": "stream",
     "text": [
      " 40%|████      | 240/600 [17:20<25:51,  4.31s/it]"
     ]
    },
    {
     "name": "stdout",
     "output_type": "stream",
     "text": [
      "Epoch:241,train-acc: 97.88217%,val-acc: 98.10726%\n"
     ]
    },
    {
     "name": "stderr",
     "output_type": "stream",
     "text": [
      " 47%|████▋     | 280/600 [20:11<22:46,  4.27s/it]"
     ]
    },
    {
     "name": "stdout",
     "output_type": "stream",
     "text": [
      "Epoch:281,train-acc: 97.87575%,val-acc: 97.79180%\n"
     ]
    },
    {
     "name": "stderr",
     "output_type": "stream",
     "text": [
      " 53%|█████▎    | 320/600 [23:01<19:51,  4.26s/it]"
     ]
    },
    {
     "name": "stdout",
     "output_type": "stream",
     "text": [
      "Epoch:321,train-acc: 98.08112%,val-acc: 98.10726%\n"
     ]
    },
    {
     "name": "stderr",
     "output_type": "stream",
     "text": [
      " 60%|██████    | 360/600 [25:52<17:01,  4.26s/it]"
     ]
    },
    {
     "name": "stdout",
     "output_type": "stream",
     "text": [
      "Epoch:361,train-acc: 98.28648%,val-acc: 98.10726%\n"
     ]
    },
    {
     "name": "stderr",
     "output_type": "stream",
     "text": [
      " 67%|██████▋   | 400/600 [28:42<14:12,  4.26s/it]"
     ]
    },
    {
     "name": "stdout",
     "output_type": "stream",
     "text": [
      "Epoch:401,train-acc: 98.31216%,val-acc: 98.42271%\n"
     ]
    },
    {
     "name": "stderr",
     "output_type": "stream",
     "text": [
      " 73%|███████▎  | 440/600 [31:33<11:21,  4.26s/it]"
     ]
    },
    {
     "name": "stdout",
     "output_type": "stream",
     "text": [
      "Epoch:441,train-acc: 98.29932%,val-acc: 98.42271%\n"
     ]
    },
    {
     "name": "stderr",
     "output_type": "stream",
     "text": [
      " 80%|████████  | 480/600 [34:24<08:33,  4.28s/it]"
     ]
    },
    {
     "name": "stdout",
     "output_type": "stream",
     "text": [
      "Epoch:481,train-acc: 98.45334%,val-acc: 98.42271%\n"
     ]
    },
    {
     "name": "stderr",
     "output_type": "stream",
     "text": [
      " 87%|████████▋ | 520/600 [37:14<05:42,  4.28s/it]"
     ]
    },
    {
     "name": "stdout",
     "output_type": "stream",
     "text": [
      "Epoch:521,train-acc: 98.37633%,val-acc: 98.42271%\n"
     ]
    },
    {
     "name": "stderr",
     "output_type": "stream",
     "text": [
      " 93%|█████████▎| 560/600 [40:09<02:54,  4.36s/it]"
     ]
    },
    {
     "name": "stdout",
     "output_type": "stream",
     "text": [
      "Epoch:561,train-acc: 98.54319%,val-acc: 98.73817%\n"
     ]
    },
    {
     "name": "stderr",
     "output_type": "stream",
     "text": [
      "100%|██████████| 600/600 [43:04<00:00,  4.31s/it]\n"
     ]
    }
   ],
   "source": [
    "criterion = nn.BCELoss() \n",
    "\n",
    "\n",
    "optimizer = torch.optim.Adam(model.parameters(),lr = 0.0002,weight_decay = 1e-5)\n",
    "\n",
    "num_epochs = 600\n",
    "output2 = []\n",
    "Acc = []\n",
    "Val=[]\n",
    "\n",
    "for val_img,val_lab in val_loader:\n",
    "    val_img,val_lab = val_img.to(device),val_lab.to(device)\n",
    "\n",
    "\n",
    "\n",
    "for epoch in tqdm(range(num_epochs)):\n",
    "    for img,lab in train_loader:\n",
    "     \n",
    "        \n",
    "        img = img.to(device)\n",
    "        lab= lab.to(device)\n",
    "        \n",
    "        out = model(img)\n",
    "        \n",
    "        val_out = model(val_img)\n",
    "        valacc = eval(val_lab.cpu(),val_out.cpu())\n",
    "        Val.append(valacc)\n",
    "        acc = eval(lab.cpu(),out.cpu())\n",
    "        \n",
    "\n",
    "        Acc.append(acc)\n",
    "        \n",
    "        loss = criterion(out,lab)\n",
    "        \n",
    " \n",
    "        optimizer.zero_grad()\n",
    "        loss.backward()\n",
    "        optimizer.step()\n",
    "    if epoch % 40 ==0:\n",
    "  \n",
    "        print(f'Epoch:{epoch+1},train-acc: {acc*100:.5f}%,val-acc: {valacc*100:.5f}%')        \n",
    "    \n",
    "    \n",
    "    output2.append(loss.item())"
   ]
  },
  {
   "cell_type": "code",
   "execution_count": 50,
   "metadata": {},
   "outputs": [
    {
     "name": "stdout",
     "output_type": "stream",
     "text": [
      "best validation accuracy: 0.9873817034700315\n",
      "best training accuracy: 0.9867916221145984\n"
     ]
    }
   ],
   "source": [
    "print('best validation accuracy:',np.amax(Val))\n",
    "print('best training accuracy:',np.amax(Acc))"
   ]
  },
  {
   "cell_type": "code",
   "execution_count": 51,
   "metadata": {},
   "outputs": [
    {
     "data": {
      "image/png": "[encoded data removed]",
      "text/plain": [
       "<Figure size 432x288 with 1 Axes>"
      ]
     },
     "metadata": {
      "needs_background": "light"
     },
     "output_type": "display_data"
    }
   ],
   "source": [
    "plt.plot(output2,label='loss')\n",
    "plt.legend()\n",
    "\n",
    "plt.show()"
   ]
  },
  {
   "cell_type": "code",
   "execution_count": 52,
   "metadata": {},
   "outputs": [
    {
     "data": {
      "text/plain": [
       "<matplotlib.legend.Legend at 0x2aaaeedf3e80>"
      ]
     },
     "execution_count": 52,
     "metadata": {},
     "output_type": "execute_result"
    },
    {
     "data": {
      "image/png": "[encoded data removed]",
      "text/plain": [
       "<Figure size 432x288 with 1 Axes>"
      ]
     },
     "metadata": {
      "needs_background": "light"
     },
     "output_type": "display_data"
    }
   ],
   "source": [
    "plt.plot(Acc,label = 'accuracy')\n",
    "plt.legend()"
   ]
  },
  {
   "cell_type": "code",
   "execution_count": 53,
   "metadata": {},
   "outputs": [],
   "source": [
    "y_prediction = out.detach().cpu().numpy()\n",
    "np_y_pred = np.where(y_prediction < 0.5,0,1)\n",
    "np_y_true = lab.cpu().numpy()"
   ]
  },
  {
   "cell_type": "markdown",
   "metadata": {},
   "source": [
    "## F1 score"
   ]
  },
  {
   "cell_type": "code",
   "execution_count": 54,
   "metadata": {},
   "outputs": [
    {
     "data": {
      "text/plain": [
       "0.9838003838771594"
      ]
     },
     "execution_count": 54,
     "metadata": {},
     "output_type": "execute_result"
    }
   ],
   "source": [
    "from sklearn.metrics import f1_score\n",
    "f1_score(np_y_true,np_y_pred)"
   ]
  },
  {
   "cell_type": "markdown",
   "metadata": {},
   "source": [
    "## confusion matrix"
   ]
  },
  {
   "cell_type": "code",
   "execution_count": 55,
   "metadata": {},
   "outputs": [
    {
     "data": {
      "text/plain": [
       "<matplotlib.axes._subplots.AxesSubplot at 0x2aaaeec7f0d0>"
      ]
     },
     "execution_count": 55,
     "metadata": {},
     "output_type": "execute_result"
    },
    {
     "data": {
      "image/png": "[encoded data removed]",
      "text/plain": [
       "<Figure size 432x288 with 2 Axes>"
      ]
     },
     "metadata": {
      "needs_background": "light"
     },
     "output_type": "display_data"
    }
   ],
   "source": [
    "\n",
    "from sklearn.metrics import confusion_matrix\n",
    "CFM = confusion_matrix(np_y_true,np_y_pred)\n",
    "\n",
    "import seaborn as sns\n",
    "sns.heatmap(CFM/np.sum(CFM),annot=True,fmt='.2%',cmap = 'Blues')"
   ]
  },
  {
   "cell_type": "markdown",
   "metadata": {},
   "source": [
    "## AUC ,ROC"
   ]
  },
  {
   "cell_type": "code",
   "execution_count": 56,
   "metadata": {},
   "outputs": [
    {
     "data": {
      "image/png": "[encoded data removed]",
      "text/plain": [
       "<Figure size 432x288 with 1 Axes>"
      ]
     },
     "metadata": {
      "needs_background": "light"
     },
     "output_type": "display_data"
    }
   ],
   "source": [
    "from sklearn.metrics import roc_auc_score,roc_curve\n",
    "\n",
    "auc =roc_auc_score(np_y_true,np_y_pred)\n",
    "\n",
    "fpr,tpr,__ = roc_curve(np_y_true,np_y_pred)\n",
    "plt.plot(fpr,tpr,label = 'AUC = '+str(auc))\n",
    "plt.legend(loc=4)\n",
    "plt.show()"
   ]
  },
  {
   "cell_type": "code",
   "execution_count": null,
   "metadata": {},
   "outputs": [],
   "source": []
  }
 ],
 "metadata": {
  "kernelspec": {
   "display_name": "Python 3",
   "language": "python",
   "name": "python3"
  },
  "language_info": {
   "codemirror_mode": {
    "name": "ipython",
    "version": 3
   },
   "file_extension": ".py",
   "mimetype": "text/x-python",
   "name": "python",
   "nbconvert_exporter": "python",
   "pygments_lexer": "ipython3",
   "version": "3.7.2"
  }
 },
 "nbformat": 4,
 "nbformat_minor": 2
}
