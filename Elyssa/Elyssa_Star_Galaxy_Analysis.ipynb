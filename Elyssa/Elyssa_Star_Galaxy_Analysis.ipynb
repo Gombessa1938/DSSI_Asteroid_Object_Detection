{
 "cells": [
  {
   "cell_type": "code",
   "execution_count": 119,
   "metadata": {},
   "outputs": [],
   "source": [
    "import pandas as pd\n",
    "import numpy as np\n",
    "from tqdm import tqdm\n",
    "import matplotlib.pyplot as plt\n",
    "import torch \n",
    "import torch.nn as nn\n",
    "import torch.optim as optim\n",
    "from torchvision import datasets,transforms\n",
    "import torchvision as tv\n",
    "from torch.utils.data import DataLoader,TensorDataset\n",
    "from torch import Tensor\n",
    "import datetime"
   ]
  },
  {
   "cell_type": "markdown",
   "metadata": {},
   "source": [
    "### Load galstar data"
   ]
  },
  {
   "cell_type": "code",
   "execution_count": 3,
   "metadata": {},
   "outputs": [],
   "source": [
    "galstar = pd.read_csv('/usr/workspace/hofgard1/challenge_setup/data_and_information/galstar.csv')"
   ]
  },
  {
   "cell_type": "code",
   "execution_count": 4,
   "metadata": {},
   "outputs": [
    {
     "data": {
      "text/html": [
       "<div>\n",
       "<style scoped>\n",
       "    .dataframe tbody tr th:only-of-type {\n",
       "        vertical-align: middle;\n",
       "    }\n",
       "\n",
       "    .dataframe tbody tr th {\n",
       "        vertical-align: top;\n",
       "    }\n",
       "\n",
       "    .dataframe thead th {\n",
       "        text-align: right;\n",
       "    }\n",
       "</style>\n",
       "<table border=\"1\" class=\"dataframe\">\n",
       "  <thead>\n",
       "    <tr style=\"text-align: right;\">\n",
       "      <th></th>\n",
       "      <th>Unnamed: 0</th>\n",
       "      <th>y</th>\n",
       "      <th>Unnamed: 2</th>\n",
       "      <th>Unnamed: 3</th>\n",
       "      <th>Unnamed: 4</th>\n",
       "      <th>Unnamed: 5</th>\n",
       "      <th>Unnamed: 6</th>\n",
       "      <th>Unnamed: 7</th>\n",
       "      <th>Unnamed: 8</th>\n",
       "      <th>Unnamed: 9</th>\n",
       "      <th>...</th>\n",
       "      <th>Unnamed: 5400</th>\n",
       "      <th>Unnamed: 5401</th>\n",
       "      <th>Unnamed: 5402</th>\n",
       "      <th>Unnamed: 5403</th>\n",
       "      <th>Unnamed: 5404</th>\n",
       "      <th>Unnamed: 5405</th>\n",
       "      <th>Unnamed: 5406</th>\n",
       "      <th>Unnamed: 5407</th>\n",
       "      <th>Unnamed: 5408</th>\n",
       "      <th>Unnamed: 5409</th>\n",
       "    </tr>\n",
       "  </thead>\n",
       "  <tbody>\n",
       "    <tr>\n",
       "      <td>0</td>\n",
       "      <td>1</td>\n",
       "      <td>0</td>\n",
       "      <td>0.005208</td>\n",
       "      <td>0.005283</td>\n",
       "      <td>0.005284</td>\n",
       "      <td>0.005249</td>\n",
       "      <td>0.005268</td>\n",
       "      <td>0.005311</td>\n",
       "      <td>0.005342</td>\n",
       "      <td>0.005191</td>\n",
       "      <td>...</td>\n",
       "      <td>0.005257</td>\n",
       "      <td>0.005257</td>\n",
       "      <td>0.005257</td>\n",
       "      <td>0.005257</td>\n",
       "      <td>0.005257</td>\n",
       "      <td>0.005257</td>\n",
       "      <td>0.005257</td>\n",
       "      <td>0.005257</td>\n",
       "      <td>0.005257</td>\n",
       "      <td>0.005257</td>\n",
       "    </tr>\n",
       "    <tr>\n",
       "      <td>1</td>\n",
       "      <td>2</td>\n",
       "      <td>0</td>\n",
       "      <td>0.005264</td>\n",
       "      <td>0.005220</td>\n",
       "      <td>0.005248</td>\n",
       "      <td>0.005340</td>\n",
       "      <td>0.005237</td>\n",
       "      <td>0.005248</td>\n",
       "      <td>0.005251</td>\n",
       "      <td>0.005168</td>\n",
       "      <td>...</td>\n",
       "      <td>0.005257</td>\n",
       "      <td>0.005257</td>\n",
       "      <td>0.005257</td>\n",
       "      <td>0.005257</td>\n",
       "      <td>0.005257</td>\n",
       "      <td>0.005257</td>\n",
       "      <td>0.005257</td>\n",
       "      <td>0.005257</td>\n",
       "      <td>0.005257</td>\n",
       "      <td>0.005257</td>\n",
       "    </tr>\n",
       "    <tr>\n",
       "      <td>2</td>\n",
       "      <td>3</td>\n",
       "      <td>0</td>\n",
       "      <td>0.005314</td>\n",
       "      <td>0.005302</td>\n",
       "      <td>0.005279</td>\n",
       "      <td>0.005258</td>\n",
       "      <td>0.005294</td>\n",
       "      <td>0.005229</td>\n",
       "      <td>0.005281</td>\n",
       "      <td>0.005198</td>\n",
       "      <td>...</td>\n",
       "      <td>0.005257</td>\n",
       "      <td>0.005257</td>\n",
       "      <td>0.005257</td>\n",
       "      <td>0.005257</td>\n",
       "      <td>0.005257</td>\n",
       "      <td>0.005257</td>\n",
       "      <td>0.005257</td>\n",
       "      <td>0.005257</td>\n",
       "      <td>0.005257</td>\n",
       "      <td>0.005257</td>\n",
       "    </tr>\n",
       "    <tr>\n",
       "      <td>3</td>\n",
       "      <td>4</td>\n",
       "      <td>0</td>\n",
       "      <td>0.005190</td>\n",
       "      <td>0.005255</td>\n",
       "      <td>0.005213</td>\n",
       "      <td>0.005263</td>\n",
       "      <td>0.005296</td>\n",
       "      <td>0.005288</td>\n",
       "      <td>0.005243</td>\n",
       "      <td>0.005332</td>\n",
       "      <td>...</td>\n",
       "      <td>0.005257</td>\n",
       "      <td>0.005257</td>\n",
       "      <td>0.005257</td>\n",
       "      <td>0.005257</td>\n",
       "      <td>0.005257</td>\n",
       "      <td>0.005257</td>\n",
       "      <td>0.005257</td>\n",
       "      <td>0.005257</td>\n",
       "      <td>0.005257</td>\n",
       "      <td>0.005257</td>\n",
       "    </tr>\n",
       "    <tr>\n",
       "      <td>4</td>\n",
       "      <td>5</td>\n",
       "      <td>0</td>\n",
       "      <td>0.005163</td>\n",
       "      <td>0.005178</td>\n",
       "      <td>0.005284</td>\n",
       "      <td>0.005220</td>\n",
       "      <td>0.005249</td>\n",
       "      <td>0.005287</td>\n",
       "      <td>0.005210</td>\n",
       "      <td>0.005289</td>\n",
       "      <td>...</td>\n",
       "      <td>0.005257</td>\n",
       "      <td>0.005257</td>\n",
       "      <td>0.005257</td>\n",
       "      <td>0.005257</td>\n",
       "      <td>0.005257</td>\n",
       "      <td>0.005257</td>\n",
       "      <td>0.005257</td>\n",
       "      <td>0.005257</td>\n",
       "      <td>0.005257</td>\n",
       "      <td>0.005257</td>\n",
       "    </tr>\n",
       "    <tr>\n",
       "      <td>...</td>\n",
       "      <td>...</td>\n",
       "      <td>...</td>\n",
       "      <td>...</td>\n",
       "      <td>...</td>\n",
       "      <td>...</td>\n",
       "      <td>...</td>\n",
       "      <td>...</td>\n",
       "      <td>...</td>\n",
       "      <td>...</td>\n",
       "      <td>...</td>\n",
       "      <td>...</td>\n",
       "      <td>...</td>\n",
       "      <td>...</td>\n",
       "      <td>...</td>\n",
       "      <td>...</td>\n",
       "      <td>...</td>\n",
       "      <td>...</td>\n",
       "      <td>...</td>\n",
       "      <td>...</td>\n",
       "      <td>...</td>\n",
       "      <td>...</td>\n",
       "    </tr>\n",
       "    <tr>\n",
       "      <td>31793</td>\n",
       "      <td>31794</td>\n",
       "      <td>1</td>\n",
       "      <td>0.005299</td>\n",
       "      <td>0.005320</td>\n",
       "      <td>0.005284</td>\n",
       "      <td>0.005161</td>\n",
       "      <td>0.005311</td>\n",
       "      <td>0.005254</td>\n",
       "      <td>0.005347</td>\n",
       "      <td>0.005219</td>\n",
       "      <td>...</td>\n",
       "      <td>0.005257</td>\n",
       "      <td>0.005257</td>\n",
       "      <td>0.005257</td>\n",
       "      <td>0.005257</td>\n",
       "      <td>0.005257</td>\n",
       "      <td>0.005257</td>\n",
       "      <td>0.005257</td>\n",
       "      <td>0.005257</td>\n",
       "      <td>0.005257</td>\n",
       "      <td>0.005257</td>\n",
       "    </tr>\n",
       "    <tr>\n",
       "      <td>31794</td>\n",
       "      <td>31795</td>\n",
       "      <td>1</td>\n",
       "      <td>0.005254</td>\n",
       "      <td>0.005231</td>\n",
       "      <td>0.005184</td>\n",
       "      <td>0.005195</td>\n",
       "      <td>0.005266</td>\n",
       "      <td>0.005277</td>\n",
       "      <td>0.005281</td>\n",
       "      <td>0.005260</td>\n",
       "      <td>...</td>\n",
       "      <td>0.005257</td>\n",
       "      <td>0.005257</td>\n",
       "      <td>0.005257</td>\n",
       "      <td>0.005257</td>\n",
       "      <td>0.005257</td>\n",
       "      <td>0.005257</td>\n",
       "      <td>0.005257</td>\n",
       "      <td>0.005257</td>\n",
       "      <td>0.005257</td>\n",
       "      <td>0.005256</td>\n",
       "    </tr>\n",
       "    <tr>\n",
       "      <td>31795</td>\n",
       "      <td>31796</td>\n",
       "      <td>1</td>\n",
       "      <td>0.005348</td>\n",
       "      <td>0.005299</td>\n",
       "      <td>0.005289</td>\n",
       "      <td>0.005273</td>\n",
       "      <td>0.005278</td>\n",
       "      <td>0.005297</td>\n",
       "      <td>0.005321</td>\n",
       "      <td>0.005338</td>\n",
       "      <td>...</td>\n",
       "      <td>0.005257</td>\n",
       "      <td>0.005257</td>\n",
       "      <td>0.005257</td>\n",
       "      <td>0.005257</td>\n",
       "      <td>0.005257</td>\n",
       "      <td>0.005257</td>\n",
       "      <td>0.005257</td>\n",
       "      <td>0.005257</td>\n",
       "      <td>0.005257</td>\n",
       "      <td>0.005256</td>\n",
       "    </tr>\n",
       "    <tr>\n",
       "      <td>31796</td>\n",
       "      <td>31797</td>\n",
       "      <td>1</td>\n",
       "      <td>0.005380</td>\n",
       "      <td>0.005356</td>\n",
       "      <td>0.005259</td>\n",
       "      <td>0.005239</td>\n",
       "      <td>0.005345</td>\n",
       "      <td>0.005306</td>\n",
       "      <td>0.005325</td>\n",
       "      <td>0.005305</td>\n",
       "      <td>...</td>\n",
       "      <td>0.005257</td>\n",
       "      <td>0.005257</td>\n",
       "      <td>0.005257</td>\n",
       "      <td>0.005257</td>\n",
       "      <td>0.005257</td>\n",
       "      <td>0.005257</td>\n",
       "      <td>0.005257</td>\n",
       "      <td>0.005257</td>\n",
       "      <td>0.005257</td>\n",
       "      <td>0.005257</td>\n",
       "    </tr>\n",
       "    <tr>\n",
       "      <td>31797</td>\n",
       "      <td>31798</td>\n",
       "      <td>1</td>\n",
       "      <td>0.005145</td>\n",
       "      <td>0.005321</td>\n",
       "      <td>0.005200</td>\n",
       "      <td>0.005173</td>\n",
       "      <td>0.005294</td>\n",
       "      <td>0.005263</td>\n",
       "      <td>0.005266</td>\n",
       "      <td>0.005312</td>\n",
       "      <td>...</td>\n",
       "      <td>0.005257</td>\n",
       "      <td>0.005257</td>\n",
       "      <td>0.005257</td>\n",
       "      <td>0.005257</td>\n",
       "      <td>0.005257</td>\n",
       "      <td>0.005257</td>\n",
       "      <td>0.005257</td>\n",
       "      <td>0.005257</td>\n",
       "      <td>0.005257</td>\n",
       "      <td>0.005256</td>\n",
       "    </tr>\n",
       "  </tbody>\n",
       "</table>\n",
       "<p>31798 rows × 5410 columns</p>\n",
       "</div>"
      ],
      "text/plain": [
       "       Unnamed: 0  y  Unnamed: 2  Unnamed: 3  Unnamed: 4  Unnamed: 5  \\\n",
       "0               1  0    0.005208    0.005283    0.005284    0.005249   \n",
       "1               2  0    0.005264    0.005220    0.005248    0.005340   \n",
       "2               3  0    0.005314    0.005302    0.005279    0.005258   \n",
       "3               4  0    0.005190    0.005255    0.005213    0.005263   \n",
       "4               5  0    0.005163    0.005178    0.005284    0.005220   \n",
       "...           ... ..         ...         ...         ...         ...   \n",
       "31793       31794  1    0.005299    0.005320    0.005284    0.005161   \n",
       "31794       31795  1    0.005254    0.005231    0.005184    0.005195   \n",
       "31795       31796  1    0.005348    0.005299    0.005289    0.005273   \n",
       "31796       31797  1    0.005380    0.005356    0.005259    0.005239   \n",
       "31797       31798  1    0.005145    0.005321    0.005200    0.005173   \n",
       "\n",
       "       Unnamed: 6  Unnamed: 7  Unnamed: 8  Unnamed: 9  ...  Unnamed: 5400  \\\n",
       "0        0.005268    0.005311    0.005342    0.005191  ...       0.005257   \n",
       "1        0.005237    0.005248    0.005251    0.005168  ...       0.005257   \n",
       "2        0.005294    0.005229    0.005281    0.005198  ...       0.005257   \n",
       "3        0.005296    0.005288    0.005243    0.005332  ...       0.005257   \n",
       "4        0.005249    0.005287    0.005210    0.005289  ...       0.005257   \n",
       "...           ...         ...         ...         ...  ...            ...   \n",
       "31793    0.005311    0.005254    0.005347    0.005219  ...       0.005257   \n",
       "31794    0.005266    0.005277    0.005281    0.005260  ...       0.005257   \n",
       "31795    0.005278    0.005297    0.005321    0.005338  ...       0.005257   \n",
       "31796    0.005345    0.005306    0.005325    0.005305  ...       0.005257   \n",
       "31797    0.005294    0.005263    0.005266    0.005312  ...       0.005257   \n",
       "\n",
       "       Unnamed: 5401  Unnamed: 5402  Unnamed: 5403  Unnamed: 5404  \\\n",
       "0           0.005257       0.005257       0.005257       0.005257   \n",
       "1           0.005257       0.005257       0.005257       0.005257   \n",
       "2           0.005257       0.005257       0.005257       0.005257   \n",
       "3           0.005257       0.005257       0.005257       0.005257   \n",
       "4           0.005257       0.005257       0.005257       0.005257   \n",
       "...              ...            ...            ...            ...   \n",
       "31793       0.005257       0.005257       0.005257       0.005257   \n",
       "31794       0.005257       0.005257       0.005257       0.005257   \n",
       "31795       0.005257       0.005257       0.005257       0.005257   \n",
       "31796       0.005257       0.005257       0.005257       0.005257   \n",
       "31797       0.005257       0.005257       0.005257       0.005257   \n",
       "\n",
       "       Unnamed: 5405  Unnamed: 5406  Unnamed: 5407  Unnamed: 5408  \\\n",
       "0           0.005257       0.005257       0.005257       0.005257   \n",
       "1           0.005257       0.005257       0.005257       0.005257   \n",
       "2           0.005257       0.005257       0.005257       0.005257   \n",
       "3           0.005257       0.005257       0.005257       0.005257   \n",
       "4           0.005257       0.005257       0.005257       0.005257   \n",
       "...              ...            ...            ...            ...   \n",
       "31793       0.005257       0.005257       0.005257       0.005257   \n",
       "31794       0.005257       0.005257       0.005257       0.005257   \n",
       "31795       0.005257       0.005257       0.005257       0.005257   \n",
       "31796       0.005257       0.005257       0.005257       0.005257   \n",
       "31797       0.005257       0.005257       0.005257       0.005257   \n",
       "\n",
       "       Unnamed: 5409  \n",
       "0           0.005257  \n",
       "1           0.005257  \n",
       "2           0.005257  \n",
       "3           0.005257  \n",
       "4           0.005257  \n",
       "...              ...  \n",
       "31793       0.005257  \n",
       "31794       0.005256  \n",
       "31795       0.005256  \n",
       "31796       0.005257  \n",
       "31797       0.005256  \n",
       "\n",
       "[31798 rows x 5410 columns]"
      ]
     },
     "execution_count": 4,
     "metadata": {},
     "output_type": "execute_result"
    }
   ],
   "source": [
    "galstar"
   ]
  },
  {
   "cell_type": "code",
   "execution_count": 5,
   "metadata": {},
   "outputs": [],
   "source": [
    "galstar = galstar.iloc[:,1:]\n",
    "galstar_labels = galstar['y']\n",
    "galstar_images = galstar.iloc[:,1:]"
   ]
  },
  {
   "cell_type": "code",
   "execution_count": 8,
   "metadata": {},
   "outputs": [
    {
     "data": {
      "text/plain": [
       "(31798, 5408)"
      ]
     },
     "execution_count": 8,
     "metadata": {},
     "output_type": "execute_result"
    }
   ],
   "source": [
    "galstar_images.shape"
   ]
  },
  {
   "cell_type": "markdown",
   "metadata": {},
   "source": [
    "8, 26x26 images per object, 4 different bands, (think of these like the RBG Pixels) and 4 Point Spread Function Images"
   ]
  },
  {
   "cell_type": "code",
   "execution_count": 6,
   "metadata": {},
   "outputs": [
    {
     "data": {
      "image/png": "[encoded data removed]",
      "text/plain": [
       "<Figure size 432x288 with 1 Axes>"
      ]
     },
     "metadata": {
      "needs_background": "light"
     },
     "output_type": "display_data"
    },
    {
     "data": {
      "image/png": "[encoded data removed]",
      "text/plain": [
       "<Figure size 432x288 with 1 Axes>"
      ]
     },
     "metadata": {
      "needs_background": "light"
     },
     "output_type": "display_data"
    },
    {
     "data": {
      "image/png": "[encoded data removed]",
      "text/plain": [
       "<Figure size 432x288 with 1 Axes>"
      ]
     },
     "metadata": {
      "needs_background": "light"
     },
     "output_type": "display_data"
    },
    {
     "data": {
      "image/png": "[encoded data removed]",
      "text/plain": [
       "<Figure size 432x288 with 1 Axes>"
      ]
     },
     "metadata": {
      "needs_background": "light"
     },
     "output_type": "display_data"
    },
    {
     "data": {
      "image/png": "[encoded data removed]",
      "text/plain": [
       "<Figure size 432x288 with 1 Axes>"
      ]
     },
     "metadata": {
      "needs_background": "light"
     },
     "output_type": "display_data"
    },
    {
     "data": {
      "image/png": "[encoded data removed]",
      "text/plain": [
       "<Figure size 432x288 with 1 Axes>"
      ]
     },
     "metadata": {
      "needs_background": "light"
     },
     "output_type": "display_data"
    },
    {
     "data": {
      "image/png": "[encoded data removed]",
      "text/plain": [
       "<Figure size 432x288 with 1 Axes>"
      ]
     },
     "metadata": {
      "needs_background": "light"
     },
     "output_type": "display_data"
    },
    {
     "data": {
      "image/png": "[encoded data removed]",
      "text/plain": [
       "<Figure size 432x288 with 1 Axes>"
      ]
     },
     "metadata": {
      "needs_background": "light"
     },
     "output_type": "display_data"
    }
   ],
   "source": [
    "data = galstar_images.values\n",
    "labels = galstar_labels.values\n",
    "\n",
    "    \n",
    "data_pre = data.reshape(31798,8,26,26)  #griz (psf-g, psf-r,psf-i,psf-z) 8 channels,they claim up to mag27 in the i band\n",
    "\n",
    "\n",
    "for i in range(8):\n",
    "    plt.imshow(data_pre[0,i,:,:],cmap='magma')\n",
    "    plt.show()"
   ]
  },
  {
   "cell_type": "markdown",
   "metadata": {},
   "source": [
    "### Normalization\n",
    "could try different normalization here"
   ]
  },
  {
   "cell_type": "code",
   "execution_count": 9,
   "metadata": {},
   "outputs": [
    {
     "name": "stderr",
     "output_type": "stream",
     "text": [
      "100%|██████████| 31798/31798 [00:22<00:00, 1415.25it/s]\n"
     ]
    }
   ],
   "source": [
    "vec_one_ = np.ones((26,26))\n",
    "\n",
    "for i in tqdm(range(31798)):\n",
    "    for j in range(8):\n",
    "        \n",
    "        \n",
    "        data_pre[i,j,:,:] = data_pre[i,j,:,:]- np.amin(data_pre[i,j,:,:])*vec_one_  #background subtract\n",
    "        data_pre[i,j,:,:] = data_pre[i,j,:,:] / np.max(data_pre[i,j,:,:])  #normalize between 0 and 1\n",
    "        \n",
    "        assert np.max(data_pre[i,j,:,:]) ==1 and np.min(data_pre[i,j,:,:]) ==0,'check normalization'\n"
   ]
  },
  {
   "cell_type": "code",
   "execution_count": 10,
   "metadata": {},
   "outputs": [
    {
     "data": {
      "image/png": "[encoded data removed]",
      "text/plain": [
       "<Figure size 432x288 with 1 Axes>"
      ]
     },
     "metadata": {
      "needs_background": "light"
     },
     "output_type": "display_data"
    },
    {
     "data": {
      "image/png": "[encoded data removed]",
      "text/plain": [
       "<Figure size 432x288 with 1 Axes>"
      ]
     },
     "metadata": {
      "needs_background": "light"
     },
     "output_type": "display_data"
    },
    {
     "data": {
      "image/png": "[encoded data removed]",
      "text/plain": [
       "<Figure size 432x288 with 1 Axes>"
      ]
     },
     "metadata": {
      "needs_background": "light"
     },
     "output_type": "display_data"
    },
    {
     "data": {
      "image/png": "[encoded data removed]",
      "text/plain": [
       "<Figure size 432x288 with 1 Axes>"
      ]
     },
     "metadata": {
      "needs_background": "light"
     },
     "output_type": "display_data"
    },
    {
     "data": {
      "image/png": "[encoded data removed]",
      "text/plain": [
       "<Figure size 432x288 with 1 Axes>"
      ]
     },
     "metadata": {
      "needs_background": "light"
     },
     "output_type": "display_data"
    },
    {
     "data": {
      "image/png": "[encoded data removed]",
      "text/plain": [
       "<Figure size 432x288 with 1 Axes>"
      ]
     },
     "metadata": {
      "needs_background": "light"
     },
     "output_type": "display_data"
    },
    {
     "data": {
      "image/png": "[encoded data removed]",
      "text/plain": [
       "<Figure size 432x288 with 1 Axes>"
      ]
     },
     "metadata": {
      "needs_background": "light"
     },
     "output_type": "display_data"
    },
    {
     "data": {
      "image/png": "[encoded data removed]",
      "text/plain": [
       "<Figure size 432x288 with 1 Axes>"
      ]
     },
     "metadata": {
      "needs_background": "light"
     },
     "output_type": "display_data"
    }
   ],
   "source": [
    "for i in range(8):\n",
    "    plt.imshow(data_pre[0,i,:,:],cmap='magma')\n",
    "    plt.show()"
   ]
  },
  {
   "cell_type": "markdown",
   "metadata": {},
   "source": [
    "### Split data into train, test, validation"
   ]
  },
  {
   "cell_type": "code",
   "execution_count": 11,
   "metadata": {},
   "outputs": [],
   "source": [
    "from sklearn.model_selection import train_test_split"
   ]
  },
  {
   "cell_type": "code",
   "execution_count": 28,
   "metadata": {},
   "outputs": [],
   "source": [
    "train_ratio = 0.75\n",
    "validation_ratio = 0.15\n",
    "test_ratio = 0.10\n",
    "\n",
    "# train is now 75% of the entire data set\n",
    "# the _junk suffix means that we drop that variable completely\n",
    "train,test = train_test_split(galstar, stratify = galstar.y,test_size=1 - train_ratio)\n",
    "\n",
    "# test is now 10% of the initial data set\n",
    "# validation is now 15% of the initial data set\n",
    "validation,test = train_test_split(test,stratify=test.y,test_size=test_ratio/(test_ratio + validation_ratio))"
   ]
  },
  {
   "cell_type": "code",
   "execution_count": 29,
   "metadata": {
    "scrolled": true
   },
   "outputs": [
    {
     "data": {
      "text/html": [
       "<div>\n",
       "<style scoped>\n",
       "    .dataframe tbody tr th:only-of-type {\n",
       "        vertical-align: middle;\n",
       "    }\n",
       "\n",
       "    .dataframe tbody tr th {\n",
       "        vertical-align: top;\n",
       "    }\n",
       "\n",
       "    .dataframe thead th {\n",
       "        text-align: right;\n",
       "    }\n",
       "</style>\n",
       "<table border=\"1\" class=\"dataframe\">\n",
       "  <thead>\n",
       "    <tr style=\"text-align: right;\">\n",
       "      <th></th>\n",
       "      <th>y</th>\n",
       "      <th>Unnamed: 2</th>\n",
       "      <th>Unnamed: 3</th>\n",
       "      <th>Unnamed: 4</th>\n",
       "      <th>Unnamed: 5</th>\n",
       "      <th>Unnamed: 6</th>\n",
       "      <th>Unnamed: 7</th>\n",
       "      <th>Unnamed: 8</th>\n",
       "      <th>Unnamed: 9</th>\n",
       "      <th>Unnamed: 10</th>\n",
       "      <th>...</th>\n",
       "      <th>Unnamed: 5400</th>\n",
       "      <th>Unnamed: 5401</th>\n",
       "      <th>Unnamed: 5402</th>\n",
       "      <th>Unnamed: 5403</th>\n",
       "      <th>Unnamed: 5404</th>\n",
       "      <th>Unnamed: 5405</th>\n",
       "      <th>Unnamed: 5406</th>\n",
       "      <th>Unnamed: 5407</th>\n",
       "      <th>Unnamed: 5408</th>\n",
       "      <th>Unnamed: 5409</th>\n",
       "    </tr>\n",
       "  </thead>\n",
       "  <tbody>\n",
       "    <tr>\n",
       "      <td>14034</td>\n",
       "      <td>0</td>\n",
       "      <td>0.005234</td>\n",
       "      <td>0.005252</td>\n",
       "      <td>0.005329</td>\n",
       "      <td>0.005215</td>\n",
       "      <td>0.005330</td>\n",
       "      <td>0.005180</td>\n",
       "      <td>0.005257</td>\n",
       "      <td>0.005265</td>\n",
       "      <td>0.005294</td>\n",
       "      <td>...</td>\n",
       "      <td>0.005257</td>\n",
       "      <td>0.005257</td>\n",
       "      <td>0.005257</td>\n",
       "      <td>0.005257</td>\n",
       "      <td>0.005257</td>\n",
       "      <td>0.005257</td>\n",
       "      <td>0.005257</td>\n",
       "      <td>0.005257</td>\n",
       "      <td>0.005257</td>\n",
       "      <td>0.005257</td>\n",
       "    </tr>\n",
       "    <tr>\n",
       "      <td>18846</td>\n",
       "      <td>1</td>\n",
       "      <td>0.005284</td>\n",
       "      <td>0.005297</td>\n",
       "      <td>0.005307</td>\n",
       "      <td>0.005246</td>\n",
       "      <td>0.005308</td>\n",
       "      <td>0.005273</td>\n",
       "      <td>0.005320</td>\n",
       "      <td>0.005322</td>\n",
       "      <td>0.005286</td>\n",
       "      <td>...</td>\n",
       "      <td>0.005257</td>\n",
       "      <td>0.005257</td>\n",
       "      <td>0.005257</td>\n",
       "      <td>0.005257</td>\n",
       "      <td>0.005257</td>\n",
       "      <td>0.005257</td>\n",
       "      <td>0.005257</td>\n",
       "      <td>0.005257</td>\n",
       "      <td>0.005257</td>\n",
       "      <td>0.005257</td>\n",
       "    </tr>\n",
       "    <tr>\n",
       "      <td>28529</td>\n",
       "      <td>1</td>\n",
       "      <td>0.005263</td>\n",
       "      <td>0.005270</td>\n",
       "      <td>0.005276</td>\n",
       "      <td>0.005283</td>\n",
       "      <td>0.005241</td>\n",
       "      <td>0.005211</td>\n",
       "      <td>0.005329</td>\n",
       "      <td>0.005199</td>\n",
       "      <td>0.005230</td>\n",
       "      <td>...</td>\n",
       "      <td>0.005257</td>\n",
       "      <td>0.005257</td>\n",
       "      <td>0.005257</td>\n",
       "      <td>0.005257</td>\n",
       "      <td>0.005257</td>\n",
       "      <td>0.005257</td>\n",
       "      <td>0.005257</td>\n",
       "      <td>0.005257</td>\n",
       "      <td>0.005257</td>\n",
       "      <td>0.005256</td>\n",
       "    </tr>\n",
       "    <tr>\n",
       "      <td>14862</td>\n",
       "      <td>0</td>\n",
       "      <td>0.005193</td>\n",
       "      <td>0.005206</td>\n",
       "      <td>0.005346</td>\n",
       "      <td>0.005251</td>\n",
       "      <td>0.005292</td>\n",
       "      <td>0.005230</td>\n",
       "      <td>0.005257</td>\n",
       "      <td>0.005215</td>\n",
       "      <td>0.005356</td>\n",
       "      <td>...</td>\n",
       "      <td>0.005257</td>\n",
       "      <td>0.005257</td>\n",
       "      <td>0.005257</td>\n",
       "      <td>0.005257</td>\n",
       "      <td>0.005257</td>\n",
       "      <td>0.005257</td>\n",
       "      <td>0.005257</td>\n",
       "      <td>0.005257</td>\n",
       "      <td>0.005257</td>\n",
       "      <td>0.005256</td>\n",
       "    </tr>\n",
       "    <tr>\n",
       "      <td>17128</td>\n",
       "      <td>0</td>\n",
       "      <td>0.005332</td>\n",
       "      <td>0.005318</td>\n",
       "      <td>0.005216</td>\n",
       "      <td>0.005282</td>\n",
       "      <td>0.005282</td>\n",
       "      <td>0.005299</td>\n",
       "      <td>0.005299</td>\n",
       "      <td>0.005241</td>\n",
       "      <td>0.005322</td>\n",
       "      <td>...</td>\n",
       "      <td>0.005257</td>\n",
       "      <td>0.005257</td>\n",
       "      <td>0.005257</td>\n",
       "      <td>0.005257</td>\n",
       "      <td>0.005257</td>\n",
       "      <td>0.005257</td>\n",
       "      <td>0.005257</td>\n",
       "      <td>0.005257</td>\n",
       "      <td>0.005257</td>\n",
       "      <td>0.005256</td>\n",
       "    </tr>\n",
       "    <tr>\n",
       "      <td>...</td>\n",
       "      <td>...</td>\n",
       "      <td>...</td>\n",
       "      <td>...</td>\n",
       "      <td>...</td>\n",
       "      <td>...</td>\n",
       "      <td>...</td>\n",
       "      <td>...</td>\n",
       "      <td>...</td>\n",
       "      <td>...</td>\n",
       "      <td>...</td>\n",
       "      <td>...</td>\n",
       "      <td>...</td>\n",
       "      <td>...</td>\n",
       "      <td>...</td>\n",
       "      <td>...</td>\n",
       "      <td>...</td>\n",
       "      <td>...</td>\n",
       "      <td>...</td>\n",
       "      <td>...</td>\n",
       "      <td>...</td>\n",
       "      <td>...</td>\n",
       "    </tr>\n",
       "    <tr>\n",
       "      <td>20209</td>\n",
       "      <td>1</td>\n",
       "      <td>0.005256</td>\n",
       "      <td>0.005256</td>\n",
       "      <td>0.005256</td>\n",
       "      <td>0.005258</td>\n",
       "      <td>0.005256</td>\n",
       "      <td>0.005256</td>\n",
       "      <td>0.005256</td>\n",
       "      <td>0.005257</td>\n",
       "      <td>0.005257</td>\n",
       "      <td>...</td>\n",
       "      <td>0.005257</td>\n",
       "      <td>0.005257</td>\n",
       "      <td>0.005257</td>\n",
       "      <td>0.005257</td>\n",
       "      <td>0.005257</td>\n",
       "      <td>0.005257</td>\n",
       "      <td>0.005257</td>\n",
       "      <td>0.005257</td>\n",
       "      <td>0.005256</td>\n",
       "      <td>0.005257</td>\n",
       "    </tr>\n",
       "    <tr>\n",
       "      <td>30205</td>\n",
       "      <td>1</td>\n",
       "      <td>0.005258</td>\n",
       "      <td>0.005262</td>\n",
       "      <td>0.005259</td>\n",
       "      <td>0.005249</td>\n",
       "      <td>0.005331</td>\n",
       "      <td>0.005258</td>\n",
       "      <td>0.005204</td>\n",
       "      <td>0.005218</td>\n",
       "      <td>0.005279</td>\n",
       "      <td>...</td>\n",
       "      <td>0.005257</td>\n",
       "      <td>0.005257</td>\n",
       "      <td>0.005257</td>\n",
       "      <td>0.005257</td>\n",
       "      <td>0.005257</td>\n",
       "      <td>0.005257</td>\n",
       "      <td>0.005257</td>\n",
       "      <td>0.005257</td>\n",
       "      <td>0.005257</td>\n",
       "      <td>0.005257</td>\n",
       "    </tr>\n",
       "    <tr>\n",
       "      <td>14246</td>\n",
       "      <td>0</td>\n",
       "      <td>0.005252</td>\n",
       "      <td>0.005296</td>\n",
       "      <td>0.005342</td>\n",
       "      <td>0.005320</td>\n",
       "      <td>0.005377</td>\n",
       "      <td>0.005353</td>\n",
       "      <td>0.005226</td>\n",
       "      <td>0.005372</td>\n",
       "      <td>0.005306</td>\n",
       "      <td>...</td>\n",
       "      <td>0.005257</td>\n",
       "      <td>0.005257</td>\n",
       "      <td>0.005257</td>\n",
       "      <td>0.005257</td>\n",
       "      <td>0.005257</td>\n",
       "      <td>0.005257</td>\n",
       "      <td>0.005257</td>\n",
       "      <td>0.005257</td>\n",
       "      <td>0.005256</td>\n",
       "      <td>0.005256</td>\n",
       "    </tr>\n",
       "    <tr>\n",
       "      <td>6667</td>\n",
       "      <td>0</td>\n",
       "      <td>0.005338</td>\n",
       "      <td>0.005257</td>\n",
       "      <td>0.005326</td>\n",
       "      <td>0.005231</td>\n",
       "      <td>0.005257</td>\n",
       "      <td>0.005276</td>\n",
       "      <td>0.005275</td>\n",
       "      <td>0.005262</td>\n",
       "      <td>0.005257</td>\n",
       "      <td>...</td>\n",
       "      <td>0.005257</td>\n",
       "      <td>0.005257</td>\n",
       "      <td>0.005257</td>\n",
       "      <td>0.005257</td>\n",
       "      <td>0.005257</td>\n",
       "      <td>0.005257</td>\n",
       "      <td>0.005257</td>\n",
       "      <td>0.005257</td>\n",
       "      <td>0.005257</td>\n",
       "      <td>0.005257</td>\n",
       "    </tr>\n",
       "    <tr>\n",
       "      <td>5354</td>\n",
       "      <td>0</td>\n",
       "      <td>0.005309</td>\n",
       "      <td>0.005299</td>\n",
       "      <td>0.005348</td>\n",
       "      <td>0.005364</td>\n",
       "      <td>0.005280</td>\n",
       "      <td>0.005205</td>\n",
       "      <td>0.005290</td>\n",
       "      <td>0.005272</td>\n",
       "      <td>0.005259</td>\n",
       "      <td>...</td>\n",
       "      <td>0.005257</td>\n",
       "      <td>0.005257</td>\n",
       "      <td>0.005257</td>\n",
       "      <td>0.005257</td>\n",
       "      <td>0.005257</td>\n",
       "      <td>0.005257</td>\n",
       "      <td>0.005257</td>\n",
       "      <td>0.005257</td>\n",
       "      <td>0.005257</td>\n",
       "      <td>0.005256</td>\n",
       "    </tr>\n",
       "  </tbody>\n",
       "</table>\n",
       "<p>23848 rows × 5409 columns</p>\n",
       "</div>"
      ],
      "text/plain": [
       "       y  Unnamed: 2  Unnamed: 3  Unnamed: 4  Unnamed: 5  Unnamed: 6  \\\n",
       "14034  0    0.005234    0.005252    0.005329    0.005215    0.005330   \n",
       "18846  1    0.005284    0.005297    0.005307    0.005246    0.005308   \n",
       "28529  1    0.005263    0.005270    0.005276    0.005283    0.005241   \n",
       "14862  0    0.005193    0.005206    0.005346    0.005251    0.005292   \n",
       "17128  0    0.005332    0.005318    0.005216    0.005282    0.005282   \n",
       "...   ..         ...         ...         ...         ...         ...   \n",
       "20209  1    0.005256    0.005256    0.005256    0.005258    0.005256   \n",
       "30205  1    0.005258    0.005262    0.005259    0.005249    0.005331   \n",
       "14246  0    0.005252    0.005296    0.005342    0.005320    0.005377   \n",
       "6667   0    0.005338    0.005257    0.005326    0.005231    0.005257   \n",
       "5354   0    0.005309    0.005299    0.005348    0.005364    0.005280   \n",
       "\n",
       "       Unnamed: 7  Unnamed: 8  Unnamed: 9  Unnamed: 10  ...  Unnamed: 5400  \\\n",
       "14034    0.005180    0.005257    0.005265     0.005294  ...       0.005257   \n",
       "18846    0.005273    0.005320    0.005322     0.005286  ...       0.005257   \n",
       "28529    0.005211    0.005329    0.005199     0.005230  ...       0.005257   \n",
       "14862    0.005230    0.005257    0.005215     0.005356  ...       0.005257   \n",
       "17128    0.005299    0.005299    0.005241     0.005322  ...       0.005257   \n",
       "...           ...         ...         ...          ...  ...            ...   \n",
       "20209    0.005256    0.005256    0.005257     0.005257  ...       0.005257   \n",
       "30205    0.005258    0.005204    0.005218     0.005279  ...       0.005257   \n",
       "14246    0.005353    0.005226    0.005372     0.005306  ...       0.005257   \n",
       "6667     0.005276    0.005275    0.005262     0.005257  ...       0.005257   \n",
       "5354     0.005205    0.005290    0.005272     0.005259  ...       0.005257   \n",
       "\n",
       "       Unnamed: 5401  Unnamed: 5402  Unnamed: 5403  Unnamed: 5404  \\\n",
       "14034       0.005257       0.005257       0.005257       0.005257   \n",
       "18846       0.005257       0.005257       0.005257       0.005257   \n",
       "28529       0.005257       0.005257       0.005257       0.005257   \n",
       "14862       0.005257       0.005257       0.005257       0.005257   \n",
       "17128       0.005257       0.005257       0.005257       0.005257   \n",
       "...              ...            ...            ...            ...   \n",
       "20209       0.005257       0.005257       0.005257       0.005257   \n",
       "30205       0.005257       0.005257       0.005257       0.005257   \n",
       "14246       0.005257       0.005257       0.005257       0.005257   \n",
       "6667        0.005257       0.005257       0.005257       0.005257   \n",
       "5354        0.005257       0.005257       0.005257       0.005257   \n",
       "\n",
       "       Unnamed: 5405  Unnamed: 5406  Unnamed: 5407  Unnamed: 5408  \\\n",
       "14034       0.005257       0.005257       0.005257       0.005257   \n",
       "18846       0.005257       0.005257       0.005257       0.005257   \n",
       "28529       0.005257       0.005257       0.005257       0.005257   \n",
       "14862       0.005257       0.005257       0.005257       0.005257   \n",
       "17128       0.005257       0.005257       0.005257       0.005257   \n",
       "...              ...            ...            ...            ...   \n",
       "20209       0.005257       0.005257       0.005257       0.005256   \n",
       "30205       0.005257       0.005257       0.005257       0.005257   \n",
       "14246       0.005257       0.005257       0.005257       0.005256   \n",
       "6667        0.005257       0.005257       0.005257       0.005257   \n",
       "5354        0.005257       0.005257       0.005257       0.005257   \n",
       "\n",
       "       Unnamed: 5409  \n",
       "14034       0.005257  \n",
       "18846       0.005257  \n",
       "28529       0.005256  \n",
       "14862       0.005256  \n",
       "17128       0.005256  \n",
       "...              ...  \n",
       "20209       0.005257  \n",
       "30205       0.005257  \n",
       "14246       0.005256  \n",
       "6667        0.005257  \n",
       "5354        0.005256  \n",
       "\n",
       "[23848 rows x 5409 columns]"
      ]
     },
     "execution_count": 29,
     "metadata": {},
     "output_type": "execute_result"
    }
   ],
   "source": [
    "train"
   ]
  },
  {
   "cell_type": "code",
   "execution_count": 30,
   "metadata": {},
   "outputs": [
    {
     "data": {
      "text/html": [
       "<div>\n",
       "<style scoped>\n",
       "    .dataframe tbody tr th:only-of-type {\n",
       "        vertical-align: middle;\n",
       "    }\n",
       "\n",
       "    .dataframe tbody tr th {\n",
       "        vertical-align: top;\n",
       "    }\n",
       "\n",
       "    .dataframe thead th {\n",
       "        text-align: right;\n",
       "    }\n",
       "</style>\n",
       "<table border=\"1\" class=\"dataframe\">\n",
       "  <thead>\n",
       "    <tr style=\"text-align: right;\">\n",
       "      <th></th>\n",
       "      <th>y</th>\n",
       "      <th>Unnamed: 2</th>\n",
       "      <th>Unnamed: 3</th>\n",
       "      <th>Unnamed: 4</th>\n",
       "      <th>Unnamed: 5</th>\n",
       "      <th>Unnamed: 6</th>\n",
       "      <th>Unnamed: 7</th>\n",
       "      <th>Unnamed: 8</th>\n",
       "      <th>Unnamed: 9</th>\n",
       "      <th>Unnamed: 10</th>\n",
       "      <th>...</th>\n",
       "      <th>Unnamed: 5400</th>\n",
       "      <th>Unnamed: 5401</th>\n",
       "      <th>Unnamed: 5402</th>\n",
       "      <th>Unnamed: 5403</th>\n",
       "      <th>Unnamed: 5404</th>\n",
       "      <th>Unnamed: 5405</th>\n",
       "      <th>Unnamed: 5406</th>\n",
       "      <th>Unnamed: 5407</th>\n",
       "      <th>Unnamed: 5408</th>\n",
       "      <th>Unnamed: 5409</th>\n",
       "    </tr>\n",
       "  </thead>\n",
       "  <tbody>\n",
       "    <tr>\n",
       "      <td>21984</td>\n",
       "      <td>1</td>\n",
       "      <td>0.005165</td>\n",
       "      <td>0.005252</td>\n",
       "      <td>0.005265</td>\n",
       "      <td>0.005350</td>\n",
       "      <td>0.005239</td>\n",
       "      <td>0.005255</td>\n",
       "      <td>0.005260</td>\n",
       "      <td>0.005335</td>\n",
       "      <td>0.005307</td>\n",
       "      <td>...</td>\n",
       "      <td>0.005257</td>\n",
       "      <td>0.005257</td>\n",
       "      <td>0.005257</td>\n",
       "      <td>0.005257</td>\n",
       "      <td>0.005257</td>\n",
       "      <td>0.005257</td>\n",
       "      <td>0.005257</td>\n",
       "      <td>0.005257</td>\n",
       "      <td>0.005257</td>\n",
       "      <td>0.005257</td>\n",
       "    </tr>\n",
       "    <tr>\n",
       "      <td>22640</td>\n",
       "      <td>1</td>\n",
       "      <td>0.005285</td>\n",
       "      <td>0.005181</td>\n",
       "      <td>0.005207</td>\n",
       "      <td>0.005342</td>\n",
       "      <td>0.005316</td>\n",
       "      <td>0.005205</td>\n",
       "      <td>0.005292</td>\n",
       "      <td>0.005259</td>\n",
       "      <td>0.005224</td>\n",
       "      <td>...</td>\n",
       "      <td>0.005257</td>\n",
       "      <td>0.005257</td>\n",
       "      <td>0.005257</td>\n",
       "      <td>0.005257</td>\n",
       "      <td>0.005257</td>\n",
       "      <td>0.005257</td>\n",
       "      <td>0.005257</td>\n",
       "      <td>0.005257</td>\n",
       "      <td>0.005257</td>\n",
       "      <td>0.005257</td>\n",
       "    </tr>\n",
       "    <tr>\n",
       "      <td>23322</td>\n",
       "      <td>1</td>\n",
       "      <td>0.005290</td>\n",
       "      <td>0.005207</td>\n",
       "      <td>0.005219</td>\n",
       "      <td>0.005139</td>\n",
       "      <td>0.005270</td>\n",
       "      <td>0.005273</td>\n",
       "      <td>0.005234</td>\n",
       "      <td>0.005327</td>\n",
       "      <td>0.005274</td>\n",
       "      <td>...</td>\n",
       "      <td>0.005257</td>\n",
       "      <td>0.005257</td>\n",
       "      <td>0.005257</td>\n",
       "      <td>0.005257</td>\n",
       "      <td>0.005257</td>\n",
       "      <td>0.005257</td>\n",
       "      <td>0.005257</td>\n",
       "      <td>0.005257</td>\n",
       "      <td>0.005257</td>\n",
       "      <td>0.005257</td>\n",
       "    </tr>\n",
       "    <tr>\n",
       "      <td>4829</td>\n",
       "      <td>0</td>\n",
       "      <td>0.005386</td>\n",
       "      <td>0.005388</td>\n",
       "      <td>0.005279</td>\n",
       "      <td>0.005302</td>\n",
       "      <td>0.005235</td>\n",
       "      <td>0.005203</td>\n",
       "      <td>0.005245</td>\n",
       "      <td>0.005297</td>\n",
       "      <td>0.005308</td>\n",
       "      <td>...</td>\n",
       "      <td>0.005257</td>\n",
       "      <td>0.005257</td>\n",
       "      <td>0.005257</td>\n",
       "      <td>0.005257</td>\n",
       "      <td>0.005257</td>\n",
       "      <td>0.005257</td>\n",
       "      <td>0.005257</td>\n",
       "      <td>0.005256</td>\n",
       "      <td>0.005257</td>\n",
       "      <td>0.005257</td>\n",
       "    </tr>\n",
       "    <tr>\n",
       "      <td>26531</td>\n",
       "      <td>1</td>\n",
       "      <td>0.005294</td>\n",
       "      <td>0.005300</td>\n",
       "      <td>0.005266</td>\n",
       "      <td>0.005253</td>\n",
       "      <td>0.005246</td>\n",
       "      <td>0.005262</td>\n",
       "      <td>0.005292</td>\n",
       "      <td>0.005115</td>\n",
       "      <td>0.005350</td>\n",
       "      <td>...</td>\n",
       "      <td>0.005257</td>\n",
       "      <td>0.005257</td>\n",
       "      <td>0.005257</td>\n",
       "      <td>0.005257</td>\n",
       "      <td>0.005257</td>\n",
       "      <td>0.005257</td>\n",
       "      <td>0.005257</td>\n",
       "      <td>0.005257</td>\n",
       "      <td>0.005257</td>\n",
       "      <td>0.005257</td>\n",
       "    </tr>\n",
       "    <tr>\n",
       "      <td>...</td>\n",
       "      <td>...</td>\n",
       "      <td>...</td>\n",
       "      <td>...</td>\n",
       "      <td>...</td>\n",
       "      <td>...</td>\n",
       "      <td>...</td>\n",
       "      <td>...</td>\n",
       "      <td>...</td>\n",
       "      <td>...</td>\n",
       "      <td>...</td>\n",
       "      <td>...</td>\n",
       "      <td>...</td>\n",
       "      <td>...</td>\n",
       "      <td>...</td>\n",
       "      <td>...</td>\n",
       "      <td>...</td>\n",
       "      <td>...</td>\n",
       "      <td>...</td>\n",
       "      <td>...</td>\n",
       "      <td>...</td>\n",
       "      <td>...</td>\n",
       "    </tr>\n",
       "    <tr>\n",
       "      <td>4647</td>\n",
       "      <td>0</td>\n",
       "      <td>0.005256</td>\n",
       "      <td>0.005256</td>\n",
       "      <td>0.005256</td>\n",
       "      <td>0.005256</td>\n",
       "      <td>0.005257</td>\n",
       "      <td>0.005256</td>\n",
       "      <td>0.005257</td>\n",
       "      <td>0.005256</td>\n",
       "      <td>0.005257</td>\n",
       "      <td>...</td>\n",
       "      <td>0.005257</td>\n",
       "      <td>0.005257</td>\n",
       "      <td>0.005257</td>\n",
       "      <td>0.005257</td>\n",
       "      <td>0.005257</td>\n",
       "      <td>0.005257</td>\n",
       "      <td>0.005257</td>\n",
       "      <td>0.005257</td>\n",
       "      <td>0.005257</td>\n",
       "      <td>0.005256</td>\n",
       "    </tr>\n",
       "    <tr>\n",
       "      <td>2757</td>\n",
       "      <td>0</td>\n",
       "      <td>0.005335</td>\n",
       "      <td>0.005234</td>\n",
       "      <td>0.005237</td>\n",
       "      <td>0.005203</td>\n",
       "      <td>0.005192</td>\n",
       "      <td>0.005218</td>\n",
       "      <td>0.005255</td>\n",
       "      <td>0.005251</td>\n",
       "      <td>0.005257</td>\n",
       "      <td>...</td>\n",
       "      <td>0.005257</td>\n",
       "      <td>0.005257</td>\n",
       "      <td>0.005257</td>\n",
       "      <td>0.005257</td>\n",
       "      <td>0.005257</td>\n",
       "      <td>0.005257</td>\n",
       "      <td>0.005257</td>\n",
       "      <td>0.005257</td>\n",
       "      <td>0.005257</td>\n",
       "      <td>0.005257</td>\n",
       "    </tr>\n",
       "    <tr>\n",
       "      <td>25099</td>\n",
       "      <td>1</td>\n",
       "      <td>0.005345</td>\n",
       "      <td>0.005258</td>\n",
       "      <td>0.005272</td>\n",
       "      <td>0.005275</td>\n",
       "      <td>0.005273</td>\n",
       "      <td>0.005206</td>\n",
       "      <td>0.005252</td>\n",
       "      <td>0.005286</td>\n",
       "      <td>0.005323</td>\n",
       "      <td>...</td>\n",
       "      <td>0.005257</td>\n",
       "      <td>0.005257</td>\n",
       "      <td>0.005257</td>\n",
       "      <td>0.005257</td>\n",
       "      <td>0.005257</td>\n",
       "      <td>0.005257</td>\n",
       "      <td>0.005256</td>\n",
       "      <td>0.005257</td>\n",
       "      <td>0.005257</td>\n",
       "      <td>0.005256</td>\n",
       "    </tr>\n",
       "    <tr>\n",
       "      <td>3432</td>\n",
       "      <td>0</td>\n",
       "      <td>0.005275</td>\n",
       "      <td>0.005267</td>\n",
       "      <td>0.005278</td>\n",
       "      <td>0.005265</td>\n",
       "      <td>0.005276</td>\n",
       "      <td>0.005273</td>\n",
       "      <td>0.005253</td>\n",
       "      <td>0.005249</td>\n",
       "      <td>0.005314</td>\n",
       "      <td>...</td>\n",
       "      <td>0.005257</td>\n",
       "      <td>0.005257</td>\n",
       "      <td>0.005257</td>\n",
       "      <td>0.005257</td>\n",
       "      <td>0.005257</td>\n",
       "      <td>0.005257</td>\n",
       "      <td>0.005257</td>\n",
       "      <td>0.005257</td>\n",
       "      <td>0.005256</td>\n",
       "      <td>0.005256</td>\n",
       "    </tr>\n",
       "    <tr>\n",
       "      <td>14843</td>\n",
       "      <td>0</td>\n",
       "      <td>0.005280</td>\n",
       "      <td>0.005366</td>\n",
       "      <td>0.005269</td>\n",
       "      <td>0.005211</td>\n",
       "      <td>0.005275</td>\n",
       "      <td>0.005317</td>\n",
       "      <td>0.005381</td>\n",
       "      <td>0.005299</td>\n",
       "      <td>0.005381</td>\n",
       "      <td>...</td>\n",
       "      <td>0.005257</td>\n",
       "      <td>0.005257</td>\n",
       "      <td>0.005257</td>\n",
       "      <td>0.005257</td>\n",
       "      <td>0.005257</td>\n",
       "      <td>0.005257</td>\n",
       "      <td>0.005257</td>\n",
       "      <td>0.005257</td>\n",
       "      <td>0.005256</td>\n",
       "      <td>0.005256</td>\n",
       "    </tr>\n",
       "  </tbody>\n",
       "</table>\n",
       "<p>3180 rows × 5409 columns</p>\n",
       "</div>"
      ],
      "text/plain": [
       "       y  Unnamed: 2  Unnamed: 3  Unnamed: 4  Unnamed: 5  Unnamed: 6  \\\n",
       "21984  1    0.005165    0.005252    0.005265    0.005350    0.005239   \n",
       "22640  1    0.005285    0.005181    0.005207    0.005342    0.005316   \n",
       "23322  1    0.005290    0.005207    0.005219    0.005139    0.005270   \n",
       "4829   0    0.005386    0.005388    0.005279    0.005302    0.005235   \n",
       "26531  1    0.005294    0.005300    0.005266    0.005253    0.005246   \n",
       "...   ..         ...         ...         ...         ...         ...   \n",
       "4647   0    0.005256    0.005256    0.005256    0.005256    0.005257   \n",
       "2757   0    0.005335    0.005234    0.005237    0.005203    0.005192   \n",
       "25099  1    0.005345    0.005258    0.005272    0.005275    0.005273   \n",
       "3432   0    0.005275    0.005267    0.005278    0.005265    0.005276   \n",
       "14843  0    0.005280    0.005366    0.005269    0.005211    0.005275   \n",
       "\n",
       "       Unnamed: 7  Unnamed: 8  Unnamed: 9  Unnamed: 10  ...  Unnamed: 5400  \\\n",
       "21984    0.005255    0.005260    0.005335     0.005307  ...       0.005257   \n",
       "22640    0.005205    0.005292    0.005259     0.005224  ...       0.005257   \n",
       "23322    0.005273    0.005234    0.005327     0.005274  ...       0.005257   \n",
       "4829     0.005203    0.005245    0.005297     0.005308  ...       0.005257   \n",
       "26531    0.005262    0.005292    0.005115     0.005350  ...       0.005257   \n",
       "...           ...         ...         ...          ...  ...            ...   \n",
       "4647     0.005256    0.005257    0.005256     0.005257  ...       0.005257   \n",
       "2757     0.005218    0.005255    0.005251     0.005257  ...       0.005257   \n",
       "25099    0.005206    0.005252    0.005286     0.005323  ...       0.005257   \n",
       "3432     0.005273    0.005253    0.005249     0.005314  ...       0.005257   \n",
       "14843    0.005317    0.005381    0.005299     0.005381  ...       0.005257   \n",
       "\n",
       "       Unnamed: 5401  Unnamed: 5402  Unnamed: 5403  Unnamed: 5404  \\\n",
       "21984       0.005257       0.005257       0.005257       0.005257   \n",
       "22640       0.005257       0.005257       0.005257       0.005257   \n",
       "23322       0.005257       0.005257       0.005257       0.005257   \n",
       "4829        0.005257       0.005257       0.005257       0.005257   \n",
       "26531       0.005257       0.005257       0.005257       0.005257   \n",
       "...              ...            ...            ...            ...   \n",
       "4647        0.005257       0.005257       0.005257       0.005257   \n",
       "2757        0.005257       0.005257       0.005257       0.005257   \n",
       "25099       0.005257       0.005257       0.005257       0.005257   \n",
       "3432        0.005257       0.005257       0.005257       0.005257   \n",
       "14843       0.005257       0.005257       0.005257       0.005257   \n",
       "\n",
       "       Unnamed: 5405  Unnamed: 5406  Unnamed: 5407  Unnamed: 5408  \\\n",
       "21984       0.005257       0.005257       0.005257       0.005257   \n",
       "22640       0.005257       0.005257       0.005257       0.005257   \n",
       "23322       0.005257       0.005257       0.005257       0.005257   \n",
       "4829        0.005257       0.005257       0.005256       0.005257   \n",
       "26531       0.005257       0.005257       0.005257       0.005257   \n",
       "...              ...            ...            ...            ...   \n",
       "4647        0.005257       0.005257       0.005257       0.005257   \n",
       "2757        0.005257       0.005257       0.005257       0.005257   \n",
       "25099       0.005257       0.005256       0.005257       0.005257   \n",
       "3432        0.005257       0.005257       0.005257       0.005256   \n",
       "14843       0.005257       0.005257       0.005257       0.005256   \n",
       "\n",
       "       Unnamed: 5409  \n",
       "21984       0.005257  \n",
       "22640       0.005257  \n",
       "23322       0.005257  \n",
       "4829        0.005257  \n",
       "26531       0.005257  \n",
       "...              ...  \n",
       "4647        0.005256  \n",
       "2757        0.005257  \n",
       "25099       0.005256  \n",
       "3432        0.005256  \n",
       "14843       0.005256  \n",
       "\n",
       "[3180 rows x 5409 columns]"
      ]
     },
     "execution_count": 30,
     "metadata": {},
     "output_type": "execute_result"
    }
   ],
   "source": [
    "test"
   ]
  },
  {
   "cell_type": "code",
   "execution_count": 31,
   "metadata": {},
   "outputs": [
    {
     "data": {
      "text/html": [
       "<div>\n",
       "<style scoped>\n",
       "    .dataframe tbody tr th:only-of-type {\n",
       "        vertical-align: middle;\n",
       "    }\n",
       "\n",
       "    .dataframe tbody tr th {\n",
       "        vertical-align: top;\n",
       "    }\n",
       "\n",
       "    .dataframe thead th {\n",
       "        text-align: right;\n",
       "    }\n",
       "</style>\n",
       "<table border=\"1\" class=\"dataframe\">\n",
       "  <thead>\n",
       "    <tr style=\"text-align: right;\">\n",
       "      <th></th>\n",
       "      <th>y</th>\n",
       "      <th>Unnamed: 2</th>\n",
       "      <th>Unnamed: 3</th>\n",
       "      <th>Unnamed: 4</th>\n",
       "      <th>Unnamed: 5</th>\n",
       "      <th>Unnamed: 6</th>\n",
       "      <th>Unnamed: 7</th>\n",
       "      <th>Unnamed: 8</th>\n",
       "      <th>Unnamed: 9</th>\n",
       "      <th>Unnamed: 10</th>\n",
       "      <th>...</th>\n",
       "      <th>Unnamed: 5400</th>\n",
       "      <th>Unnamed: 5401</th>\n",
       "      <th>Unnamed: 5402</th>\n",
       "      <th>Unnamed: 5403</th>\n",
       "      <th>Unnamed: 5404</th>\n",
       "      <th>Unnamed: 5405</th>\n",
       "      <th>Unnamed: 5406</th>\n",
       "      <th>Unnamed: 5407</th>\n",
       "      <th>Unnamed: 5408</th>\n",
       "      <th>Unnamed: 5409</th>\n",
       "    </tr>\n",
       "  </thead>\n",
       "  <tbody>\n",
       "    <tr>\n",
       "      <td>13231</td>\n",
       "      <td>0</td>\n",
       "      <td>0.005118</td>\n",
       "      <td>0.005230</td>\n",
       "      <td>0.005241</td>\n",
       "      <td>0.005286</td>\n",
       "      <td>0.005320</td>\n",
       "      <td>0.005186</td>\n",
       "      <td>0.005279</td>\n",
       "      <td>0.005248</td>\n",
       "      <td>0.005321</td>\n",
       "      <td>...</td>\n",
       "      <td>0.005257</td>\n",
       "      <td>0.005257</td>\n",
       "      <td>0.005257</td>\n",
       "      <td>0.005257</td>\n",
       "      <td>0.005257</td>\n",
       "      <td>0.005257</td>\n",
       "      <td>0.005257</td>\n",
       "      <td>0.005256</td>\n",
       "      <td>0.005257</td>\n",
       "      <td>0.005256</td>\n",
       "    </tr>\n",
       "    <tr>\n",
       "      <td>12484</td>\n",
       "      <td>0</td>\n",
       "      <td>0.005298</td>\n",
       "      <td>0.005436</td>\n",
       "      <td>0.005246</td>\n",
       "      <td>0.005341</td>\n",
       "      <td>0.005260</td>\n",
       "      <td>0.005257</td>\n",
       "      <td>0.005265</td>\n",
       "      <td>0.005252</td>\n",
       "      <td>0.005259</td>\n",
       "      <td>...</td>\n",
       "      <td>0.005257</td>\n",
       "      <td>0.005257</td>\n",
       "      <td>0.005257</td>\n",
       "      <td>0.005257</td>\n",
       "      <td>0.005257</td>\n",
       "      <td>0.005257</td>\n",
       "      <td>0.005257</td>\n",
       "      <td>0.005257</td>\n",
       "      <td>0.005257</td>\n",
       "      <td>0.005256</td>\n",
       "    </tr>\n",
       "    <tr>\n",
       "      <td>28840</td>\n",
       "      <td>1</td>\n",
       "      <td>0.005226</td>\n",
       "      <td>0.005303</td>\n",
       "      <td>0.005239</td>\n",
       "      <td>0.005206</td>\n",
       "      <td>0.005280</td>\n",
       "      <td>0.005261</td>\n",
       "      <td>0.005262</td>\n",
       "      <td>0.005301</td>\n",
       "      <td>0.005304</td>\n",
       "      <td>...</td>\n",
       "      <td>0.005257</td>\n",
       "      <td>0.005257</td>\n",
       "      <td>0.005257</td>\n",
       "      <td>0.005257</td>\n",
       "      <td>0.005257</td>\n",
       "      <td>0.005257</td>\n",
       "      <td>0.005257</td>\n",
       "      <td>0.005257</td>\n",
       "      <td>0.005257</td>\n",
       "      <td>0.005257</td>\n",
       "    </tr>\n",
       "    <tr>\n",
       "      <td>27415</td>\n",
       "      <td>1</td>\n",
       "      <td>0.005227</td>\n",
       "      <td>0.005199</td>\n",
       "      <td>0.005262</td>\n",
       "      <td>0.005249</td>\n",
       "      <td>0.005246</td>\n",
       "      <td>0.005274</td>\n",
       "      <td>0.005280</td>\n",
       "      <td>0.005248</td>\n",
       "      <td>0.005296</td>\n",
       "      <td>...</td>\n",
       "      <td>0.005257</td>\n",
       "      <td>0.005257</td>\n",
       "      <td>0.005257</td>\n",
       "      <td>0.005257</td>\n",
       "      <td>0.005257</td>\n",
       "      <td>0.005257</td>\n",
       "      <td>0.005257</td>\n",
       "      <td>0.005257</td>\n",
       "      <td>0.005257</td>\n",
       "      <td>0.005257</td>\n",
       "    </tr>\n",
       "    <tr>\n",
       "      <td>11657</td>\n",
       "      <td>0</td>\n",
       "      <td>0.005240</td>\n",
       "      <td>0.005192</td>\n",
       "      <td>0.005270</td>\n",
       "      <td>0.005225</td>\n",
       "      <td>0.005301</td>\n",
       "      <td>0.005280</td>\n",
       "      <td>0.005203</td>\n",
       "      <td>0.005201</td>\n",
       "      <td>0.005302</td>\n",
       "      <td>...</td>\n",
       "      <td>0.005257</td>\n",
       "      <td>0.005257</td>\n",
       "      <td>0.005257</td>\n",
       "      <td>0.005257</td>\n",
       "      <td>0.005257</td>\n",
       "      <td>0.005257</td>\n",
       "      <td>0.005257</td>\n",
       "      <td>0.005257</td>\n",
       "      <td>0.005257</td>\n",
       "      <td>0.005256</td>\n",
       "    </tr>\n",
       "    <tr>\n",
       "      <td>...</td>\n",
       "      <td>...</td>\n",
       "      <td>...</td>\n",
       "      <td>...</td>\n",
       "      <td>...</td>\n",
       "      <td>...</td>\n",
       "      <td>...</td>\n",
       "      <td>...</td>\n",
       "      <td>...</td>\n",
       "      <td>...</td>\n",
       "      <td>...</td>\n",
       "      <td>...</td>\n",
       "      <td>...</td>\n",
       "      <td>...</td>\n",
       "      <td>...</td>\n",
       "      <td>...</td>\n",
       "      <td>...</td>\n",
       "      <td>...</td>\n",
       "      <td>...</td>\n",
       "      <td>...</td>\n",
       "      <td>...</td>\n",
       "      <td>...</td>\n",
       "    </tr>\n",
       "    <tr>\n",
       "      <td>23633</td>\n",
       "      <td>1</td>\n",
       "      <td>0.005386</td>\n",
       "      <td>0.005226</td>\n",
       "      <td>0.005306</td>\n",
       "      <td>0.005297</td>\n",
       "      <td>0.005293</td>\n",
       "      <td>0.005391</td>\n",
       "      <td>0.005369</td>\n",
       "      <td>0.005280</td>\n",
       "      <td>0.005228</td>\n",
       "      <td>...</td>\n",
       "      <td>0.005257</td>\n",
       "      <td>0.005257</td>\n",
       "      <td>0.005257</td>\n",
       "      <td>0.005257</td>\n",
       "      <td>0.005257</td>\n",
       "      <td>0.005257</td>\n",
       "      <td>0.005257</td>\n",
       "      <td>0.005257</td>\n",
       "      <td>0.005257</td>\n",
       "      <td>0.005257</td>\n",
       "    </tr>\n",
       "    <tr>\n",
       "      <td>21145</td>\n",
       "      <td>1</td>\n",
       "      <td>0.005165</td>\n",
       "      <td>0.005230</td>\n",
       "      <td>0.005139</td>\n",
       "      <td>0.005257</td>\n",
       "      <td>0.005374</td>\n",
       "      <td>0.005294</td>\n",
       "      <td>0.005216</td>\n",
       "      <td>0.005262</td>\n",
       "      <td>0.005240</td>\n",
       "      <td>...</td>\n",
       "      <td>0.005257</td>\n",
       "      <td>0.005257</td>\n",
       "      <td>0.005257</td>\n",
       "      <td>0.005257</td>\n",
       "      <td>0.005257</td>\n",
       "      <td>0.005257</td>\n",
       "      <td>0.005257</td>\n",
       "      <td>0.005257</td>\n",
       "      <td>0.005257</td>\n",
       "      <td>0.005257</td>\n",
       "    </tr>\n",
       "    <tr>\n",
       "      <td>23222</td>\n",
       "      <td>1</td>\n",
       "      <td>0.005273</td>\n",
       "      <td>0.005281</td>\n",
       "      <td>0.005321</td>\n",
       "      <td>0.005256</td>\n",
       "      <td>0.005256</td>\n",
       "      <td>0.005248</td>\n",
       "      <td>0.005192</td>\n",
       "      <td>0.005245</td>\n",
       "      <td>0.005283</td>\n",
       "      <td>...</td>\n",
       "      <td>0.005257</td>\n",
       "      <td>0.005257</td>\n",
       "      <td>0.005257</td>\n",
       "      <td>0.005257</td>\n",
       "      <td>0.005257</td>\n",
       "      <td>0.005257</td>\n",
       "      <td>0.005257</td>\n",
       "      <td>0.005257</td>\n",
       "      <td>0.005257</td>\n",
       "      <td>0.005256</td>\n",
       "    </tr>\n",
       "    <tr>\n",
       "      <td>25653</td>\n",
       "      <td>1</td>\n",
       "      <td>0.005322</td>\n",
       "      <td>0.005235</td>\n",
       "      <td>0.005273</td>\n",
       "      <td>0.005272</td>\n",
       "      <td>0.005244</td>\n",
       "      <td>0.005253</td>\n",
       "      <td>0.005265</td>\n",
       "      <td>0.005166</td>\n",
       "      <td>0.005315</td>\n",
       "      <td>...</td>\n",
       "      <td>0.005257</td>\n",
       "      <td>0.005257</td>\n",
       "      <td>0.005257</td>\n",
       "      <td>0.005257</td>\n",
       "      <td>0.005257</td>\n",
       "      <td>0.005257</td>\n",
       "      <td>0.005257</td>\n",
       "      <td>0.005257</td>\n",
       "      <td>0.005257</td>\n",
       "      <td>0.005257</td>\n",
       "    </tr>\n",
       "    <tr>\n",
       "      <td>28160</td>\n",
       "      <td>1</td>\n",
       "      <td>0.005236</td>\n",
       "      <td>0.005297</td>\n",
       "      <td>0.005253</td>\n",
       "      <td>0.005295</td>\n",
       "      <td>0.005201</td>\n",
       "      <td>0.005278</td>\n",
       "      <td>0.005210</td>\n",
       "      <td>0.005229</td>\n",
       "      <td>0.005294</td>\n",
       "      <td>...</td>\n",
       "      <td>0.005257</td>\n",
       "      <td>0.005257</td>\n",
       "      <td>0.005257</td>\n",
       "      <td>0.005256</td>\n",
       "      <td>0.005257</td>\n",
       "      <td>0.005257</td>\n",
       "      <td>0.005256</td>\n",
       "      <td>0.005257</td>\n",
       "      <td>0.005257</td>\n",
       "      <td>0.005256</td>\n",
       "    </tr>\n",
       "  </tbody>\n",
       "</table>\n",
       "<p>4770 rows × 5409 columns</p>\n",
       "</div>"
      ],
      "text/plain": [
       "       y  Unnamed: 2  Unnamed: 3  Unnamed: 4  Unnamed: 5  Unnamed: 6  \\\n",
       "13231  0    0.005118    0.005230    0.005241    0.005286    0.005320   \n",
       "12484  0    0.005298    0.005436    0.005246    0.005341    0.005260   \n",
       "28840  1    0.005226    0.005303    0.005239    0.005206    0.005280   \n",
       "27415  1    0.005227    0.005199    0.005262    0.005249    0.005246   \n",
       "11657  0    0.005240    0.005192    0.005270    0.005225    0.005301   \n",
       "...   ..         ...         ...         ...         ...         ...   \n",
       "23633  1    0.005386    0.005226    0.005306    0.005297    0.005293   \n",
       "21145  1    0.005165    0.005230    0.005139    0.005257    0.005374   \n",
       "23222  1    0.005273    0.005281    0.005321    0.005256    0.005256   \n",
       "25653  1    0.005322    0.005235    0.005273    0.005272    0.005244   \n",
       "28160  1    0.005236    0.005297    0.005253    0.005295    0.005201   \n",
       "\n",
       "       Unnamed: 7  Unnamed: 8  Unnamed: 9  Unnamed: 10  ...  Unnamed: 5400  \\\n",
       "13231    0.005186    0.005279    0.005248     0.005321  ...       0.005257   \n",
       "12484    0.005257    0.005265    0.005252     0.005259  ...       0.005257   \n",
       "28840    0.005261    0.005262    0.005301     0.005304  ...       0.005257   \n",
       "27415    0.005274    0.005280    0.005248     0.005296  ...       0.005257   \n",
       "11657    0.005280    0.005203    0.005201     0.005302  ...       0.005257   \n",
       "...           ...         ...         ...          ...  ...            ...   \n",
       "23633    0.005391    0.005369    0.005280     0.005228  ...       0.005257   \n",
       "21145    0.005294    0.005216    0.005262     0.005240  ...       0.005257   \n",
       "23222    0.005248    0.005192    0.005245     0.005283  ...       0.005257   \n",
       "25653    0.005253    0.005265    0.005166     0.005315  ...       0.005257   \n",
       "28160    0.005278    0.005210    0.005229     0.005294  ...       0.005257   \n",
       "\n",
       "       Unnamed: 5401  Unnamed: 5402  Unnamed: 5403  Unnamed: 5404  \\\n",
       "13231       0.005257       0.005257       0.005257       0.005257   \n",
       "12484       0.005257       0.005257       0.005257       0.005257   \n",
       "28840       0.005257       0.005257       0.005257       0.005257   \n",
       "27415       0.005257       0.005257       0.005257       0.005257   \n",
       "11657       0.005257       0.005257       0.005257       0.005257   \n",
       "...              ...            ...            ...            ...   \n",
       "23633       0.005257       0.005257       0.005257       0.005257   \n",
       "21145       0.005257       0.005257       0.005257       0.005257   \n",
       "23222       0.005257       0.005257       0.005257       0.005257   \n",
       "25653       0.005257       0.005257       0.005257       0.005257   \n",
       "28160       0.005257       0.005257       0.005256       0.005257   \n",
       "\n",
       "       Unnamed: 5405  Unnamed: 5406  Unnamed: 5407  Unnamed: 5408  \\\n",
       "13231       0.005257       0.005257       0.005256       0.005257   \n",
       "12484       0.005257       0.005257       0.005257       0.005257   \n",
       "28840       0.005257       0.005257       0.005257       0.005257   \n",
       "27415       0.005257       0.005257       0.005257       0.005257   \n",
       "11657       0.005257       0.005257       0.005257       0.005257   \n",
       "...              ...            ...            ...            ...   \n",
       "23633       0.005257       0.005257       0.005257       0.005257   \n",
       "21145       0.005257       0.005257       0.005257       0.005257   \n",
       "23222       0.005257       0.005257       0.005257       0.005257   \n",
       "25653       0.005257       0.005257       0.005257       0.005257   \n",
       "28160       0.005257       0.005256       0.005257       0.005257   \n",
       "\n",
       "       Unnamed: 5409  \n",
       "13231       0.005256  \n",
       "12484       0.005256  \n",
       "28840       0.005257  \n",
       "27415       0.005257  \n",
       "11657       0.005256  \n",
       "...              ...  \n",
       "23633       0.005257  \n",
       "21145       0.005257  \n",
       "23222       0.005256  \n",
       "25653       0.005257  \n",
       "28160       0.005256  \n",
       "\n",
       "[4770 rows x 5409 columns]"
      ]
     },
     "execution_count": 31,
     "metadata": {},
     "output_type": "execute_result"
    }
   ],
   "source": [
    "validation"
   ]
  },
  {
   "cell_type": "code",
   "execution_count": 32,
   "metadata": {},
   "outputs": [
    {
     "data": {
      "image/png": "[encoded data removed]",
      "text/plain": [
       "<Figure size 576x576 with 1 Axes>"
      ]
     },
     "metadata": {},
     "output_type": "display_data"
    }
   ],
   "source": [
    "label = 'Star','Galaxy'\n",
    "plt.figure(figsize = (8,8))\n",
    "plt.pie(train.groupby('y').size(), labels = label, autopct='%1.1f%%', shadow=True, startangle=90)\n",
    "plt.show()"
   ]
  },
  {
   "cell_type": "code",
   "execution_count": 107,
   "metadata": {},
   "outputs": [
    {
     "data": {
      "image/png": "[encoded data removed]",
      "text/plain": [
       "<Figure size 576x576 with 1 Axes>"
      ]
     },
     "metadata": {},
     "output_type": "display_data"
    }
   ],
   "source": [
    "label = 'Star','Galaxy'\n",
    "plt.figure(figsize = (8,8))\n",
    "plt.pie(validation.groupby('y').size(), labels = label, autopct='%1.1f%%', shadow=True, startangle=90)\n",
    "plt.show()"
   ]
  },
  {
   "cell_type": "code",
   "execution_count": 37,
   "metadata": {},
   "outputs": [],
   "source": [
    "def process_data(dataset):\n",
    "    labels = dataset['y'].values\n",
    "    images = dataset.iloc[:,1:].values\n",
    "    images = images.reshape(len(dataset),8,26,26)\n",
    "    vec_one_ = np.ones((26,26))\n",
    "\n",
    "    for i in tqdm(range(len(dataset))):\n",
    "        for j in range(8):\n",
    "\n",
    "\n",
    "            images[i,j,:,:] = images[i,j,:,:]- np.amin(images[i,j,:,:])*vec_one_  #background subtract\n",
    "            images[i,j,:,:] = images[i,j,:,:] / np.max(images[i,j,:,:])  #normalize between 0 and 1\n",
    "\n",
    "            assert np.max(data_pre[i,j,:,:]) ==1 and np.min(data_pre[i,j,:,:]) ==0,'check normalization'\n",
    "    return labels,images\n"
   ]
  },
  {
   "cell_type": "code",
   "execution_count": 38,
   "metadata": {},
   "outputs": [
    {
     "name": "stderr",
     "output_type": "stream",
     "text": [
      "100%|██████████| 23848/23848 [00:19<00:00, 1248.73it/s]\n"
     ]
    }
   ],
   "source": [
    "train_labels,train_images = process_data(train)"
   ]
  },
  {
   "cell_type": "code",
   "execution_count": 39,
   "metadata": {},
   "outputs": [
    {
     "name": "stderr",
     "output_type": "stream",
     "text": [
      "100%|██████████| 4770/4770 [00:03<00:00, 1251.30it/s]\n",
      "100%|██████████| 3180/3180 [00:02<00:00, 1280.41it/s]\n"
     ]
    }
   ],
   "source": [
    "val_labels,val_images = process_data(validation)\n",
    "test_labels,test_images = process_data(test)"
   ]
  },
  {
   "cell_type": "markdown",
   "metadata": {},
   "source": [
    "### Shuffle data, and transform to tensors"
   ]
  },
  {
   "cell_type": "code",
   "execution_count": 44,
   "metadata": {},
   "outputs": [],
   "source": [
    "train_labels = train_labels.reshape(-1,1)\n",
    "val_labels = val_labels.reshape(-1,1)\n",
    "\n",
    "train_tensor = TensorDataset(Tensor(train_images),Tensor(train_labels))\n",
    "val_tensor = TensorDataset(Tensor(val_images),Tensor(val_labels))\n",
    "test_tensor = TensorDataset(Tensor(test_images),Tensor(test_labels))"
   ]
  },
  {
   "cell_type": "code",
   "execution_count": 71,
   "metadata": {},
   "outputs": [],
   "source": [
    "train_loader = torch.utils.data.DataLoader(dataset=train_tensor,batch_size=64,shuffle=True)\n",
    "val_loader = torch.utils.data.DataLoader(dataset=val_tensor,batch_size=64,shuffle=False)\n",
    "test_loader = torch.utils.data.DataLoader(dataset=test_tensor,batch_size=64,shuffle=False)"
   ]
  },
  {
   "cell_type": "code",
   "execution_count": 72,
   "metadata": {},
   "outputs": [],
   "source": [
    "dataiter = iter(val_loader)\n",
    "img,label = dataiter.next()"
   ]
  },
  {
   "cell_type": "markdown",
   "metadata": {},
   "source": [
    "### Define CNN Model"
   ]
  },
  {
   "cell_type": "code",
   "execution_count": 49,
   "metadata": {},
   "outputs": [
    {
     "name": "stdout",
     "output_type": "stream",
     "text": [
      "cuda:0\n"
     ]
    }
   ],
   "source": [
    "if torch.cuda.is_available():\n",
    "    device = 'cuda:0'\n",
    "else:\n",
    "    device = 'cpu'\n",
    "\n",
    "device = torch.device(device)\n",
    "print(device)"
   ]
  },
  {
   "cell_type": "code",
   "execution_count": 88,
   "metadata": {},
   "outputs": [],
   "source": [
    "# Set parameters\n",
    "\n",
    "# Number of internal nodes of the nn\n",
    "nb_nodes = 32\n",
    "batch_size=64\n",
    "epochs = 300\n",
    "lr = .001\n",
    "input_channels = 8\n",
    "pool_size = 2\n",
    "dropout = 0.25"
   ]
  },
  {
   "cell_type": "markdown",
   "metadata": {},
   "source": [
    "We define a simple CNN with 2 convolutional layers, a max pooling layer after each convolutional layer, and dropout after each convolution layer, and then with 3 dense linear layers. "
   ]
  },
  {
   "cell_type": "code",
   "execution_count": 97,
   "metadata": {},
   "outputs": [],
   "source": [
    "class NewNet(nn.Module):\n",
    "    def __init__(self):\n",
    "        super().__init__()        \n",
    "        \n",
    "        self.conv1 = nn.Conv2d(int(input_channels),int(nb_nodes),3,stride = 1,padding=0)#16,24x24 ()\n",
    "        self.pool1 = nn.MaxPool2d(pool_size,pool_size)\n",
    "        self.dropout1 = nn.Dropout(p=dropout)\n",
    "        self.conv2 = nn.Conv2d(int(nb_nodes),int(nb_nodes/2),3,stride =1,padding = 0) #22x22,32#  batchnorm\n",
    "        self.pool2 = nn.MaxPool2d(pool_size,pool_size)\n",
    "        self.dropout2 = nn.Dropout(p=dropout)\n",
    "        self.fc1 = torch.nn.Linear(16*5*5, 100) # 100 is last.\n",
    "        self.fc2 = torch.nn.Linear(100, 50) # 100 is first, 50 is last.\n",
    "        self.fc3 = torch.nn.Linear(50, 1) # 50 is first, 20 is last.\n",
    "        \n",
    "    def forward(self,x):\n",
    "        x = self.dropout1(self.pool1(F.relu(self.conv1(x)))) # max_pool2d\n",
    "        x = self.dropout2(self.pool2(F.relu(self.conv2(x))))\n",
    "        #print(x.shape)\n",
    "        x = torch.flatten(x,1)\n",
    "        #print(x.shape)\n",
    "        x = torch.nn.functional.relu(self.fc1(x))\n",
    "        x = torch.nn.functional.relu(self.fc2(x))\n",
    "        x =  torch.sigmoid(self.fc3(x)) #binary, 0,1\n",
    "        \n",
    "        return x\n",
    "model = NewNet().to(device)"
   ]
  },
  {
   "cell_type": "code",
   "execution_count": 76,
   "metadata": {},
   "outputs": [],
   "source": [
    "from sklearn.metrics import accuracy_score\n",
    "def eval(y_true,y_pred):\n",
    "    accuracy = accuracy_score(y_true,y_pred>0.5)\n",
    "    return accuracy "
   ]
  },
  {
   "cell_type": "markdown",
   "metadata": {},
   "source": [
    "Train the model, store train and validation losses."
   ]
  },
  {
   "cell_type": "code",
   "execution_count": 131,
   "metadata": {},
   "outputs": [
    {
     "name": "stderr",
     "output_type": "stream",
     "text": [
      "  1%|          | 1/100 [00:04<06:57,  4.22s/it]"
     ]
    },
    {
     "name": "stdout",
     "output_type": "stream",
     "text": [
      "epoch 0     - tr_loss: 0.013413125517103249 val_loss: 0.05230215072631836 tr_acc: 0.995433981233244 val_acc: 0.9854166666666667 time: 4215 ms\n",
      "Training completed!\n"
     ]
    },
    {
     "name": "stderr",
     "output_type": "stream",
     "text": [
      "\r",
      "  2%|▏         | 2/100 [00:08<06:51,  4.20s/it]"
     ]
    },
    {
     "name": "stdout",
     "output_type": "stream",
     "text": [
      "epoch 1     - tr_loss: 0.014127630024044163 val_loss: 0.05162351926167806 tr_acc: 0.9948056300268097 val_acc: 0.9870833333333333 time: 4162 ms\n",
      "Training completed!\n"
     ]
    },
    {
     "name": "stderr",
     "output_type": "stream",
     "text": [
      "\r",
      "  3%|▎         | 3/100 [00:12<06:46,  4.20s/it]"
     ]
    },
    {
     "name": "stdout",
     "output_type": "stream",
     "text": [
      "epoch 2     - tr_loss: 0.012392430667997644 val_loss: 0.04931871732076009 tr_acc: 0.9955596514745308 val_acc: 0.9879166666666667 time: 4181 ms\n",
      "Training completed!\n"
     ]
    },
    {
     "name": "stderr",
     "output_type": "stream",
     "text": [
      "\r",
      "  4%|▍         | 4/100 [00:16<06:46,  4.23s/it]"
     ]
    },
    {
     "name": "stdout",
     "output_type": "stream",
     "text": [
      "epoch 3     - tr_loss: 0.013295638737260631 val_loss: 0.059144903818766276 tr_acc: 0.9953083109919572 val_acc: 0.9843995098039215 time: 4315 ms\n",
      "Training completed!\n"
     ]
    },
    {
     "name": "stderr",
     "output_type": "stream",
     "text": [
      "\r",
      "  5%|▌         | 5/100 [00:21<06:41,  4.22s/it]"
     ]
    },
    {
     "name": "stdout",
     "output_type": "stream",
     "text": [
      "epoch 4     - tr_loss: 0.013360253686699256 val_loss: 0.056334273020426436 tr_acc: 0.9950569705093834 val_acc: 0.985625 time: 4196 ms\n",
      "Training completed!\n"
     ]
    },
    {
     "name": "stderr",
     "output_type": "stream",
     "text": [
      "\r",
      "  6%|▌         | 6/100 [00:25<06:35,  4.20s/it]"
     ]
    },
    {
     "name": "stdout",
     "output_type": "stream",
     "text": [
      "epoch 5     - tr_loss: 0.01373772083871546 val_loss: 0.0588234011332194 tr_acc: 0.9954507372654157 val_acc: 0.9854166666666667 time: 4164 ms\n",
      "Training completed!\n"
     ]
    },
    {
     "name": "stderr",
     "output_type": "stream",
     "text": [
      "\r",
      "  7%|▋         | 7/100 [00:29<06:30,  4.20s/it]"
     ]
    },
    {
     "name": "stdout",
     "output_type": "stream",
     "text": [
      "epoch 6     - tr_loss: 0.013860984876568616 val_loss: 0.05090061823527018 tr_acc: 0.9949313002680965 val_acc: 0.986875 time: 4178 ms\n",
      "Training completed!\n"
     ]
    },
    {
     "name": "stderr",
     "output_type": "stream",
     "text": [
      "\r",
      "  8%|▊         | 8/100 [00:33<06:27,  4.21s/it]"
     ]
    },
    {
     "name": "stdout",
     "output_type": "stream",
     "text": [
      "epoch 7     - tr_loss: 0.014816789478577777 val_loss: 0.042151718139648436 tr_acc: 0.9944034852546918 val_acc: 0.9864583333333333 time: 4246 ms\n",
      "Training completed!\n"
     ]
    },
    {
     "name": "stderr",
     "output_type": "stream",
     "text": [
      "\r",
      "  9%|▉         | 9/100 [00:37<06:24,  4.23s/it]"
     ]
    },
    {
     "name": "stdout",
     "output_type": "stream",
     "text": [
      "epoch 8     - tr_loss: 0.014197366621218333 val_loss: 0.059246724446614586 tr_acc: 0.9946967158176945 val_acc: 0.9854166666666667 time: 4266 ms\n",
      "Training completed!\n"
     ]
    },
    {
     "name": "stderr",
     "output_type": "stream",
     "text": [
      "\r",
      " 10%|█         | 10/100 [00:42<06:18,  4.21s/it]"
     ]
    },
    {
     "name": "stdout",
     "output_type": "stream",
     "text": [
      "epoch 9     - tr_loss: 0.013071570029212587 val_loss: 0.055608698527018226 tr_acc: 0.9956434316353887 val_acc: 0.9872916666666667 time: 4161 ms\n",
      "Training completed!\n"
     ]
    },
    {
     "name": "stderr",
     "output_type": "stream",
     "text": [
      "\r",
      " 11%|█         | 11/100 [00:46<06:13,  4.20s/it]"
     ]
    },
    {
     "name": "stdout",
     "output_type": "stream",
     "text": [
      "epoch 10    - tr_loss: 0.012165749925224612 val_loss: 0.050548973083496096 tr_acc: 0.9956853217158177 val_acc: 0.9877083333333333 time: 4176 ms\n",
      "Training completed!\n"
     ]
    },
    {
     "name": "stderr",
     "output_type": "stream",
     "text": [
      "\r",
      " 12%|█▏        | 12/100 [00:50<06:10,  4.21s/it]"
     ]
    },
    {
     "name": "stdout",
     "output_type": "stream",
     "text": [
      "epoch 11    - tr_loss: 0.014014163497910615 val_loss: 0.05837188084920247 tr_acc: 0.995433981233244 val_acc: 0.9852328431372549 time: 4246 ms\n",
      "Training completed!\n"
     ]
    },
    {
     "name": "stderr",
     "output_type": "stream",
     "text": [
      "\r",
      " 13%|█▎        | 13/100 [00:54<06:08,  4.23s/it]"
     ]
    },
    {
     "name": "stdout",
     "output_type": "stream",
     "text": [
      "epoch 12    - tr_loss: 0.014569723514469616 val_loss: 0.05078790664672852 tr_acc: 0.9943448391420912 val_acc: 0.9875 time: 4269 ms\n",
      "Training completed!\n"
     ]
    },
    {
     "name": "stderr",
     "output_type": "stream",
     "text": [
      "\r",
      " 14%|█▍        | 14/100 [00:58<06:02,  4.21s/it]"
     ]
    },
    {
     "name": "stdout",
     "output_type": "stream",
     "text": [
      "epoch 13    - tr_loss: 0.01367755414482366 val_loss: 0.04933940887451172 tr_acc: 0.9948056300268097 val_acc: 0.9864583333333333 time: 4162 ms\n",
      "Training completed!\n"
     ]
    },
    {
     "name": "stderr",
     "output_type": "stream",
     "text": [
      "\r",
      " 15%|█▌        | 15/100 [01:03<05:57,  4.20s/it]"
     ]
    },
    {
     "name": "stdout",
     "output_type": "stream",
     "text": [
      "epoch 14    - tr_loss: 0.01250120306915158 val_loss: 0.05659503936767578 tr_acc: 0.9954758713136729 val_acc: 0.9858333333333333 time: 4175 ms\n",
      "Training completed!\n"
     ]
    },
    {
     "name": "stderr",
     "output_type": "stream",
     "text": [
      "\r",
      " 16%|█▌        | 16/100 [01:07<05:52,  4.19s/it]"
     ]
    },
    {
     "name": "stdout",
     "output_type": "stream",
     "text": [
      "epoch 15    - tr_loss: 0.01376263041025405 val_loss: 0.05841560999552409 tr_acc: 0.9950988605898123 val_acc: 0.985 time: 4170 ms\n",
      "Training completed!\n"
     ]
    },
    {
     "name": "stderr",
     "output_type": "stream",
     "text": [
      "\r",
      " 17%|█▋        | 17/100 [01:11<05:51,  4.24s/it]"
     ]
    },
    {
     "name": "stdout",
     "output_type": "stream",
     "text": [
      "epoch 16    - tr_loss: 0.012374040484326972 val_loss: 0.0665971565246582 tr_acc: 0.9956853217158177 val_acc: 0.98625 time: 4336 ms\n",
      "Training completed!\n"
     ]
    },
    {
     "name": "stderr",
     "output_type": "stream",
     "text": [
      "\r",
      " 18%|█▊        | 18/100 [01:15<05:45,  4.21s/it]"
     ]
    },
    {
     "name": "stdout",
     "output_type": "stream",
     "text": [
      "epoch 17    - tr_loss: 0.012517210505993278 val_loss: 0.054432735443115235 tr_acc: 0.9961880026809652 val_acc: 0.9839583333333334 time: 4162 ms\n",
      "Training completed!\n"
     ]
    },
    {
     "name": "stderr",
     "output_type": "stream",
     "text": [
      "\r",
      " 19%|█▉        | 19/100 [01:19<05:40,  4.20s/it]"
     ]
    },
    {
     "name": "stdout",
     "output_type": "stream",
     "text": [
      "epoch 18    - tr_loss: 0.012572537278925426 val_loss: 0.05768743515014649 tr_acc: 0.9950569705093834 val_acc: 0.9866666666666667 time: 4168 ms\n",
      "Epoch    19: reducing learning rate of group 0 to 2.0000e-05.\n",
      "Training completed!\n"
     ]
    },
    {
     "name": "stderr",
     "output_type": "stream",
     "text": [
      "\r",
      " 20%|██        | 20/100 [01:24<05:35,  4.19s/it]"
     ]
    },
    {
     "name": "stdout",
     "output_type": "stream",
     "text": [
      "epoch 19    - tr_loss: 0.010286564013233936 val_loss: 0.053015273412068686 tr_acc: 0.9961042225201072 val_acc: 0.9883333333333333 time: 4172 ms\n",
      "Training completed!\n"
     ]
    },
    {
     "name": "stderr",
     "output_type": "stream",
     "text": [
      "\r",
      " 21%|██        | 21/100 [01:28<05:34,  4.24s/it]"
     ]
    },
    {
     "name": "stdout",
     "output_type": "stream",
     "text": [
      "epoch 20    - tr_loss: 0.009277883841622285 val_loss: 0.06165606180826823 tr_acc: 0.9967325737265416 val_acc: 0.9847916666666666 time: 4339 ms\n",
      "Training completed!\n"
     ]
    },
    {
     "name": "stderr",
     "output_type": "stream",
     "text": [
      "\r",
      " 22%|██▏       | 22/100 [01:32<05:28,  4.22s/it]"
     ]
    },
    {
     "name": "stdout",
     "output_type": "stream",
     "text": [
      "epoch 21    - tr_loss: 0.009366446830356156 val_loss: 0.0561354382832845 tr_acc: 0.9966906836461126 val_acc: 0.9879166666666667 time: 4165 ms\n",
      "Training completed!\n"
     ]
    },
    {
     "name": "stderr",
     "output_type": "stream",
     "text": [
      "\r",
      " 23%|██▎       | 23/100 [01:36<05:23,  4.20s/it]"
     ]
    },
    {
     "name": "stdout",
     "output_type": "stream",
     "text": [
      "epoch 22    - tr_loss: 0.008923057798767025 val_loss: 0.05170979181925456 tr_acc: 0.9966487935656837 val_acc: 0.9864583333333333 time: 4170 ms\n",
      "Training completed!\n"
     ]
    },
    {
     "name": "stderr",
     "output_type": "stream",
     "text": [
      "\r",
      " 24%|██▍       | 24/100 [01:41<05:18,  4.19s/it]"
     ]
    },
    {
     "name": "stdout",
     "output_type": "stream",
     "text": [
      "epoch 23    - tr_loss: 0.00955074510648412 val_loss: 0.04590366363525391 tr_acc: 0.9962298927613941 val_acc: 0.9889583333333334 time: 4172 ms\n",
      "Training completed!\n"
     ]
    },
    {
     "name": "stderr",
     "output_type": "stream",
     "text": [
      "\r",
      " 25%|██▌       | 25/100 [01:45<05:17,  4.24s/it]"
     ]
    },
    {
     "name": "stdout",
     "output_type": "stream",
     "text": [
      "epoch 24    - tr_loss: 0.009948486061140972 val_loss: 0.0536517588297526 tr_acc: 0.9965231233243967 val_acc: 0.9854411764705883 time: 4336 ms\n",
      "Training completed!\n"
     ]
    },
    {
     "name": "stderr",
     "output_type": "stream",
     "text": [
      "\r",
      " 26%|██▌       | 26/100 [01:49<05:11,  4.22s/it]"
     ]
    },
    {
     "name": "stdout",
     "output_type": "stream",
     "text": [
      "epoch 25    - tr_loss: 0.00991341572633285 val_loss: 0.04736811955769857 tr_acc: 0.9964812332439679 val_acc: 0.986875 time: 4165 ms\n",
      "Training completed!\n"
     ]
    },
    {
     "name": "stderr",
     "output_type": "stream",
     "text": [
      "\r",
      " 27%|██▋       | 27/100 [01:53<05:06,  4.20s/it]"
     ]
    },
    {
     "name": "stdout",
     "output_type": "stream",
     "text": [
      "epoch 26    - tr_loss: 0.008394306239533664 val_loss: 0.04923396110534668 tr_acc: 0.9969839142091153 val_acc: 0.9885416666666667 time: 4163 ms\n",
      "Training completed!\n"
     ]
    },
    {
     "name": "stderr",
     "output_type": "stream",
     "text": [
      "\r",
      " 28%|██▊       | 28/100 [01:57<05:01,  4.19s/it]"
     ]
    },
    {
     "name": "stdout",
     "output_type": "stream",
     "text": [
      "epoch 27    - tr_loss: 0.008857431354420322 val_loss: 0.053900712331136066 tr_acc: 0.9968331099195711 val_acc: 0.9870833333333333 time: 4175 ms\n",
      "Training completed!\n"
     ]
    },
    {
     "name": "stderr",
     "output_type": "stream",
     "text": [
      "\r",
      " 29%|██▉       | 29/100 [02:02<05:00,  4.23s/it]"
     ]
    },
    {
     "name": "stdout",
     "output_type": "stream",
     "text": [
      "epoch 28    - tr_loss: 0.007584727105987945 val_loss: 0.05161647478739421 tr_acc: 0.9974865951742627 val_acc: 0.9875 time: 4324 ms\n",
      "Training completed!\n"
     ]
    },
    {
     "name": "stderr",
     "output_type": "stream",
     "text": [
      "\r",
      " 30%|███       | 30/100 [02:06<04:55,  4.22s/it]"
     ]
    },
    {
     "name": "stdout",
     "output_type": "stream",
     "text": [
      "epoch 29    - tr_loss: 0.008674458050748474 val_loss: 0.05210418701171875 tr_acc: 0.9970676943699732 val_acc: 0.989375 time: 4185 ms\n",
      "Epoch    30: reducing learning rate of group 0 to 2.0000e-06.\n",
      "Training completed!\n"
     ]
    },
    {
     "name": "stderr",
     "output_type": "stream",
     "text": [
      "\r",
      " 31%|███       | 31/100 [02:10<04:49,  4.20s/it]"
     ]
    },
    {
     "name": "stdout",
     "output_type": "stream",
     "text": [
      "epoch 30    - tr_loss: 0.008849646345725977 val_loss: 0.048307097752888994 tr_acc: 0.9969420241286864 val_acc: 0.9891666666666666 time: 4163 ms\n",
      "Training completed!\n"
     ]
    },
    {
     "name": "stderr",
     "output_type": "stream",
     "text": [
      "\r",
      " 32%|███▏      | 32/100 [02:14<04:45,  4.20s/it]"
     ]
    },
    {
     "name": "stdout",
     "output_type": "stream",
     "text": [
      "epoch 31    - tr_loss: 0.008270865677566118 val_loss: 0.0542535400390625 tr_acc: 0.9968582439678284 val_acc: 0.9854166666666667 time: 4175 ms\n",
      "Training completed!\n"
     ]
    },
    {
     "name": "stderr",
     "output_type": "stream",
     "text": [
      "\r",
      " 33%|███▎      | 33/100 [02:19<04:43,  4.23s/it]"
     ]
    },
    {
     "name": "stdout",
     "output_type": "stream",
     "text": [
      "epoch 32    - tr_loss: 0.007957719087744043 val_loss: 0.05572950998942057 tr_acc: 0.9972520107238606 val_acc: 0.988125 time: 4316 ms\n",
      "Training completed!\n"
     ]
    },
    {
     "name": "stderr",
     "output_type": "stream",
     "text": [
      "\r",
      " 34%|███▍      | 34/100 [02:23<04:38,  4.22s/it]"
     ]
    },
    {
     "name": "stdout",
     "output_type": "stream",
     "text": [
      "epoch 33    - tr_loss: 0.008420194095817873 val_loss: 0.04651538530985514 tr_acc: 0.9970258042895442 val_acc: 0.9872916666666667 time: 4192 ms\n",
      "Training completed!\n"
     ]
    },
    {
     "name": "stderr",
     "output_type": "stream",
     "text": [
      "\r",
      " 35%|███▌      | 35/100 [02:27<04:33,  4.20s/it]"
     ]
    },
    {
     "name": "stdout",
     "output_type": "stream",
     "text": [
      "epoch 34    - tr_loss: 0.009623094712215586 val_loss: 0.04837787946065267 tr_acc: 0.996313672922252 val_acc: 0.9879166666666667 time: 4162 ms\n",
      "Training completed!\n"
     ]
    },
    {
     "name": "stderr",
     "output_type": "stream",
     "text": [
      "\r",
      " 36%|███▌      | 36/100 [02:31<04:28,  4.19s/it]"
     ]
    },
    {
     "name": "stdout",
     "output_type": "stream",
     "text": [
      "epoch 35    - tr_loss: 0.007820783506651458 val_loss: 0.05057696342468262 tr_acc: 0.9973190348525469 val_acc: 0.9875 time: 4172 ms\n",
      "Training completed!\n"
     ]
    },
    {
     "name": "stderr",
     "output_type": "stream",
     "text": [
      "\r",
      " 37%|███▋      | 37/100 [02:35<04:25,  4.21s/it]"
     ]
    },
    {
     "name": "stdout",
     "output_type": "stream",
     "text": [
      "epoch 36    - tr_loss: 0.009690097311220442 val_loss: 0.053735822041829424 tr_acc: 0.9969839142091153 val_acc: 0.9872916666666667 time: 4243 ms\n",
      "Training completed!\n"
     ]
    },
    {
     "name": "stderr",
     "output_type": "stream",
     "text": [
      "\r",
      " 38%|███▊      | 38/100 [02:40<04:22,  4.23s/it]"
     ]
    },
    {
     "name": "stdout",
     "output_type": "stream",
     "text": [
      "epoch 37    - tr_loss: 0.008093603875681704 val_loss: 0.05145110766092936 tr_acc: 0.9971095844504021 val_acc: 0.986924019607843 time: 4265 ms\n",
      "Training completed!\n"
     ]
    },
    {
     "name": "stderr",
     "output_type": "stream",
     "text": [
      "\r",
      " 39%|███▉      | 39/100 [02:44<04:16,  4.21s/it]"
     ]
    },
    {
     "name": "stdout",
     "output_type": "stream",
     "text": [
      "epoch 38    - tr_loss: 0.008708427237303386 val_loss: 0.05602749506632487 tr_acc: 0.9966487935656837 val_acc: 0.9870833333333333 time: 4161 ms\n",
      "Training completed!\n"
     ]
    },
    {
     "name": "stderr",
     "output_type": "stream",
     "text": [
      "\r",
      " 40%|████      | 40/100 [02:48<04:11,  4.20s/it]"
     ]
    },
    {
     "name": "stdout",
     "output_type": "stream",
     "text": [
      "epoch 39    - tr_loss: 0.008224544690682128 val_loss: 0.05117871920267741 tr_acc: 0.9969001340482574 val_acc: 0.9891666666666666 time: 4172 ms\n",
      "Training completed!\n"
     ]
    },
    {
     "name": "stderr",
     "output_type": "stream",
     "text": [
      "\r",
      " 41%|████      | 41/100 [02:52<04:08,  4.21s/it]"
     ]
    },
    {
     "name": "stdout",
     "output_type": "stream",
     "text": [
      "epoch 40    - tr_loss: 0.009901679703512372 val_loss: 0.05622197469075521 tr_acc: 0.9967325737265416 val_acc: 0.9866911764705882 time: 4243 ms\n",
      "Epoch    41: reducing learning rate of group 0 to 2.0000e-07.\n",
      "Training completed!\n"
     ]
    },
    {
     "name": "stderr",
     "output_type": "stream",
     "text": [
      "\r",
      " 42%|████▏     | 42/100 [02:56<04:05,  4.23s/it]"
     ]
    },
    {
     "name": "stdout",
     "output_type": "stream",
     "text": [
      "epoch 41    - tr_loss: 0.0079501747028194 val_loss: 0.04923299471537272 tr_acc: 0.9972771447721179 val_acc: 0.9870833333333333 time: 4264 ms\n",
      "Training completed!\n"
     ]
    },
    {
     "name": "stderr",
     "output_type": "stream",
     "text": [
      "\r",
      " 43%|████▎     | 43/100 [03:01<03:59,  4.21s/it]"
     ]
    },
    {
     "name": "stdout",
     "output_type": "stream",
     "text": [
      "epoch 42    - tr_loss: 0.009366736020538228 val_loss: 0.05113464037577311 tr_acc: 0.9966069034852547 val_acc: 0.9877083333333333 time: 4163 ms\n",
      "Training completed!\n"
     ]
    },
    {
     "name": "stderr",
     "output_type": "stream",
     "text": [
      "\r",
      " 44%|████▍     | 44/100 [03:05<03:55,  4.20s/it]"
     ]
    },
    {
     "name": "stdout",
     "output_type": "stream",
     "text": [
      "epoch 43    - tr_loss: 0.0084687557366426 val_loss: 0.05147301038106283 tr_acc: 0.9972520107238606 val_acc: 0.9868995098039215 time: 4173 ms\n",
      "Training completed!\n"
     ]
    },
    {
     "name": "stderr",
     "output_type": "stream",
     "text": [
      "\r",
      " 45%|████▌     | 45/100 [03:09<03:50,  4.19s/it]"
     ]
    },
    {
     "name": "stdout",
     "output_type": "stream",
     "text": [
      "epoch 44    - tr_loss: 0.008631976233374646 val_loss: 0.05711207707722982 tr_acc: 0.9969839142091153 val_acc: 0.98625 time: 4168 ms\n",
      "Training completed!\n"
     ]
    },
    {
     "name": "stderr",
     "output_type": "stream",
     "text": [
      "\r",
      " 46%|████▌     | 46/100 [03:13<03:48,  4.23s/it]"
     ]
    },
    {
     "name": "stdout",
     "output_type": "stream",
     "text": [
      "epoch 45    - tr_loss: 0.00917660462491816 val_loss: 0.04650255521138509 tr_acc: 0.9965231233243967 val_acc: 0.9870833333333333 time: 4337 ms\n",
      "Training completed!\n"
     ]
    },
    {
     "name": "stderr",
     "output_type": "stream",
     "text": [
      "\r",
      " 47%|████▋     | 47/100 [03:17<03:43,  4.21s/it]"
     ]
    },
    {
     "name": "stdout",
     "output_type": "stream",
     "text": [
      "epoch 46    - tr_loss: 0.008106097372095993 val_loss: 0.05516055425008138 tr_acc: 0.9968163538873994 val_acc: 0.9860416666666667 time: 4167 ms\n",
      "Training completed!\n"
     ]
    },
    {
     "name": "stderr",
     "output_type": "stream",
     "text": [
      "\r",
      " 48%|████▊     | 48/100 [03:22<03:38,  4.20s/it]"
     ]
    },
    {
     "name": "stdout",
     "output_type": "stream",
     "text": [
      "epoch 47    - tr_loss: 0.008163541273261363 val_loss: 0.04900406837463379 tr_acc: 0.9971514745308311 val_acc: 0.988125 time: 4166 ms\n",
      "Training completed!\n"
     ]
    },
    {
     "name": "stderr",
     "output_type": "stream",
     "text": [
      "\r",
      " 49%|████▉     | 49/100 [03:26<03:33,  4.19s/it]"
     ]
    },
    {
     "name": "stdout",
     "output_type": "stream",
     "text": [
      "epoch 48    - tr_loss: 0.008063132121371953 val_loss: 0.04742838223775228 tr_acc: 0.9971514745308311 val_acc: 0.9879166666666667 time: 4175 ms\n",
      "Training completed!\n"
     ]
    },
    {
     "name": "stderr",
     "output_type": "stream",
     "text": [
      "\r",
      " 50%|█████     | 50/100 [03:30<03:31,  4.24s/it]"
     ]
    },
    {
     "name": "stdout",
     "output_type": "stream",
     "text": [
      "epoch 49    - tr_loss: 0.007505539625002341 val_loss: 0.04699126879374186 tr_acc: 0.9975703753351206 val_acc: 0.9873161764705882 time: 4335 ms\n",
      "Training completed!\n"
     ]
    },
    {
     "name": "stderr",
     "output_type": "stream",
     "text": [
      "\r",
      " 51%|█████     | 51/100 [03:34<03:26,  4.22s/it]"
     ]
    },
    {
     "name": "stdout",
     "output_type": "stream",
     "text": [
      "epoch 50    - tr_loss: 0.008283328649972756 val_loss: 0.04882692019144694 tr_acc: 0.9970844504021449 val_acc: 0.9873161764705882 time: 4165 ms\n",
      "Training completed!\n"
     ]
    },
    {
     "name": "stderr",
     "output_type": "stream",
     "text": [
      "\r",
      " 52%|█████▏    | 52/100 [03:38<03:21,  4.20s/it]"
     ]
    },
    {
     "name": "stdout",
     "output_type": "stream",
     "text": [
      "epoch 51    - tr_loss: 0.008809116251577702 val_loss: 0.04577453931172689 tr_acc: 0.9967325737265416 val_acc: 0.9883578431372548 time: 4168 ms\n",
      "Epoch    52: reducing learning rate of group 0 to 2.0000e-08.\n",
      "Training completed!\n"
     ]
    },
    {
     "name": "stderr",
     "output_type": "stream",
     "text": [
      "\r",
      " 53%|█████▎    | 53/100 [03:43<03:17,  4.19s/it]"
     ]
    },
    {
     "name": "stdout",
     "output_type": "stream",
     "text": [
      "epoch 52    - tr_loss: 0.007957678392952234 val_loss: 0.048267304102579754 tr_acc: 0.9969839142091153 val_acc: 0.9877083333333333 time: 4175 ms\n",
      "Training completed!\n"
     ]
    },
    {
     "name": "stderr",
     "output_type": "stream",
     "text": [
      "\r",
      " 54%|█████▍    | 54/100 [03:47<03:14,  4.24s/it]"
     ]
    },
    {
     "name": "stdout",
     "output_type": "stream",
     "text": [
      "epoch 53    - tr_loss: 0.008316197881716817 val_loss: 0.046617288589477536 tr_acc: 0.9973609249329759 val_acc: 0.9879166666666667 time: 4334 ms\n",
      "Training completed!\n"
     ]
    },
    {
     "name": "stderr",
     "output_type": "stream",
     "text": [
      "\r",
      " 55%|█████▌    | 55/100 [03:51<03:09,  4.22s/it]"
     ]
    },
    {
     "name": "stdout",
     "output_type": "stream",
     "text": [
      "epoch 54    - tr_loss: 0.00766689092357098 val_loss: 0.05303760210673014 tr_acc: 0.9974028150134048 val_acc: 0.9883333333333333 time: 4166 ms\n",
      "Training completed!\n"
     ]
    },
    {
     "name": "stderr",
     "output_type": "stream",
     "text": [
      "\r",
      " 56%|█████▌    | 56/100 [03:55<03:04,  4.20s/it]"
     ]
    },
    {
     "name": "stdout",
     "output_type": "stream",
     "text": [
      "epoch 55    - tr_loss: 0.008140191923585909 val_loss: 0.04812171618143717 tr_acc: 0.9971514745308311 val_acc: 0.9889583333333334 time: 4161 ms\n",
      "Training completed!\n"
     ]
    },
    {
     "name": "stderr",
     "output_type": "stream",
     "text": [
      "\r",
      " 57%|█████▋    | 57/100 [03:59<03:00,  4.19s/it]"
     ]
    },
    {
     "name": "stdout",
     "output_type": "stream",
     "text": [
      "epoch 56    - tr_loss: 0.009089393447331638 val_loss: 0.04944291114807129 tr_acc: 0.9966487935656837 val_acc: 0.98875 time: 4179 ms\n",
      "Training completed!\n"
     ]
    },
    {
     "name": "stderr",
     "output_type": "stream",
     "text": [
      "\r",
      " 58%|█████▊    | 58/100 [04:04<02:57,  4.23s/it]"
     ]
    },
    {
     "name": "stdout",
     "output_type": "stream",
     "text": [
      "epoch 57    - tr_loss: 0.00844257875593303 val_loss: 0.04790408134460449 tr_acc: 0.9967325737265416 val_acc: 0.9891666666666666 time: 4316 ms\n",
      "Training completed!\n"
     ]
    },
    {
     "name": "stderr",
     "output_type": "stream",
     "text": [
      "\r",
      " 59%|█████▉    | 59/100 [04:08<02:53,  4.22s/it]"
     ]
    },
    {
     "name": "stdout",
     "output_type": "stream",
     "text": [
      "epoch 58    - tr_loss: 0.008735267380566146 val_loss: 0.04734142939249675 tr_acc: 0.9967325737265416 val_acc: 0.9877083333333333 time: 4195 ms\n",
      "Training completed!\n"
     ]
    },
    {
     "name": "stderr",
     "output_type": "stream",
     "text": [
      "\r",
      " 60%|██████    | 60/100 [04:12<02:48,  4.20s/it]"
     ]
    },
    {
     "name": "stdout",
     "output_type": "stream",
     "text": [
      "epoch 59    - tr_loss: 0.008657161455162399 val_loss: 0.05120635986328125 tr_acc: 0.9971933646112601 val_acc: 0.9875 time: 4158 ms\n",
      "Training completed!\n"
     ]
    },
    {
     "name": "stderr",
     "output_type": "stream",
     "text": [
      "\r",
      " 61%|██████    | 61/100 [04:16<02:43,  4.20s/it]"
     ]
    },
    {
     "name": "stdout",
     "output_type": "stream",
     "text": [
      "epoch 60    - tr_loss: 0.008363412439371925 val_loss: 0.0536546262105306 tr_acc: 0.9968750000000001 val_acc: 0.9875 time: 4176 ms\n",
      "Training completed!\n"
     ]
    },
    {
     "name": "stderr",
     "output_type": "stream",
     "text": [
      "\r",
      " 62%|██████▏   | 62/100 [04:21<02:40,  4.21s/it]"
     ]
    },
    {
     "name": "stdout",
     "output_type": "stream",
     "text": [
      "epoch 61    - tr_loss: 0.009390519716130537 val_loss: 0.050116809209187825 tr_acc: 0.9967744638069705 val_acc: 0.9877083333333333 time: 4244 ms\n",
      "Training completed!\n"
     ]
    },
    {
     "name": "stderr",
     "output_type": "stream",
     "text": [
      "\r",
      " 63%|██████▎   | 63/100 [04:25<02:36,  4.23s/it]"
     ]
    },
    {
     "name": "stdout",
     "output_type": "stream",
     "text": [
      "epoch 62    - tr_loss: 0.00969936511070538 val_loss: 0.053268871307373046 tr_acc: 0.996313672922252 val_acc: 0.9870833333333333 time: 4263 ms\n",
      "Epoch    63: reducing learning rate of group 0 to 2.0000e-09.\n",
      "Training completed!\n"
     ]
    },
    {
     "name": "stderr",
     "output_type": "stream",
     "text": [
      "\r",
      " 64%|██████▍   | 64/100 [04:29<02:31,  4.21s/it]"
     ]
    },
    {
     "name": "stdout",
     "output_type": "stream",
     "text": [
      "epoch 63    - tr_loss: 0.008847682693841006 val_loss: 0.04805129051208496 tr_acc: 0.9969587801608579 val_acc: 0.9883333333333333 time: 4160 ms\n",
      "Training completed!\n"
     ]
    },
    {
     "name": "stderr",
     "output_type": "stream",
     "text": [
      "\r",
      " 65%|██████▌   | 65/100 [04:33<02:26,  4.20s/it]"
     ]
    },
    {
     "name": "stdout",
     "output_type": "stream",
     "text": [
      "epoch 64    - tr_loss: 0.007533939709642998 val_loss: 0.05689987818400065 tr_acc: 0.9973190348525469 val_acc: 0.9883333333333333 time: 4174 ms\n",
      "Training completed!\n"
     ]
    },
    {
     "name": "stderr",
     "output_type": "stream",
     "text": [
      "\r",
      " 66%|██████▌   | 66/100 [04:37<02:23,  4.21s/it]"
     ]
    },
    {
     "name": "stdout",
     "output_type": "stream",
     "text": [
      "epoch 65    - tr_loss: 0.00809588200268654 val_loss: 0.049863551457722984 tr_acc: 0.9969420241286864 val_acc: 0.986875 time: 4242 ms\n",
      "Training completed!\n"
     ]
    },
    {
     "name": "stderr",
     "output_type": "stream",
     "text": [
      "\r",
      " 67%|██████▋   | 67/100 [04:42<02:19,  4.23s/it]"
     ]
    },
    {
     "name": "stdout",
     "output_type": "stream",
     "text": [
      "epoch 66    - tr_loss: 0.007944190546946074 val_loss: 0.047688109079996745 tr_acc: 0.9974865951742627 val_acc: 0.9885416666666667 time: 4268 ms\n",
      "Training completed!\n"
     ]
    },
    {
     "name": "stderr",
     "output_type": "stream",
     "text": [
      "\r",
      " 68%|██████▊   | 68/100 [04:46<02:14,  4.21s/it]"
     ]
    },
    {
     "name": "stdout",
     "output_type": "stream",
     "text": [
      "epoch 67    - tr_loss: 0.008430535219933234 val_loss: 0.05175327936808268 tr_acc: 0.9969839142091153 val_acc: 0.988125 time: 4158 ms\n",
      "Training completed!\n"
     ]
    },
    {
     "name": "stderr",
     "output_type": "stream",
     "text": [
      "\r",
      " 69%|██████▉   | 69/100 [04:50<02:10,  4.20s/it]"
     ]
    },
    {
     "name": "stdout",
     "output_type": "stream",
     "text": [
      "epoch 68    - tr_loss: 0.009166838237765306 val_loss: 0.05600369135538737 tr_acc: 0.9967744638069705 val_acc: 0.9879166666666667 time: 4173 ms\n",
      "Training completed!\n"
     ]
    },
    {
     "name": "stderr",
     "output_type": "stream",
     "text": [
      "\r",
      " 70%|███████   | 70/100 [04:54<02:05,  4.19s/it]"
     ]
    },
    {
     "name": "stdout",
     "output_type": "stream",
     "text": [
      "epoch 69    - tr_loss: 0.00853053409090152 val_loss: 0.05802270889282227 tr_acc: 0.9971263404825738 val_acc: 0.9854166666666667 time: 4170 ms\n",
      "Training completed!\n"
     ]
    },
    {
     "name": "stderr",
     "output_type": "stream",
     "text": [
      "\r",
      " 71%|███████   | 71/100 [04:59<02:02,  4.24s/it]"
     ]
    },
    {
     "name": "stdout",
     "output_type": "stream",
     "text": [
      "epoch 70    - tr_loss: 0.009383698148291961 val_loss: 0.04891453425089518 tr_acc: 0.9967074396782842 val_acc: 0.98875 time: 4338 ms\n",
      "Training completed!\n"
     ]
    },
    {
     "name": "stderr",
     "output_type": "stream",
     "text": [
      "\r",
      " 72%|███████▏  | 72/100 [05:03<01:57,  4.21s/it]"
     ]
    },
    {
     "name": "stdout",
     "output_type": "stream",
     "text": [
      "epoch 71    - tr_loss: 0.008381303126182333 val_loss: 0.050706942876180015 tr_acc: 0.9970258042895442 val_acc: 0.9872916666666667 time: 4162 ms\n",
      "Training completed!\n"
     ]
    },
    {
     "name": "stderr",
     "output_type": "stream",
     "text": [
      "\r",
      " 73%|███████▎  | 73/100 [05:07<01:53,  4.20s/it]"
     ]
    },
    {
     "name": "stdout",
     "output_type": "stream",
     "text": [
      "epoch 72    - tr_loss: 0.008833986811567536 val_loss: 0.049288460413614905 tr_acc: 0.9974028150134048 val_acc: 0.9864583333333333 time: 4167 ms\n",
      "Training completed!\n"
     ]
    },
    {
     "name": "stderr",
     "output_type": "stream",
     "text": [
      "\r",
      " 74%|███████▍  | 74/100 [05:11<01:48,  4.19s/it]"
     ]
    },
    {
     "name": "stdout",
     "output_type": "stream",
     "text": [
      "epoch 73    - tr_loss: 0.00849309414196803 val_loss: 0.045497166315714516 tr_acc: 0.9967325737265416 val_acc: 0.9872916666666667 time: 4171 ms\n",
      "Training completed!\n"
     ]
    },
    {
     "name": "stderr",
     "output_type": "stream",
     "text": [
      "\r",
      " 75%|███████▌  | 75/100 [05:15<01:45,  4.24s/it]"
     ]
    },
    {
     "name": "stdout",
     "output_type": "stream",
     "text": [
      "epoch 74    - tr_loss: 0.009262910030947483 val_loss: 0.056573619842529295 tr_acc: 0.9967325737265416 val_acc: 0.9870833333333333 time: 4337 ms\n",
      "Training completed!\n"
     ]
    },
    {
     "name": "stderr",
     "output_type": "stream",
     "text": [
      "\r",
      " 76%|███████▌  | 76/100 [05:20<01:41,  4.21s/it]"
     ]
    },
    {
     "name": "stdout",
     "output_type": "stream",
     "text": [
      "epoch 75    - tr_loss: 0.009344285912803953 val_loss: 0.04813733736673991 tr_acc: 0.9966487935656837 val_acc: 0.9889583333333334 time: 4160 ms\n",
      "Training completed!\n"
     ]
    },
    {
     "name": "stderr",
     "output_type": "stream",
     "text": [
      "\r",
      " 77%|███████▋  | 77/100 [05:24<01:36,  4.20s/it]"
     ]
    },
    {
     "name": "stdout",
     "output_type": "stream",
     "text": [
      "epoch 76    - tr_loss: 0.00792294908527175 val_loss: 0.04807993253072103 tr_acc: 0.9974447050938338 val_acc: 0.9864583333333333 time: 4167 ms\n",
      "Training completed!\n"
     ]
    },
    {
     "name": "stderr",
     "output_type": "stream",
     "text": [
      "\r",
      " 78%|███████▊  | 78/100 [05:28<01:32,  4.19s/it]"
     ]
    },
    {
     "name": "stdout",
     "output_type": "stream",
     "text": [
      "epoch 77    - tr_loss: 0.008141912697188166 val_loss: 0.0512319278717041 tr_acc: 0.9970676943699732 val_acc: 0.988125 time: 4171 ms\n",
      "Training completed!\n"
     ]
    },
    {
     "name": "stderr",
     "output_type": "stream",
     "text": [
      "\r",
      " 79%|███████▉  | 79/100 [05:32<01:28,  4.24s/it]"
     ]
    },
    {
     "name": "stdout",
     "output_type": "stream",
     "text": [
      "epoch 78    - tr_loss: 0.007934712445620577 val_loss: 0.05371930440266927 tr_acc: 0.9972771447721179 val_acc: 0.986875 time: 4336 ms\n",
      "Training completed!\n"
     ]
    },
    {
     "name": "stderr",
     "output_type": "stream",
     "text": [
      "\r",
      " 80%|████████  | 80/100 [05:36<01:24,  4.21s/it]"
     ]
    },
    {
     "name": "stdout",
     "output_type": "stream",
     "text": [
      "epoch 79    - tr_loss: 0.00896768259899204 val_loss: 0.049157838821411136 tr_acc: 0.9967744638069705 val_acc: 0.9889583333333334 time: 4163 ms\n",
      "Training completed!\n"
     ]
    },
    {
     "name": "stderr",
     "output_type": "stream",
     "text": [
      "\r",
      " 81%|████████  | 81/100 [05:41<01:19,  4.20s/it]"
     ]
    },
    {
     "name": "stdout",
     "output_type": "stream",
     "text": [
      "epoch 80    - tr_loss: 0.008161648643871297 val_loss: 0.04816166241963704 tr_acc: 0.9969839142091153 val_acc: 0.988125 time: 4160 ms\n",
      "Training completed!\n"
     ]
    },
    {
     "name": "stderr",
     "output_type": "stream",
     "text": [
      "\r",
      " 82%|████████▏ | 82/100 [05:45<01:15,  4.19s/it]"
     ]
    },
    {
     "name": "stdout",
     "output_type": "stream",
     "text": [
      "epoch 81    - tr_loss: 0.008513097123435016 val_loss: 0.05772300084431966 tr_acc: 0.9968582439678284 val_acc: 0.986875 time: 4175 ms\n",
      "Training completed!\n"
     ]
    },
    {
     "name": "stderr",
     "output_type": "stream",
     "text": [
      "\r",
      " 83%|████████▎ | 83/100 [05:49<01:11,  4.23s/it]"
     ]
    },
    {
     "name": "stdout",
     "output_type": "stream",
     "text": [
      "epoch 82    - tr_loss: 0.00871359713667348 val_loss: 0.05218453725179036 tr_acc: 0.9969001340482574 val_acc: 0.986875 time: 4322 ms\n",
      "Training completed!\n"
     ]
    },
    {
     "name": "stderr",
     "output_type": "stream",
     "text": [
      "\r",
      " 84%|████████▍ | 84/100 [05:53<01:07,  4.22s/it]"
     ]
    },
    {
     "name": "stdout",
     "output_type": "stream",
     "text": [
      "epoch 83    - tr_loss: 0.007329882117953175 val_loss: 0.05335508982340495 tr_acc: 0.9974447050938338 val_acc: 0.9868995098039215 time: 4184 ms\n",
      "Training completed!\n"
     ]
    },
    {
     "name": "stderr",
     "output_type": "stream",
     "text": [
      "\r",
      " 85%|████████▌ | 85/100 [05:57<01:03,  4.20s/it]"
     ]
    },
    {
     "name": "stdout",
     "output_type": "stream",
     "text": [
      "epoch 84    - tr_loss: 0.008237937828415493 val_loss: 0.04897184371948242 tr_acc: 0.9974028150134048 val_acc: 0.98875 time: 4161 ms\n",
      "Training completed!\n"
     ]
    },
    {
     "name": "stderr",
     "output_type": "stream",
     "text": [
      "\r",
      " 86%|████████▌ | 86/100 [06:02<00:58,  4.19s/it]"
     ]
    },
    {
     "name": "stdout",
     "output_type": "stream",
     "text": [
      "epoch 85    - tr_loss: 0.008978773981662674 val_loss: 0.049340133666992185 tr_acc: 0.9974447050938338 val_acc: 0.988125 time: 4175 ms\n",
      "Training completed!\n"
     ]
    },
    {
     "name": "stderr",
     "output_type": "stream",
     "text": [
      "\r",
      " 87%|████████▋ | 87/100 [06:06<00:54,  4.23s/it]"
     ]
    },
    {
     "name": "stdout",
     "output_type": "stream",
     "text": [
      "epoch 86    - tr_loss: 0.007696997466357534 val_loss: 0.049489466349283855 tr_acc: 0.9969001340482574 val_acc: 0.988125 time: 4315 ms\n",
      "Training completed!\n"
     ]
    },
    {
     "name": "stderr",
     "output_type": "stream",
     "text": [
      "\r",
      " 88%|████████▊ | 88/100 [06:10<00:50,  4.22s/it]"
     ]
    },
    {
     "name": "stdout",
     "output_type": "stream",
     "text": [
      "epoch 87    - tr_loss: 0.008023550935602534 val_loss: 0.05211932182312012 tr_acc: 0.9969420241286864 val_acc: 0.9858333333333333 time: 4190 ms\n",
      "Training completed!\n"
     ]
    },
    {
     "name": "stderr",
     "output_type": "stream",
     "text": [
      "\r",
      " 89%|████████▉ | 89/100 [06:14<00:46,  4.20s/it]"
     ]
    },
    {
     "name": "stdout",
     "output_type": "stream",
     "text": [
      "epoch 88    - tr_loss: 0.008433192600757112 val_loss: 0.0506579335530599 tr_acc: 0.9971095844504021 val_acc: 0.9877328431372548 time: 4161 ms\n",
      "Training completed!\n"
     ]
    },
    {
     "name": "stderr",
     "output_type": "stream",
     "text": [
      "\r",
      " 90%|█████████ | 90/100 [06:18<00:41,  4.19s/it]"
     ]
    },
    {
     "name": "stdout",
     "output_type": "stream",
     "text": [
      "epoch 89    - tr_loss: 0.008891976631616977 val_loss: 0.0533447011311849 tr_acc: 0.9969001340482574 val_acc: 0.9866666666666667 time: 4171 ms\n",
      "Training completed!\n"
     ]
    },
    {
     "name": "stderr",
     "output_type": "stream",
     "text": [
      "\r",
      " 91%|█████████ | 91/100 [06:23<00:37,  4.21s/it]"
     ]
    },
    {
     "name": "stdout",
     "output_type": "stream",
     "text": [
      "epoch 90    - tr_loss: 0.008189067476277753 val_loss: 0.053051719665527346 tr_acc: 0.9975284852546917 val_acc: 0.9872916666666667 time: 4242 ms\n",
      "Training completed!\n"
     ]
    },
    {
     "name": "stderr",
     "output_type": "stream",
     "text": [
      "\r",
      " 92%|█████████▏| 92/100 [06:27<00:33,  4.23s/it]"
     ]
    },
    {
     "name": "stdout",
     "output_type": "stream",
     "text": [
      "epoch 91    - tr_loss: 0.008430387672290785 val_loss: 0.05236994743347168 tr_acc: 0.9971095844504021 val_acc: 0.9872916666666667 time: 4263 ms\n",
      "Training completed!\n"
     ]
    },
    {
     "name": "stderr",
     "output_type": "stream",
     "text": [
      "\r",
      " 93%|█████████▎| 93/100 [06:31<00:29,  4.21s/it]"
     ]
    },
    {
     "name": "stdout",
     "output_type": "stream",
     "text": [
      "epoch 92    - tr_loss: 0.008463176615130007 val_loss: 0.048081887563069664 tr_acc: 0.9971095844504021 val_acc: 0.988125 time: 4162 ms\n",
      "Training completed!\n"
     ]
    },
    {
     "name": "stderr",
     "output_type": "stream",
     "text": [
      "\r",
      " 94%|█████████▍| 94/100 [06:35<00:25,  4.20s/it]"
     ]
    },
    {
     "name": "stdout",
     "output_type": "stream",
     "text": [
      "epoch 93    - tr_loss: 0.008929049819687193 val_loss: 0.049698925018310545 tr_acc: 0.9971514745308311 val_acc: 0.98625 time: 4173 ms\n",
      "Training completed!\n"
     ]
    },
    {
     "name": "stderr",
     "output_type": "stream",
     "text": [
      "\r",
      " 95%|█████████▌| 95/100 [06:40<00:21,  4.21s/it]"
     ]
    },
    {
     "name": "stdout",
     "output_type": "stream",
     "text": [
      "epoch 94    - tr_loss: 0.00891960538863582 val_loss: 0.05252586364746094 tr_acc: 0.9971933646112601 val_acc: 0.9870833333333333 time: 4243 ms\n",
      "Training completed!\n"
     ]
    },
    {
     "name": "stderr",
     "output_type": "stream",
     "text": [
      "\r",
      " 96%|█████████▌| 96/100 [06:44<00:16,  4.23s/it]"
     ]
    },
    {
     "name": "stdout",
     "output_type": "stream",
     "text": [
      "epoch 95    - tr_loss: 0.008941043538902278 val_loss: 0.04838857014973958 tr_acc: 0.9967325737265416 val_acc: 0.9883333333333333 time: 4262 ms\n",
      "Training completed!\n"
     ]
    },
    {
     "name": "stderr",
     "output_type": "stream",
     "text": [
      "\r",
      " 97%|█████████▋| 97/100 [06:48<00:12,  4.21s/it]"
     ]
    },
    {
     "name": "stdout",
     "output_type": "stream",
     "text": [
      "epoch 96    - tr_loss: 0.008143247729343292 val_loss: 0.04785372416178386 tr_acc: 0.9970676943699732 val_acc: 0.9877083333333333 time: 4165 ms\n",
      "Training completed!\n"
     ]
    },
    {
     "name": "stderr",
     "output_type": "stream",
     "text": [
      "\r",
      " 98%|█████████▊| 98/100 [06:52<00:08,  4.20s/it]"
     ]
    },
    {
     "name": "stdout",
     "output_type": "stream",
     "text": [
      "epoch 97    - tr_loss: 0.007788702989434518 val_loss: 0.05499036153157552 tr_acc: 0.9971933646112601 val_acc: 0.984375 time: 4172 ms\n",
      "Training completed!\n"
     ]
    },
    {
     "name": "stderr",
     "output_type": "stream",
     "text": [
      "\r",
      " 99%|█████████▉| 99/100 [06:56<00:04,  4.19s/it]"
     ]
    },
    {
     "name": "stdout",
     "output_type": "stream",
     "text": [
      "epoch 98    - tr_loss: 0.007636972004742781 val_loss: 0.053266983032226566 tr_acc: 0.9973190348525469 val_acc: 0.9877083333333333 time: 4170 ms\n",
      "Training completed!\n"
     ]
    },
    {
     "name": "stderr",
     "output_type": "stream",
     "text": [
      "100%|██████████| 100/100 [07:01<00:00,  4.21s/it]"
     ]
    },
    {
     "name": "stdout",
     "output_type": "stream",
     "text": [
      "epoch 99    - tr_loss: 0.008195347023477725 val_loss: 0.05068651517232259 tr_acc: 0.9969001340482574 val_acc: 0.98875 time: 4334 ms\n",
      "Training completed!\n"
     ]
    },
    {
     "name": "stderr",
     "output_type": "stream",
     "text": [
      "\n"
     ]
    }
   ],
   "source": [
    "criterion = nn.BCELoss() \n",
    "\n",
    "\n",
    "optimizer = torch.optim.Adam(model.parameters(),lr = 0.0002,weight_decay = 1e-5)\n",
    "scheduler = torch.optim.lr_scheduler.ReduceLROnPlateau(optimizer, verbose=True)\n",
    "\n",
    "# lists to store training and validation losses\n",
    "train_loss_hist = list()\n",
    "val_loss_hist = list()\n",
    "train_acc_hist = list()\n",
    "val_acc_hist = list()\n",
    "    \n",
    "num_epochs = 100\n",
    "\n",
    "for epoch in tqdm(range(num_epochs)):\n",
    "    \n",
    "    start_time = datetime.datetime.now()\n",
    "    \n",
    "    running_loss = 0\n",
    "    count_train_batches = 0\n",
    "    running_acc = 0\n",
    "    for inputs,labels in train_loader:\n",
    "        inputs,labels = inputs.to(device),labels.to(device)\n",
    "        optimizer.zero_grad()\n",
    "        \n",
    "        outputs = model(inputs)\n",
    "        loss = criterion(outputs,labels)\n",
    "        acc = eval(labels.cpu(),outputs.cpu())\n",
    "        running_acc += acc\n",
    "        running_loss += loss.item()\n",
    "        loss.backward()\n",
    "        optimizer.step()\n",
    "        \n",
    "        count_train_batches += 1\n",
    "        \n",
    "    # train loss for this particular epoch\n",
    "    train_loss_hist.append(running_loss / count_train_batches)\n",
    "    train_acc_hist.append(running_acc/count_train_batches)\n",
    "    \n",
    "    # Validation\n",
    "    with torch.set_grad_enabled(False):\n",
    "        val_loss = 0\n",
    "        count_val_samples = 0\n",
    "        running_acc = 0\n",
    "        for inputs, labels in val_loader:\n",
    "            # Transfer to GPU\n",
    "            inputs, labels = inputs.to(device), labels.to(device)\n",
    "            # predict validation data - run model forward\n",
    "            predictions = model(inputs)\n",
    "            # MSE for tasks\n",
    "            val_loss += criterion(predictions, labels)\n",
    "            acc = eval(labels.cpu(),predictions.cpu())\n",
    "            running_acc += acc\n",
    "            count_val_samples += 1\n",
    "        val_loss_hist.append(val_loss.item() / count_val_samples)\n",
    "        val_acc_hist.append(running_acc/count_val_samples)\n",
    "    \n",
    "    epochs_str = str(epoch)\n",
    "    tr_loss = str(train_loss_hist[-1])\n",
    "    val_loss = str(val_loss_hist[-1])\n",
    "    tr_acc = str(train_acc_hist[-1])\n",
    "    val_acc = str(val_acc_hist[-1])\n",
    "    execution_time = str(int((datetime.datetime.now() - start_time).total_seconds() * 1000))\n",
    "    print(\"%s %s - tr_loss: %s val_loss: %s tr_acc: %s val_acc: %s time: %sms\" % ('epoch'.ljust(5, ' '),\n",
    "                                                               epochs_str.ljust(5, ' '),\n",
    "                                                               tr_loss.ljust(5, ' '),\n",
    "                                                               val_loss.ljust(5, ' '),\n",
    "                                                               tr_acc.ljust(5,' '),\n",
    "                                                               val_acc.ljust(5, ' '),\n",
    "                                                               execution_time.ljust(5, ' ')\n",
    "                                                              ))    \n",
    "    \n",
    "\n",
    "    scheduler.step(val_loss_hist[-1])\n",
    "\n",
    "    print('Training completed!')   \n"
   ]
  },
  {
   "cell_type": "code",
   "execution_count": 138,
   "metadata": {},
   "outputs": [
    {
     "data": {
      "text/plain": [
       "<matplotlib.legend.Legend at 0x2aacd52a40a0>"
      ]
     },
     "execution_count": 138,
     "metadata": {},
     "output_type": "execute_result"
    },
    {
     "data": {
      "image/png": "[encoded data removed]",
      "text/plain": [
       "<Figure size 432x288 with 1 Axes>"
      ]
     },
     "metadata": {
      "needs_background": "light"
     },
     "output_type": "display_data"
    }
   ],
   "source": [
    "plt.plot(val_loss_hist,label='validation')\n",
    "plt.plot(train_loss_hist,label='train')\n",
    "plt.title('Loss Train/Validation')\n",
    "plt.ylabel('Loss')\n",
    "plt.xlabel('Epoch')\n",
    "plt.legend()"
   ]
  },
  {
   "cell_type": "code",
   "execution_count": 139,
   "metadata": {},
   "outputs": [
    {
     "data": {
      "text/plain": [
       "<matplotlib.legend.Legend at 0x2aacd52f5520>"
      ]
     },
     "execution_count": 139,
     "metadata": {},
     "output_type": "execute_result"
    },
    {
     "data": {
      "image/png": "[encoded data removed]",
      "text/plain": [
       "<Figure size 432x288 with 1 Axes>"
      ]
     },
     "metadata": {
      "needs_background": "light"
     },
     "output_type": "display_data"
    }
   ],
   "source": [
    "plt.plot(val_acc_hist,label='validation')\n",
    "plt.plot(train_acc_hist,label='train')\n",
    "plt.title('Accuracy Train/Validation')\n",
    "plt.ylabel('Accuracy')\n",
    "plt.xlabel('Epoch')\n",
    "plt.legend()"
   ]
  },
  {
   "cell_type": "markdown",
   "metadata": {},
   "source": [
    "Predict on the test set and compute metrics of interest. "
   ]
  },
  {
   "cell_type": "code",
   "execution_count": 143,
   "metadata": {},
   "outputs": [],
   "source": [
    "with torch.set_grad_enabled(False):\n",
    "    # store all info in this variable\n",
    "    pred_obs = {'pred': list(), 'obs': list()}\n",
    "    for inputs, labels in test_loader:\n",
    "        # Transfer to GPU\n",
    "        inputs, labels = inputs.to(device), labels.to(device)\n",
    "        # predict test data - run model forward\n",
    "        predictions = model(inputs)\n",
    "        # store predicted and observed (ground truth values)\n",
    "        pred_obs['pred'].extend(predictions.cpu().numpy())\n",
    "        pred_obs['obs'].extend(labels.cpu().numpy())\n",
    "\n",
    "pred_obs['pred'] = np.array(pred_obs['pred'])\n",
    "pred_obs['obs'] = np.array(pred_obs['obs'])"
   ]
  },
  {
   "cell_type": "code",
   "execution_count": 144,
   "metadata": {},
   "outputs": [
    {
     "data": {
      "text/plain": [
       "{'pred': array([[1.0000000e+00],\n",
       "        [1.0000000e+00],\n",
       "        [1.0000000e+00],\n",
       "        ...,\n",
       "        [9.9999964e-01],\n",
       "        [1.2068890e-06],\n",
       "        [3.4702989e-05]], dtype=float32),\n",
       " 'obs': array([1., 1., 1., ..., 1., 0., 0.], dtype=float32)}"
      ]
     },
     "execution_count": 144,
     "metadata": {},
     "output_type": "execute_result"
    }
   ],
   "source": [
    "pred_obs"
   ]
  },
  {
   "cell_type": "code",
   "execution_count": 152,
   "metadata": {},
   "outputs": [],
   "source": [
    "pred = pred_obs['pred']\n",
    "pred = np.where(pred < 0.5,0,1)\n",
    "obs = pred_obs['obs']"
   ]
  },
  {
   "cell_type": "code",
   "execution_count": null,
   "metadata": {},
   "outputs": [],
   "source": []
  },
  {
   "cell_type": "code",
   "execution_count": 153,
   "metadata": {},
   "outputs": [
    {
     "data": {
      "text/plain": [
       "0.9767441860465117"
      ]
     },
     "execution_count": 153,
     "metadata": {},
     "output_type": "execute_result"
    }
   ],
   "source": [
    "from sklearn.metrics import f1_score\n",
    "f1_score(np_y_true,np_y_pred)"
   ]
  },
  {
   "cell_type": "code",
   "execution_count": 154,
   "metadata": {},
   "outputs": [
    {
     "data": {
      "text/plain": [
       "<matplotlib.axes._subplots.AxesSubplot at 0x2aacd5551190>"
      ]
     },
     "execution_count": 154,
     "metadata": {},
     "output_type": "execute_result"
    },
    {
     "data": {
      "image/png": "[encoded data removed]",
      "text/plain": [
       "<Figure size 432x288 with 2 Axes>"
      ]
     },
     "metadata": {
      "needs_background": "light"
     },
     "output_type": "display_data"
    }
   ],
   "source": [
    "from sklearn.metrics import confusion_matrix\n",
    "CFM = confusion_matrix(pred,obs)\n",
    "\n",
    "import seaborn as sns\n",
    "sns.heatmap(CFM/np.sum(CFM),annot=True,fmt='.2%',cmap = 'Blues')"
   ]
  },
  {
   "cell_type": "code",
   "execution_count": 155,
   "metadata": {},
   "outputs": [
    {
     "data": {
      "image/png": "[encoded data removed]",
      "text/plain": [
       "<Figure size 432x288 with 1 Axes>"
      ]
     },
     "metadata": {
      "needs_background": "light"
     },
     "output_type": "display_data"
    }
   ],
   "source": [
    "from sklearn.metrics import roc_auc_score,roc_curve\n",
    "\n",
    "auc =roc_auc_score(obs,pred)\n",
    "\n",
    "fpr,tpr,__ = roc_curve(obs,pred)\n",
    "plt.plot(fpr,tpr,label = 'AUC = '+str(auc))\n",
    "plt.legend(loc=4)\n",
    "plt.show()"
   ]
  },
  {
   "cell_type": "code",
   "execution_count": null,
   "metadata": {},
   "outputs": [],
   "source": []
  }
 ],
 "metadata": {
  "kernelspec": {
   "display_name": "Python 3",
   "language": "python",
   "name": "python3"
  },
  "language_info": {
   "codemirror_mode": {
    "name": "ipython",
    "version": 3
   },
   "file_extension": ".py",
   "mimetype": "text/x-python",
   "name": "python",
   "nbconvert_exporter": "python",
   "pygments_lexer": "ipython3",
   "version": "3.7.2"
  }
 },
 "nbformat": 4,
 "nbformat_minor": 4
}
