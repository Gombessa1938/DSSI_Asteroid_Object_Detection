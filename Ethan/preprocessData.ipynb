{
 "cells": [
  {
   "cell_type": "code",
   "execution_count": 1,
   "metadata": {},
   "outputs": [],
   "source": [
    "import os\n",
    "import sys\n",
    "import time\n",
    "import galsim\n",
    "import numpy as np\n",
    "import pandas as pd\n",
    "from tqdm import tqdm\n",
    "import matplotlib.pyplot as plt\n",
    "from matplotlib import patches\n",
    "from PIL import Image \n",
    "\n",
    "from skimage import io, img_as_uint"
   ]
  },
  {
   "cell_type": "code",
   "execution_count": 2,
   "metadata": {},
   "outputs": [],
   "source": [
    "# Useful when viewing fullsize images through the VNC\n",
    "save_dir = \"/g/g15/ahlquist/Documents/workspace/output_dir\""
   ]
  },
  {
   "cell_type": "code",
   "execution_count": 3,
   "metadata": {},
   "outputs": [],
   "source": [
    "# Directory where data is found\n",
    "data_dir = \"/usr/workspace/DSSI_ch/data_and_information\""
   ]
  },
  {
   "cell_type": "code",
   "execution_count": 4,
   "metadata": {},
   "outputs": [],
   "source": [
    "# Shared folder\n",
    "team_6_dir = \"/usr/workspace/DSSI_ch/team6\"\n",
    "npz_index = 0 "
   ]
  },
  {
   "cell_type": "markdown",
   "metadata": {},
   "source": [
    "## load data"
   ]
  },
  {
   "cell_type": "code",
   "execution_count": 5,
   "metadata": {
    "scrolled": false
   },
   "outputs": [],
   "source": [
    "npz_data = np.load(f\"{data_dir}/asteroid_equalized_images_{npz_index}.npz\")\n",
    "starAsteroid = npz_data['data']"
   ]
  },
  {
   "cell_type": "code",
   "execution_count": 6,
   "metadata": {},
   "outputs": [],
   "source": [
    "y = np.load(f\"{data_dir}/asteroid_injected_information_{npz_index}.npz\", allow_pickle=True)\n",
    "X = starAsteroid"
   ]
  },
  {
   "cell_type": "code",
   "execution_count": null,
   "metadata": {},
   "outputs": [],
   "source": [
    "#Information of the first sample image from the Zwicky Transient Facility\n",
    "y['data'][0]"
   ]
  },
  {
   "cell_type": "code",
   "execution_count": null,
   "metadata": {},
   "outputs": [],
   "source": [
    "#Information of the magnitude, length, angle and box of the injected asteroid streaks\n",
    "print(y['data'])\n",
    "y['data'][1]"
   ]
  },
  {
   "cell_type": "code",
   "execution_count": null,
   "metadata": {},
   "outputs": [],
   "source": [
    "box_values_ast_0 = y['data'][1]['box'][1]\n",
    "plt.imshow(X[0][box_values_ast_0.ymin:box_values_ast_0.ymax,box_values_ast_0.xmin:box_values_ast_0.xmax])"
   ]
  },
  {
   "cell_type": "code",
   "execution_count": null,
   "metadata": {},
   "outputs": [],
   "source": [
    "def displayAsteroid(asteroid, image):\n",
    "    box_values = asteroid\n",
    "    plt.imshow(image[box_values.ymin+40:box_values.ymax-40,box_values.xmin+40:box_values.xmax-40])\n",
    "    \n",
    "displayAsteroid(y['data'][5]['box'][1], X[2])"
   ]
  },
  {
   "cell_type": "markdown",
   "metadata": {},
   "source": [
    "## Generate images from npz file"
   ]
  },
  {
   "cell_type": "code",
   "execution_count": null,
   "metadata": {},
   "outputs": [],
   "source": [
    "\"\"\" Generate .jpg files from npz\n",
    "(Don't run, unless you want to overwrite files)\n",
    "\"\"\"\n",
    "\n",
    "for i in tqdm(range(len(X))):\n",
    "    io.imsave(f\"{team_6_dir}/data/astroids_{npz_index}_{i}.jpg\", img_as_uint(X[i]))"
   ]
  },
  {
   "cell_type": "code",
   "execution_count": 7,
   "metadata": {},
   "outputs": [
    {
     "name": "stderr",
     "output_type": "stream",
     "text": [
      "100%|██████████| 100/100 [00:09<00:00, 10.21it/s]\n"
     ]
    }
   ],
   "source": [
    "\"\"\" Generate .csv files from npz\n",
    "(Don't run, unless you want to overwrite files)\n",
    "\"\"\"\n",
    "\n",
    "df = pd.DataFrame(columns=[\"xmin\", \"xmax\", \"ymin\", \"ymax\"])\n",
    "\n",
    "for i in tqdm(range(1, len(y['data']), 2)):\n",
    "    \n",
    "    # Get wanted filename index\n",
    "    index = int(i/2)\n",
    "    \n",
    "    # Add all boxes to dataframe\n",
    "    for _,row in y['data'][i]['box'].iteritems():\n",
    "        df = df.append({\"xmin\": row.xmin, \"xmax\": row.xmax, \n",
    "                   \"ymin\": row.ymin, \"ymax\": row.ymax}, ignore_index=True)\n",
    "        \n",
    "    # Save dataframe to file\n",
    "    df.to_csv(f\"{team_6_dir}/data/astroids_{npz_index}_{index}.csv\", index=False)\n",
    "    \n",
    "    # Clear dataframe\n",
    "    df = df.iloc[0:0]"
   ]
  },
  {
   "cell_type": "code",
   "execution_count": 8,
   "metadata": {},
   "outputs": [
    {
     "name": "stderr",
     "output_type": "stream",
     "text": [
      "100%|██████████| 100/100 [00:00<00:00, 139.48it/s]\n"
     ]
    }
   ],
   "source": [
    "\"\"\" For each image make a set of box csv where astroids do NOT exist\n",
    "\"\"\"\n",
    "df = pd.DataFrame(columns=[\"xmin\", \"xmax\", \"ymin\", \"ymax\"])\n",
    "for i in tqdm(range(1, len(y['data']), 2)):\n",
    "    \n",
    "    # Get wanted filename index\n",
    "    index = int(i/2)\n",
    "    \n",
    "    ast_df = pd.read_csv(f\"{team_6_dir}/data/astroids_{npz_index}_{index}.csv\")\n",
    "\n",
    "    image = X[index]\n",
    "    height = len(image)\n",
    "    width = len(image[0])\n",
    "\n",
    "    rng_x = np.random.default_rng()\n",
    "    rng_y = np.random.default_rng()\n",
    "\n",
    "    num_points = 64\n",
    "    \n",
    "    # Generate random center points:\n",
    "    ixs = rng_x.integers(51, width-51, dtype=np.int32, size=num_points + 20, endpoint=False)\n",
    "    iys = rng_y.integers(51, height-51, dtype=np.int32, size=num_points + 20, endpoint=False)\n",
    "    \n",
    "    ixs_min = ixs - 51\n",
    "    ixs_max = ixs + 51\n",
    "    iys_min = iys - 51\n",
    "    iys_max = iys + 51\n",
    "\n",
    "    # duplicate rows to make a 2D array of size ix, \n",
    "    # such that operations between the two can be done.\n",
    "    \n",
    "    ast_xmin = np.tile(ast_df[\"xmin\"], (len(ixs), 1)).T\n",
    "    ast_xmax = np.tile(ast_df[\"xmax\"], (len(ixs), 1)).T\n",
    "    ast_ymin = np.tile(ast_df[\"ymin\"], (len(iys), 1)).T\n",
    "    ast_ymax = np.tile(ast_df[\"ymax\"], (len(iys), 1)).T\n",
    "\n",
    "    mask = (ast_xmin <= ixs_max) & (ast_xmax >= ixs_min) \\\n",
    "         & (ast_ymin <= iys_max) & (ast_ymax >= iys_min)\n",
    "\n",
    "    # Get all indexs where any overlap exists  \n",
    "    conflict_mask = mask.any(axis=0)\n",
    "    valid_mask = ~conflict_mask \n",
    "\n",
    "    df[\"xmin\"] = ixs_min[valid_mask]\n",
    "    df[\"xmax\"] = ixs_max[valid_mask]\n",
    "    df[\"ymin\"] = iys_min[valid_mask]\n",
    "    df[\"ymax\"] = iys_max[valid_mask]\n",
    "    \n",
    "    df = df.head(num_points)\n",
    "\n",
    "    # Save dataframe to file\n",
    "    df.to_csv(f\"{team_6_dir}/data/not_astroids_{npz_index}_{index}.csv\", index=False)\n",
    "\n",
    "    # Clear dataframe\n",
    "    df = df.iloc[0:0]\n",
    "    "
   ]
  },
  {
   "cell_type": "code",
   "execution_count": 9,
   "metadata": {},
   "outputs": [],
   "source": [
    "\"\"\" Check asteroid boxes to see if they are in the black spaces (remove if they are)\n",
    "\"\"\"\n",
    "\n",
    "def isValidBoundingBox(b):\n",
    "\n",
    "    cutoff = 130\n",
    "    \n",
    "    sliced = image[b[\"ymin\"]:b[\"ymax\"], b[\"xmin\"]:b[\"xmax\"]]\n",
    "\n",
    "    mean = np.mean(sliced)\n",
    "    sliced = Image.fromarray(sliced, 'L')\n",
    "    sliced = sliced.resize((400, 400))\n",
    "\n",
    "    #print(mean)\n",
    "    #if(mean < cutoff):\n",
    "        #sliced = sliced.save(f\"{save_dir}/geeks.jpg\")\n",
    "        #print(f\"ymin: {b['ymin']}, ymax: {b['ymax']}, xmin: {b['xmin']}, xmax:{b['xmax']}\")\n",
    "        #display(sliced)\n",
    "        #if(b['ymin'] == 1841 and b['ymax'] == 1849 and b['xmin'] == 2023 and b['xmax'] == 2031):\n",
    "        #    sliced = sliced.save(f\"{save_dir}/geeks.png\")\n",
    "\n",
    "    return mean > cutoff"
   ]
  },
  {
   "cell_type": "code",
   "execution_count": 10,
   "metadata": {},
   "outputs": [
    {
     "name": "stderr",
     "output_type": "stream",
     "text": [
      "  2%|▏         | 2/100 [00:00<00:14,  6.95it/s]"
     ]
    },
    {
     "name": "stdout",
     "output_type": "stream",
     "text": [
      "ymin: 2962, ymax: 2971, xmin: 1186, xmax:1195\n",
      "ymin: 2950, ymax: 2959, xmin: 2664, xmax:2673\n"
     ]
    },
    {
     "name": "stderr",
     "output_type": "stream",
     "text": [
      "  9%|▉         | 9/100 [00:01<00:11,  7.95it/s]"
     ]
    },
    {
     "name": "stdout",
     "output_type": "stream",
     "text": [
      "ymin: 1394, ymax: 1402, xmin: 2256, xmax:2264\n",
      "ymin: 1935, ymax: 1943, xmin: 1525, xmax:1533\n"
     ]
    },
    {
     "name": "stderr",
     "output_type": "stream",
     "text": [
      "\r",
      " 11%|█         | 11/100 [00:01<00:10,  8.74it/s]"
     ]
    },
    {
     "name": "stdout",
     "output_type": "stream",
     "text": [
      "ymin: 2979, ymax: 2986, xmin: 1952, xmax:1959\n",
      "ymin: 817, ymax: 824, xmin: 2504, xmax:2511\n"
     ]
    },
    {
     "name": "stderr",
     "output_type": "stream",
     "text": [
      " 14%|█▍        | 14/100 [00:01<00:11,  7.37it/s]"
     ]
    },
    {
     "name": "stdout",
     "output_type": "stream",
     "text": [
      "ymin: 2686, ymax: 2695, xmin: 1682, xmax:1691\n"
     ]
    },
    {
     "name": "stderr",
     "output_type": "stream",
     "text": [
      " 18%|█▊        | 18/100 [00:02<00:12,  6.62it/s]"
     ]
    },
    {
     "name": "stdout",
     "output_type": "stream",
     "text": [
      "ymin: 2942, ymax: 2949, xmin: 750, xmax:757\n",
      "ymin: 2983, ymax: 2990, xmin: 1044, xmax:1051\n"
     ]
    },
    {
     "name": "stderr",
     "output_type": "stream",
     "text": [
      " 24%|██▍       | 24/100 [00:03<00:09,  7.96it/s]"
     ]
    },
    {
     "name": "stdout",
     "output_type": "stream",
     "text": [
      "ymin: 2951, ymax: 2959, xmin: 206, xmax:214\n"
     ]
    },
    {
     "name": "stderr",
     "output_type": "stream",
     "text": [
      " 29%|██▉       | 29/100 [00:03<00:09,  7.37it/s]"
     ]
    },
    {
     "name": "stdout",
     "output_type": "stream",
     "text": [
      "ymin: 2878, ymax: 2886, xmin: 1502, xmax:1510\n"
     ]
    },
    {
     "name": "stderr",
     "output_type": "stream",
     "text": [
      " 32%|███▏      | 32/100 [00:04<00:08,  8.39it/s]"
     ]
    },
    {
     "name": "stdout",
     "output_type": "stream",
     "text": [
      "ymin: 2993, ymax: 3001, xmin: 208, xmax:216\n"
     ]
    },
    {
     "name": "stderr",
     "output_type": "stream",
     "text": [
      "\r",
      " 33%|███▎      | 33/100 [00:04<00:08,  7.92it/s]"
     ]
    },
    {
     "name": "stdout",
     "output_type": "stream",
     "text": [
      "ymin: 2969, ymax: 2978, xmin: 2597, xmax:2606\n",
      "ymin: 2945, ymax: 2952, xmin: 1798, xmax:1805\n",
      "ymin: 2896, ymax: 2905, xmin: 2564, xmax:2573\n",
      "ymin: 2983, ymax: 2992, xmin: 2789, xmax:2798\n",
      "ymin: 2905, ymax: 2913, xmin: 152, xmax:160\n"
     ]
    },
    {
     "name": "stderr",
     "output_type": "stream",
     "text": [
      " 37%|███▋      | 37/100 [00:04<00:07,  8.41it/s]"
     ]
    },
    {
     "name": "stdout",
     "output_type": "stream",
     "text": [
      "ymin: 1230, ymax: 1238, xmin: 827, xmax:835\n",
      "ymin: 2991, ymax: 2998, xmin: 170, xmax:177\n"
     ]
    },
    {
     "name": "stderr",
     "output_type": "stream",
     "text": [
      " 40%|████      | 40/100 [00:05<00:07,  7.80it/s]"
     ]
    },
    {
     "name": "stdout",
     "output_type": "stream",
     "text": [
      "ymin: 2939, ymax: 2946, xmin: 1896, xmax:1903\n"
     ]
    },
    {
     "name": "stderr",
     "output_type": "stream",
     "text": [
      "\r",
      " 42%|████▏     | 42/100 [00:05<00:07,  8.24it/s]"
     ]
    },
    {
     "name": "stdout",
     "output_type": "stream",
     "text": [
      "ymin: 835, ymax: 842, xmin: 261, xmax:268\n",
      "ymin: 888, ymax: 896, xmin: 180, xmax:188\n"
     ]
    },
    {
     "name": "stderr",
     "output_type": "stream",
     "text": [
      "\r",
      " 44%|████▍     | 44/100 [00:05<00:06,  8.88it/s]"
     ]
    },
    {
     "name": "stdout",
     "output_type": "stream",
     "text": [
      "ymin: 2975, ymax: 2982, xmin: 961, xmax:968\n",
      "ymin: 310, ymax: 318, xmin: 409, xmax:417\n",
      "ymin: 257, ymax: 266, xmin: 225, xmax:234\n",
      "ymin: 1386, ymax: 1393, xmin: 1942, xmax:1949\n",
      "ymin: 2899, ymax: 2908, xmin: 315, xmax:324\n",
      "ymin: 2914, ymax: 2922, xmin: 1910, xmax:1918\n",
      "ymin: 2954, ymax: 2961, xmin: 687, xmax:694\n"
     ]
    },
    {
     "name": "stderr",
     "output_type": "stream",
     "text": [
      " 46%|████▌     | 46/100 [00:05<00:06,  8.30it/s]"
     ]
    },
    {
     "name": "stdout",
     "output_type": "stream",
     "text": [
      "ymin: 1866, ymax: 1874, xmin: 2682, xmax:2690\n",
      "ymin: 2986, ymax: 2994, xmin: 2229, xmax:2237\n"
     ]
    },
    {
     "name": "stderr",
     "output_type": "stream",
     "text": [
      " 48%|████▊     | 48/100 [00:06<00:06,  7.73it/s]"
     ]
    },
    {
     "name": "stdout",
     "output_type": "stream",
     "text": [
      "ymin: 2988, ymax: 2997, xmin: 2937, xmax:2946\n"
     ]
    },
    {
     "name": "stderr",
     "output_type": "stream",
     "text": [
      " 51%|█████     | 51/100 [00:06<00:05,  9.37it/s]"
     ]
    },
    {
     "name": "stdout",
     "output_type": "stream",
     "text": [
      "ymin: 2974, ymax: 2982, xmin: 1254, xmax:1262\n",
      "ymin: 2897, ymax: 2906, xmin: 2835, xmax:2844\n"
     ]
    },
    {
     "name": "stderr",
     "output_type": "stream",
     "text": [
      " 54%|█████▍    | 54/100 [00:06<00:05,  8.87it/s]"
     ]
    },
    {
     "name": "stdout",
     "output_type": "stream",
     "text": [
      "ymin: 2994, ymax: 3003, xmin: 1721, xmax:1730\n",
      "ymin: 2990, ymax: 2998, xmin: 1212, xmax:1220\n",
      "ymin: 1897, ymax: 1906, xmin: 302, xmax:311\n",
      "ymin: 2885, ymax: 2894, xmin: 1053, xmax:1062\n",
      "ymin: 1822, ymax: 1830, xmin: 2569, xmax:2577\n",
      "ymin: 2895, ymax: 2902, xmin: 2307, xmax:2314\n"
     ]
    },
    {
     "name": "stderr",
     "output_type": "stream",
     "text": [
      " 58%|█████▊    | 58/100 [00:07<00:05,  7.72it/s]"
     ]
    },
    {
     "name": "stdout",
     "output_type": "stream",
     "text": [
      "ymin: 2929, ymax: 2938, xmin: 332, xmax:341\n",
      "ymin: 2724, ymax: 2733, xmin: 1833, xmax:1842\n"
     ]
    },
    {
     "name": "stderr",
     "output_type": "stream",
     "text": [
      "\r",
      " 60%|██████    | 60/100 [00:07<00:04,  8.94it/s]"
     ]
    },
    {
     "name": "stdout",
     "output_type": "stream",
     "text": [
      "ymin: 2932, ymax: 2941, xmin: 226, xmax:235\n",
      "ymin: 401, ymax: 408, xmin: 1244, xmax:1251\n"
     ]
    },
    {
     "name": "stderr",
     "output_type": "stream",
     "text": [
      "\r",
      " 61%|██████    | 61/100 [00:07<00:04,  8.87it/s]"
     ]
    },
    {
     "name": "stdout",
     "output_type": "stream",
     "text": [
      "ymin: 2952, ymax: 2960, xmin: 2650, xmax:2658\n",
      "ymin: 2956, ymax: 2963, xmin: 1245, xmax:1252\n",
      "ymin: 2939, ymax: 2946, xmin: 1652, xmax:1659\n"
     ]
    },
    {
     "name": "stderr",
     "output_type": "stream",
     "text": [
      " 65%|██████▌   | 65/100 [00:08<00:04,  7.66it/s]"
     ]
    },
    {
     "name": "stdout",
     "output_type": "stream",
     "text": [
      "ymin: 1868, ymax: 1876, xmin: 1675, xmax:1683\n"
     ]
    },
    {
     "name": "stderr",
     "output_type": "stream",
     "text": [
      " 67%|██████▋   | 67/100 [00:08<00:04,  7.51it/s]"
     ]
    },
    {
     "name": "stdout",
     "output_type": "stream",
     "text": [
      "ymin: 2907, ymax: 2916, xmin: 2771, xmax:2780\n",
      "ymin: 1841, ymax: 1849, xmin: 2023, xmax:2031\n",
      "ymin: 2136, ymax: 2145, xmin: 1195, xmax:1204\n"
     ]
    },
    {
     "name": "stderr",
     "output_type": "stream",
     "text": [
      " 70%|███████   | 70/100 [00:08<00:04,  7.04it/s]"
     ]
    },
    {
     "name": "stdout",
     "output_type": "stream",
     "text": [
      "ymin: 2986, ymax: 2993, xmin: 829, xmax:836\n"
     ]
    },
    {
     "name": "stderr",
     "output_type": "stream",
     "text": [
      " 72%|███████▏  | 72/100 [00:09<00:03,  7.24it/s]"
     ]
    },
    {
     "name": "stdout",
     "output_type": "stream",
     "text": [
      "ymin: 2981, ymax: 2988, xmin: 1958, xmax:1965\n",
      "ymin: 2950, ymax: 2958, xmin: 2437, xmax:2445\n",
      "ymin: 2922, ymax: 2929, xmin: 633, xmax:640\n"
     ]
    },
    {
     "name": "stderr",
     "output_type": "stream",
     "text": [
      " 75%|███████▌  | 75/100 [00:09<00:02,  8.67it/s]"
     ]
    },
    {
     "name": "stdout",
     "output_type": "stream",
     "text": [
      "ymin: 2950, ymax: 2958, xmin: 447, xmax:455\n"
     ]
    },
    {
     "name": "stderr",
     "output_type": "stream",
     "text": [
      " 79%|███████▉  | 79/100 [00:09<00:02,  8.66it/s]"
     ]
    },
    {
     "name": "stdout",
     "output_type": "stream",
     "text": [
      "ymin: 1783, ymax: 1791, xmin: 2224, xmax:2232\n"
     ]
    },
    {
     "name": "stderr",
     "output_type": "stream",
     "text": [
      "\r",
      " 80%|████████  | 80/100 [00:10<00:02,  8.39it/s]"
     ]
    },
    {
     "name": "stdout",
     "output_type": "stream",
     "text": [
      "ymin: 704, ymax: 712, xmin: 2625, xmax:2633\n",
      "ymin: 604, ymax: 611, xmin: 1460, xmax:1467\n",
      "ymin: 819, ymax: 827, xmin: 2826, xmax:2834\n",
      "ymin: 665, ymax: 673, xmin: 2790, xmax:2798\n",
      "ymin: 641, ymax: 649, xmin: 699, xmax:707\n",
      "ymin: 1111, ymax: 1119, xmin: 1371, xmax:1379\n",
      "ymin: 1183, ymax: 1192, xmin: 1968, xmax:1977\n"
     ]
    },
    {
     "name": "stderr",
     "output_type": "stream",
     "text": [
      " 84%|████████▍ | 84/100 [00:10<00:01, 10.33it/s]"
     ]
    },
    {
     "name": "stdout",
     "output_type": "stream",
     "text": [
      "ymin: 507, ymax: 515, xmin: 482, xmax:490\n",
      "ymin: 2821, ymax: 2828, xmin: 2739, xmax:2746\n"
     ]
    },
    {
     "name": "stderr",
     "output_type": "stream",
     "text": [
      "\r",
      " 86%|████████▌ | 86/100 [00:10<00:01,  9.98it/s]"
     ]
    },
    {
     "name": "stdout",
     "output_type": "stream",
     "text": [
      "ymin: 305, ymax: 314, xmin: 1333, xmax:1342\n",
      "ymin: 2988, ymax: 2995, xmin: 1425, xmax:1432\n",
      "ymin: 2987, ymax: 2995, xmin: 2929, xmax:2937\n"
     ]
    },
    {
     "name": "stderr",
     "output_type": "stream",
     "text": [
      " 90%|█████████ | 90/100 [00:11<00:01,  8.77it/s]"
     ]
    },
    {
     "name": "stdout",
     "output_type": "stream",
     "text": [
      "ymin: 539, ymax: 547, xmin: 1966, xmax:1974\n",
      "ymin: 175, ymax: 182, xmin: 2072, xmax:2079\n"
     ]
    },
    {
     "name": "stderr",
     "output_type": "stream",
     "text": [
      "\r",
      " 91%|█████████ | 91/100 [00:11<00:01,  8.25it/s]"
     ]
    },
    {
     "name": "stdout",
     "output_type": "stream",
     "text": [
      "ymin: 1122, ymax: 1129, xmin: 266, xmax:273\n",
      "ymin: 2874, ymax: 2883, xmin: 2764, xmax:2773\n",
      "ymin: 224, ymax: 232, xmin: 2763, xmax:2771\n",
      "ymin: 618, ymax: 625, xmin: 408, xmax:415\n"
     ]
    },
    {
     "name": "stderr",
     "output_type": "stream",
     "text": [
      " 95%|█████████▌| 95/100 [00:11<00:00,  8.40it/s]"
     ]
    },
    {
     "name": "stdout",
     "output_type": "stream",
     "text": [
      "ymin: 2008, ymax: 2017, xmin: 687, xmax:696\n",
      "ymin: 1216, ymax: 1223, xmin: 1548, xmax:1555\n"
     ]
    },
    {
     "name": "stderr",
     "output_type": "stream",
     "text": [
      " 98%|█████████▊| 98/100 [00:12<00:00,  7.37it/s]"
     ]
    },
    {
     "name": "stdout",
     "output_type": "stream",
     "text": [
      "ymin: 518, ymax: 527, xmin: 2954, xmax:2963\n",
      "ymin: 2358, ymax: 2366, xmin: 598, xmax:606\n",
      "ymin: 2279, ymax: 2287, xmin: 829, xmax:837\n"
     ]
    },
    {
     "name": "stderr",
     "output_type": "stream",
     "text": [
      "100%|██████████| 100/100 [00:12<00:00,  8.09it/s]\n"
     ]
    }
   ],
   "source": [
    "df = pd.DataFrame()\n",
    "\n",
    "for i in tqdm(range(1, len(y['data']), 2)):\n",
    "    \n",
    "    # Get wanted filename index\n",
    "    index = int(i/2)\n",
    "    \n",
    "    boxes = pd.read_csv(f\"{team_6_dir}/data/astroids_{npz_index}_{index}.csv\")\n",
    "    image = Image.open(f\"{team_6_dir}/data/astroids_{npz_index}_{index}.jpg\").convert(\"L\")\n",
    "\n",
    "    image = np.array(image)\n",
    "    \n",
    "    offset = 47\n",
    "    \n",
    "    df[\"xmin\"] = boxes[\"xmin\"] + offset\n",
    "    df[\"ymin\"] = boxes[\"ymin\"] + offset\n",
    "    df[\"xmax\"] = boxes[\"xmax\"] - offset\n",
    "    df[\"ymax\"] = boxes[\"ymax\"] - offset\n",
    "    \n",
    "    mask = df.apply(lambda b : isValidBoundingBox(b), axis=1)\n",
    "    df = boxes.loc[mask]\n",
    "    \n",
    "    # Save dataframe to file\n",
    "    # Overwrite:\n",
    "    df.to_csv(f\"{team_6_dir}/data/astroids_{npz_index}_{index}.csv\", index=False)\n",
    "    # NewFile:\n",
    "    #df.to_csv(f\"{team_6_dir}/data/astroids_cleaned_{npz_index}_{index}.csv\", index=False)\n",
    "    \n",
    "    # Clear dataframe\n",
    "    df = df.iloc[0:0]"
   ]
  },
  {
   "cell_type": "code",
   "execution_count": null,
   "metadata": {},
   "outputs": [],
   "source": [
    "\"\"\" Generate tensorflow.csv containing all bounding boxes\n",
    "filename,width,height,class,xmin,ymin,xmax,ymax\n",
    "\"\"\"\n",
    "# Generate tensorflow.csv containing all bounding boxes\n",
    "#filename,width,height,class,xmin,ymin,xmax,ymax\n",
    "\n",
    "df = pd.DataFrame(columns=[\"filename\", \"width\", \"height\", \"class\", \"xmin\", \"xmax\", \"ymin\", \"ymax\"])\n",
    "\n",
    "# Possibly add for-loop of other npz files\n",
    "for i in range(1, len(y['data']), 2):\n",
    "    \n",
    "    # Get wanted filename index\n",
    "    index = int((i+1)/2)\n",
    "    \n",
    "    img_file = f\"{team_6_dir}/data/astroids_{npz_index}_{index}.jpg\"\n",
    "    \n",
    "    if not os.path.exists(img_file):\n",
    "        continue\n",
    "    \n",
    "    width, height = Image.open(img_file).size\n",
    "    \n",
    "    # Add all boxes in image to dataframe\n",
    "    for _,row in y['data'][i]['box'].iteritems():\n",
    "        df = df.append({\n",
    "                \"filename\": img_file,\n",
    "                \"width\": width, \"height\": height, \n",
    "                \"class\": \"AST\",\n",
    "                \"xmin\": row.xmin, \"xmax\": row.xmax, \n",
    "                \"ymin\": row.ymin, \"ymax\": row.ymax}, ignore_index=True)\n",
    "        \n",
    "# Save dataframe to file\n",
    "df.to_csv(f\"{team_6_dir}/data/tensorflow.csv\", index=False)"
   ]
  },
  {
   "cell_type": "code",
   "execution_count": null,
   "metadata": {},
   "outputs": [],
   "source": [
    "\"\"\" View some files with Ground Truth boxes labeled\n",
    "\"\"\"\n",
    "index = 0\n",
    "i = index * 2 + 1\n",
    "#for i in tqdm(range(1, len(y['data']), 2)):\n",
    "    \n",
    "# Get wanted filename index\n",
    "index = int(i/2)\n",
    "image = X[index]\n",
    "\n",
    "fig = plt.figure(figsize=(40, 40))\n",
    "\n",
    "#add axes to the image\n",
    "ax = fig.add_axes([0,0,1,1])\n",
    "plt.imshow(image, cmap=\"Greys_r\")\n",
    "\n",
    "ground_truth = y['data'][i]['box']\n",
    "for box in ground_truth:  \n",
    "    xmin = box.xmin\n",
    "    ymin = box.ymin\n",
    "    xmax = box.xmax\n",
    "    ymax = box.ymax\n",
    "\n",
    "    width = xmax - xmin\n",
    "    height = ymax - ymin\n",
    "\n",
    "    # assign different color to different classes of objects  \n",
    "    edgecolor = 'lime'\n",
    "    ax.annotate('Ast', xy=(xmax-40,ymin+20))\n",
    "\n",
    "    # add bounding boxes to the image\n",
    "    rect = patches.Rectangle((xmin,ymin), width, height, edgecolor = edgecolor, facecolor = 'none', lw=4)\n",
    "    ax.add_patch(rect)\n",
    "\n",
    "\n",
    "plt.savefig(f\"{save_dir}/asteroid_ground_truths_{index}\", format='png')"
   ]
  }
 ],
 "metadata": {
  "kernelspec": {
   "display_name": "ast_ethan_new",
   "language": "python",
   "name": "ast_ethan_new"
  },
  "language_info": {
   "codemirror_mode": {
    "name": "ipython",
    "version": 3
   },
   "file_extension": ".py",
   "mimetype": "text/x-python",
   "name": "python",
   "nbconvert_exporter": "python",
   "pygments_lexer": "ipython3",
   "version": "3.8.5"
  }
 },
 "nbformat": 4,
 "nbformat_minor": 2
}
